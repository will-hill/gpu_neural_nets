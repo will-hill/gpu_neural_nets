{
 "cells": [
  {
   "cell_type": "markdown",
   "metadata": {},
   "source": [
    "### video"
   ]
  },
  {
   "cell_type": "code",
   "execution_count": 1,
   "metadata": {},
   "outputs": [
    {
     "name": "stdout",
     "output_type": "stream",
     "text": [
      "sample_contour3.mpg rabbit.mpg          desert.mp4          desert_1.mp4\r\n",
      "sample.mpg          sample_faces5.mpg   \u001b[31mpred_feed.vob\u001b[m\u001b[m\r\n",
      "sample_motion6.mpg  sample_peds.mp4     sao_paulo_1.mpg\r\n"
     ]
    }
   ],
   "source": [
    "!ls -Sr ~/videos\n",
    "#VIDEO = 'sample_peds.mp4'\n",
    "VIDEO = 'pred_feed.vob'\n",
    "# VIDEO = 'desert.mp4'\n",
    "# VIDEO = 'rabbit.mpg'\n",
    "# VIDEO = 'sample_faces5.mpg'\n",
    "# VIDEO = 'sao_paulo_1.mpg'\n",
    "# VIDEO = 'desert_1.mp4'\n",
    "# VIDEO = 'sample.mpg'\n",
    "# VIDEO = 'sample_motion6.mpg'\n",
    "\n",
    "# VIDEO = 'sample_contour3.mpg' \n",
    "\n",
    "PATH_TO_VIDEO = '/Users/will/videos/' + VIDEO"
   ]
  },
  {
   "cell_type": "markdown",
   "metadata": {},
   "source": [
    "### model"
   ]
  },
  {
   "cell_type": "code",
   "execution_count": 8,
   "metadata": {},
   "outputs": [],
   "source": [
    "# model\n",
    "MODEL = '/Users/will/git/python-streams-events/src/ssd_mobilenet_v1_coco_2017_11_17/frozen_inference_graph.pb'\n",
    "# MODEL = '/Users/will/git/models/research/gan/mnist/data/classify_mnist_graph_def.pb'\n",
    "# MODEL = '/Users/will/git/models/research/object_detection/test_ckpt/ssd_inception_v2.pb'\n",
    "# MODEL = '/Users/will/git/models/samples/languages/java/training/model/graph.pb'\n",
    "# MODEL = '/Users/will/git/python-streams-events/src/ssd_mobilenet_v1_coco_2017_11_17/frozen_inference_graph.pb'"
   ]
  },
  {
   "cell_type": "markdown",
   "metadata": {},
   "source": [
    "### params"
   ]
  },
  {
   "cell_type": "code",
   "execution_count": 9,
   "metadata": {},
   "outputs": [],
   "source": [
    "# objects\n",
    "NUM_CLASSES = 100\n",
    "PATH_TO_LABELS = '/Users/will/git/models/research/object_detection/data/'+'mscoco_label_map.pbtxt'\n",
    "\n",
    "# performance\n",
    "LINE_THICKNESS = 1\n",
    "PROBABILITY_THRESHHOLD = 0.10\n",
    "RECORDING_FPS = 15"
   ]
  },
  {
   "cell_type": "markdown",
   "metadata": {},
   "source": [
    "### imports"
   ]
  },
  {
   "cell_type": "code",
   "execution_count": 10,
   "metadata": {},
   "outputs": [
    {
     "name": "stdout",
     "output_type": "stream",
     "text": [
      "opencv ver:  3.4.1\n"
     ]
    }
   ],
   "source": [
    "import tensorflow as tf\n",
    "import numpy as np\n",
    "import cv2\n",
    "print('opencv ver: ', cv2.__version__)\n",
    "\n",
    "import sys\n",
    "import os\n",
    "from collections import Counter\n",
    "\n",
    "sys.path.append(\"/Users/will/git/models/research\")\n",
    "sys.path.append(\"/Users/will/git/models/research/object_detection\")\n",
    "from utils import label_map_util\n",
    "from utils import visualization_utils as vis_util"
   ]
  },
  {
   "cell_type": "markdown",
   "metadata": {},
   "source": [
    "### object detect"
   ]
  },
  {
   "cell_type": "code",
   "execution_count": 11,
   "metadata": {},
   "outputs": [],
   "source": [
    "def process_video(video, model, labels, num_classes, line_thickness, probability_cutoff, fps):\n",
    "    \n",
    "    object_counts = []\n",
    "    cap = cv2.VideoCapture(video)\n",
    "    # codec = cv2.VideoWriter_fourcc('m', 'p', '4', 'v')\n",
    "    # vidWriter = cv2.VideoWriter('output_path', codec, fps, (int(cap.get(3)), int(cap.get(4))))\n",
    "\n",
    "    # Load a (frozen) Tensorflow model into memory.\n",
    "    detection_graph = tf.Graph()\n",
    "    with detection_graph.as_default():\n",
    "        od_graph_def = tf.GraphDef()\n",
    "        with tf.gfile.GFile(model, 'rb') as fid:\n",
    "            serialized_graph = fid.read()\n",
    "            od_graph_def.ParseFromString(serialized_graph)\n",
    "            tf.import_graph_def(od_graph_def, name='')\n",
    "    \n",
    "    # Label maps map indices to category names, so that when our convolution network predicts `5`, we know that this corresponds to `airplane`.  Here we use internal utility functions, but anything that returns a dictionary mapping integers to appropriate string labels would be fine\n",
    "    label_map = label_map_util.load_labelmap(labels)\n",
    "    categories = label_map_util.convert_label_map_to_categories(label_map, max_num_classes=NUM_CLASSES,use_display_name=True)\n",
    "    category_index = label_map_util.create_category_index(categories)\n",
    "    \n",
    "    with detection_graph.as_default():\n",
    "        with tf.Session(graph=detection_graph) as tf_sess:\n",
    "            ret = True\n",
    "            while (ret):\n",
    "                ret, image_np = cap.read()\n",
    "                if (ret == False):\n",
    "                    break\n",
    "\n",
    "                image_tensor = detection_graph.get_tensor_by_name('image_tensor:0')\n",
    "                detection_boxes = detection_graph.get_tensor_by_name('detection_boxes:0')\n",
    "                detection_scores = detection_graph.get_tensor_by_name('detection_scores:0')\n",
    "                detection_classes = detection_graph.get_tensor_by_name('detection_classes:0')\n",
    "                num_detections = detection_graph.get_tensor_by_name('num_detections:0')\n",
    "                image_np_expanded = np.expand_dims(image_np, axis=0)\n",
    "\n",
    "                # Actual detection.\n",
    "                fd = {image_tensor: image_np_expanded}\n",
    "                detection_info = [detection_boxes, detection_scores, detection_classes, num_detections]\n",
    "                (boxes, scores, classes, num) = tf_sess.run(detection_info, fd)\n",
    "                # Visualization of the results of a detection\n",
    "                vis_util.visualize_boxes_and_labels_on_image_array(\n",
    "                    image_np,\n",
    "                    np.squeeze(boxes),\n",
    "                    np.squeeze(classes).astype(np.int32),\n",
    "                    np.squeeze(scores),\n",
    "                    category_index,\n",
    "                    use_normalized_coordinates=True,\n",
    "                    line_thickness = LINE_THICKNESS\n",
    "                )\n",
    "\n",
    "                # get list of objects and their counts\n",
    "                len_sqzd_scrs =  len(list(filter(lambda x: x > probability_cutoff, np.squeeze(scores))))\n",
    "                obj_cnt = [(category_index.get(tpl[0])['name'], tpl[1]) for tpl in Counter(np.squeeze(classes)[:len_sqzd_scrs]).items()]\n",
    "\n",
    "                object_counts.append(obj_cnt)\n",
    "\n",
    "                # vidWriter.write(image_np)\n",
    "                cv2.imshow('live_detection', image_np)\n",
    "                if cv2.waitKey(25) & 0xFF == ord('q'):\n",
    "                    exit(0)                "
   ]
  },
  {
   "cell_type": "markdown",
   "metadata": {},
   "source": [
    "### EXPERIMENT"
   ]
  },
  {
   "cell_type": "code",
   "execution_count": 12,
   "metadata": {},
   "outputs": [],
   "source": [
    "def process_video(video, MODEL, labels, num_classes, line_thickness, probability_cutoff, fps):\n",
    "    \n",
    "    object_counts = []\n",
    "    cap = cv2.VideoCapture(video)\n",
    "    # codec = cv2.VideoWriter_fourcc('m', 'p', '4', 'v')\n",
    "    # vidWriter = cv2.VideoWriter('output_path', codec, fps, (int(cap.get(3)), int(cap.get(4))))\n",
    "\n",
    "    # Load a (frozen) Tensorflow model into memory.\n",
    "    detection_graph = tf.Graph()\n",
    "    with detection_graph.as_default():\n",
    "        od_graph_def = tf.GraphDef()\n",
    "        with tf.gfile.GFile(MODEL, 'rb') as fid:\n",
    "            serialized_graph = fid.read()\n",
    "            od_graph_def.ParseFromString(serialized_graph)\n",
    "            tf.import_graph_def(od_graph_def, name='')\n",
    "    \n",
    "    # Label maps map indices to category names, so that when our convolution network predicts `5`, we know that this corresponds to `airplane`.  Here we use internal utility functions, but anything that returns a dictionary mapping integers to appropriate string labels would be fine\n",
    "    label_map = label_map_util.load_labelmap(labels)\n",
    "    categories = label_map_util.convert_label_map_to_categories(label_map, max_num_classes=NUM_CLASSES,use_display_name=True)\n",
    "    category_index = label_map_util.create_category_index(categories)\n",
    "    \n",
    "    with tf.Session(graph=detection_graph) as tf_sess:\n",
    "        ret = True\n",
    "        while (ret):\n",
    "            ret, image_np = cap.read()\n",
    "            if (ret == False):\n",
    "                break\n",
    "\n",
    "            image_tensor = detection_graph.get_tensor_by_name('image_tensor:0')\n",
    "            detection_boxes = detection_graph.get_tensor_by_name('detection_boxes:0')\n",
    "            detection_scores = detection_graph.get_tensor_by_name('detection_scores:0')\n",
    "            detection_classes = detection_graph.get_tensor_by_name('detection_classes:0')\n",
    "            num_detections = detection_graph.get_tensor_by_name('num_detections:0')\n",
    "            image_np_expanded = np.expand_dims(image_np, axis=0)\n",
    "\n",
    "            # Actual detection.\n",
    "            fd = {image_tensor: image_np_expanded}\n",
    "            detection_info = [detection_boxes, detection_scores, detection_classes, num_detections]\n",
    "            (boxes, scores, classes, num) = tf_sess.run(detection_info, fd)\n",
    "            # Visualization of the results of a detection\n",
    "            vis_util.visualize_boxes_and_labels_on_image_array(\n",
    "                image_np,\n",
    "                np.squeeze(boxes),\n",
    "                np.squeeze(classes).astype(np.int32),\n",
    "                np.squeeze(scores),\n",
    "                category_index,\n",
    "                use_normalized_coordinates=True,\n",
    "                line_thickness = LINE_THICKNESS\n",
    "            )\n",
    "\n",
    "            # get list of objects and their counts\n",
    "            len_sqzd_scrs =  len(list(filter(lambda x: x > probability_cutoff, np.squeeze(scores))))\n",
    "            obj_cnt = [(category_index.get(tpl[0])['name'], tpl[1]) for tpl in Counter(np.squeeze(classes)[:len_sqzd_scrs]).items()]\n",
    "\n",
    "            object_counts.append(obj_cnt)\n",
    "\n",
    "            # vidWriter.write(image_np)\n",
    "            cv2.imshow('live_detection', image_np)\n",
    "            if cv2.waitKey(25) & 0xFF == ord('q'):\n",
    "                exit(0)                "
   ]
  },
  {
   "cell_type": "code",
   "execution_count": null,
   "metadata": {},
   "outputs": [],
   "source": [
    "process_video(\n",
    "    PATH_TO_VIDEO, \n",
    "    MODEL, \n",
    "    PATH_TO_LABELS, \n",
    "    NUM_CLASSES, \n",
    "    LINE_THICKNESS, \n",
    "    PROBABILITY_THRESHHOLD, \n",
    "    RECORDING_FPS)"
   ]
  },
  {
   "cell_type": "code",
   "execution_count": null,
   "metadata": {},
   "outputs": [],
   "source": []
  }
 ],
 "metadata": {
  "kernelspec": {
   "display_name": "Python 3",
   "language": "python",
   "name": "python3"
  },
  "language_info": {
   "codemirror_mode": {
    "name": "ipython",
    "version": 3
   },
   "file_extension": ".py",
   "mimetype": "text/x-python",
   "name": "python",
   "nbconvert_exporter": "python",
   "pygments_lexer": "ipython3",
   "version": "3.6.6"
  }
 },
 "nbformat": 4,
 "nbformat_minor": 2
}
