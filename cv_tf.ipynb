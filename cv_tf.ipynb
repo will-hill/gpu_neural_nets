{
 "cells": [
  {
   "cell_type": "markdown",
   "metadata": {},
   "source": [
    "### video"
   ]
  },
  {
   "cell_type": "code",
   "execution_count": 1,
   "metadata": {},
   "outputs": [
    {
     "name": "stdout",
     "output_type": "stream",
     "text": [
      "sample_contour3.mpg rabbit.mpg          desert.mp4          desert_1.mp4\r\n",
      "sample.mpg          sample_faces5.mpg   \u001b[31mpred_feed.vob\u001b[m\u001b[m\r\n",
      "sample_motion6.mpg  sample_peds.mp4     sao_paulo_1.mpg\r\n"
     ]
    }
   ],
   "source": [
    "!ls -Sr ~/videos\n",
    "#VIDEO = 'sample_peds.mp4'\n",
    "VIDEO = 'pred_feed.vob'\n",
    "# VIDEO = 'desert.mp4'\n",
    "# VIDEO = 'rabbit.mpg'\n",
    "# VIDEO = 'sample_faces5.mpg'\n",
    "# VIDEO = 'sao_paulo_1.mpg'\n",
    "# VIDEO = 'desert_1.mp4'\n",
    "# VIDEO = 'sample.mpg'\n",
    "# VIDEO = 'sample_motion6.mpg'\n",
    "# VIDEO = 'sample_contour3.mpg' \n",
    "PATH_TO_VIDEO = '/Users/will/videos/' + VIDEO"
   ]
  },
  {
   "cell_type": "markdown",
   "metadata": {},
   "source": [
    "### model"
   ]
  },
  {
   "cell_type": "code",
   "execution_count": 2,
   "metadata": {},
   "outputs": [],
   "source": [
    "# model\n",
    "MODEL = '/Users/will/git/python-streams-events/src/ssd_mobilenet_v1_coco_2017_11_17/frozen_inference_graph.pb'\n",
    "# MODEL = '/Users/will/git/models/research/gan/mnist/data/classify_mnist_graph_def.pb'\n",
    "# MODEL = '/Users/will/git/models/research/object_detection/test_ckpt/ssd_inception_v2.pb'\n",
    "# MODEL = '/Users/will/git/models/samples/languages/java/training/model/graph.pb'\n",
    "# MODEL = '/Users/will/git/python-streams-events/src/ssd_mobilenet_v1_coco_2017_11_17/frozen_inference_graph.pb'"
   ]
  },
  {
   "cell_type": "markdown",
   "metadata": {},
   "source": [
    "### params"
   ]
  },
  {
   "cell_type": "code",
   "execution_count": 22,
   "metadata": {},
   "outputs": [],
   "source": [
    "# objects\n",
    "NUM_CLASSES = 100\n",
    "PATH_TO_LABELS = '/Users/will/git/models/research/object_detection/data/'+'mscoco_label_map.pbtxt'\n",
    "\n",
    "# performance\n",
    "LINE_THICKNESS = 1\n",
    "PROBABILITY_THRESHHOLD = 0.10\n",
    "RECORDING_FPS = 15"
   ]
  },
  {
   "cell_type": "markdown",
   "metadata": {},
   "source": [
    "### object detector"
   ]
  },
  {
   "cell_type": "code",
   "execution_count": 25,
   "metadata": {},
   "outputs": [
    {
     "ename": "NameError",
     "evalue": "name 'cv2' is not defined",
     "output_type": "error",
     "traceback": [
      "\u001b[0;31m---------------------------------------------------------------------------\u001b[0m",
      "\u001b[0;31mNameError\u001b[0m                                 Traceback (most recent call last)",
      "\u001b[0;32m<ipython-input-25-38444e111c9e>\u001b[0m in \u001b[0;36m<module>\u001b[0;34m()\u001b[0m\n\u001b[1;32m     10\u001b[0m \u001b[0;34m\u001b[0m\u001b[0m\n\u001b[1;32m     11\u001b[0m \u001b[0mobject_counts\u001b[0m \u001b[0;34m=\u001b[0m \u001b[0;34m[\u001b[0m\u001b[0;34m]\u001b[0m\u001b[0;34m\u001b[0m\u001b[0m\n\u001b[0;32m---> 12\u001b[0;31m \u001b[0mcap\u001b[0m \u001b[0;34m=\u001b[0m \u001b[0mcv2\u001b[0m\u001b[0;34m.\u001b[0m\u001b[0mVideoCapture\u001b[0m\u001b[0;34m(\u001b[0m\u001b[0mvideo\u001b[0m\u001b[0;34m)\u001b[0m\u001b[0;34m\u001b[0m\u001b[0m\n\u001b[0m\u001b[1;32m     13\u001b[0m \u001b[0;31m# codec = cv2.VideoWriter_fourcc('m', 'p', '4', 'v')\u001b[0m\u001b[0;34m\u001b[0m\u001b[0;34m\u001b[0m\u001b[0m\n\u001b[1;32m     14\u001b[0m \u001b[0;31m# vidWriter = cv2.VideoWriter('output_path', codec, fps, (int(cap.get(3)), int(cap.get(4))))\u001b[0m\u001b[0;34m\u001b[0m\u001b[0;34m\u001b[0m\u001b[0m\n",
      "\u001b[0;31mNameError\u001b[0m: name 'cv2' is not defined"
     ]
    }
   ],
   "source": [
    "import tensorflow as tf\n",
    "import sys\n",
    "import os\n",
    "from collections import Counter\n",
    "\n",
    "sys.path.append(\"/Users/will/git/models/research\")\n",
    "sys.path.append(\"/Users/will/git/models/research/object_detection\")\n",
    "from utils import label_map_util\n",
    "from utils import visualization_utils as vis_util\n",
    "\n",
    "object_counts = []\n",
    "cap = cv2.VideoCapture(video)\n",
    "# codec = cv2.VideoWriter_fourcc('m', 'p', '4', 'v')\n",
    "# vidWriter = cv2.VideoWriter('output_path', codec, fps, (int(cap.get(3)), int(cap.get(4))))\n",
    "\n",
    "# Load a (frozen) Tensorflow model into memory.\n",
    "detection_graph = tf.Graph()\n",
    "with detection_graph.as_default():\n",
    "    od_graph_def = tf.GraphDef()\n",
    "    with tf.gfile.GFile(model, 'rb') as fid:\n",
    "        serialized_graph = fid.read()\n",
    "        od_graph_def.ParseFromString(serialized_graph)\n",
    "        tf.import_graph_def(od_graph_def, name='')\n",
    "\n",
    "# Label maps map indices to category names, so that when our convolution network predicts `5`, we know that this corresponds to `airplane`.  Here we use internal utility functions, but anything that returns a dictionary mapping integers to appropriate string labels would be fine\n",
    "label_map = label_map_util.load_labelmap(labels)\n",
    "categories = label_map_util.convert_label_map_to_categories(label_map, max_num_classes=NUM_CLASSES,use_display_name=True)\n",
    "category_index = label_map_util.create_category_index(categories)\n",
    "\n",
    "with detection_graph.as_default():\n",
    "    with tf.Session(graph=detection_graph) as tf_sess:\n",
    "        ret = True\n",
    "        while (ret):\n",
    "            ret, image_np = cap.read()\n",
    "            if (ret == False):\n",
    "                break\n",
    "\n",
    "            image_tensor = detection_graph.get_tensor_by_name('image_tensor:0')"
   ]
  },
  {
   "cell_type": "code",
   "execution_count": 26,
   "metadata": {},
   "outputs": [
    {
     "ename": "KeyError",
     "evalue": "\"The name 'detection_boxes:0' refers to a Tensor which does not exist. The operation, 'detection_boxes', does not exist in the graph.\"",
     "output_type": "error",
     "traceback": [
      "\u001b[0;31m---------------------------------------------------------------------------\u001b[0m",
      "\u001b[0;31mKeyError\u001b[0m                                  Traceback (most recent call last)",
      "\u001b[0;32m<ipython-input-26-48a2080ef89a>\u001b[0m in \u001b[0;36m<module>\u001b[0;34m()\u001b[0m\n\u001b[0;32m----> 1\u001b[0;31m \u001b[0mdetection_boxes\u001b[0m \u001b[0;34m=\u001b[0m \u001b[0mdetection_graph\u001b[0m\u001b[0;34m.\u001b[0m\u001b[0mget_tensor_by_name\u001b[0m\u001b[0;34m(\u001b[0m\u001b[0;34m'detection_boxes:0'\u001b[0m\u001b[0;34m)\u001b[0m\u001b[0;34m\u001b[0m\u001b[0m\n\u001b[0m\u001b[1;32m      2\u001b[0m \u001b[0mdetection_scores\u001b[0m \u001b[0;34m=\u001b[0m \u001b[0mdetection_graph\u001b[0m\u001b[0;34m.\u001b[0m\u001b[0mget_tensor_by_name\u001b[0m\u001b[0;34m(\u001b[0m\u001b[0;34m'detection_scores:0'\u001b[0m\u001b[0;34m)\u001b[0m\u001b[0;34m\u001b[0m\u001b[0m\n\u001b[1;32m      3\u001b[0m \u001b[0mdetection_classes\u001b[0m \u001b[0;34m=\u001b[0m \u001b[0mdetection_graph\u001b[0m\u001b[0;34m.\u001b[0m\u001b[0mget_tensor_by_name\u001b[0m\u001b[0;34m(\u001b[0m\u001b[0;34m'detection_classes:0'\u001b[0m\u001b[0;34m)\u001b[0m\u001b[0;34m\u001b[0m\u001b[0m\n\u001b[1;32m      4\u001b[0m \u001b[0mnum_detections\u001b[0m \u001b[0;34m=\u001b[0m \u001b[0mdetection_graph\u001b[0m\u001b[0;34m.\u001b[0m\u001b[0mget_tensor_by_name\u001b[0m\u001b[0;34m(\u001b[0m\u001b[0;34m'num_detections:0'\u001b[0m\u001b[0;34m)\u001b[0m\u001b[0;34m\u001b[0m\u001b[0m\n\u001b[1;32m      5\u001b[0m \u001b[0mimage_np_expanded\u001b[0m \u001b[0;34m=\u001b[0m \u001b[0mnp\u001b[0m\u001b[0;34m.\u001b[0m\u001b[0mexpand_dims\u001b[0m\u001b[0;34m(\u001b[0m\u001b[0mimage_np\u001b[0m\u001b[0;34m,\u001b[0m \u001b[0maxis\u001b[0m\u001b[0;34m=\u001b[0m\u001b[0;36m0\u001b[0m\u001b[0;34m)\u001b[0m\u001b[0;34m\u001b[0m\u001b[0m\n",
      "\u001b[0;32m~/anaconda3/envs/python-streams-events/lib/python3.6/site-packages/tensorflow/python/framework/ops.py\u001b[0m in \u001b[0;36mget_tensor_by_name\u001b[0;34m(self, name)\u001b[0m\n\u001b[1;32m   3764\u001b[0m       raise TypeError(\"Tensor names are strings (or similar), not %s.\" %\n\u001b[1;32m   3765\u001b[0m                       type(name).__name__)\n\u001b[0;32m-> 3766\u001b[0;31m     \u001b[0;32mreturn\u001b[0m \u001b[0mself\u001b[0m\u001b[0;34m.\u001b[0m\u001b[0mas_graph_element\u001b[0m\u001b[0;34m(\u001b[0m\u001b[0mname\u001b[0m\u001b[0;34m,\u001b[0m \u001b[0mallow_tensor\u001b[0m\u001b[0;34m=\u001b[0m\u001b[0;32mTrue\u001b[0m\u001b[0;34m,\u001b[0m \u001b[0mallow_operation\u001b[0m\u001b[0;34m=\u001b[0m\u001b[0;32mFalse\u001b[0m\u001b[0;34m)\u001b[0m\u001b[0;34m\u001b[0m\u001b[0m\n\u001b[0m\u001b[1;32m   3767\u001b[0m \u001b[0;34m\u001b[0m\u001b[0m\n\u001b[1;32m   3768\u001b[0m   \u001b[0;32mdef\u001b[0m \u001b[0m_get_tensor_by_tf_output\u001b[0m\u001b[0;34m(\u001b[0m\u001b[0mself\u001b[0m\u001b[0;34m,\u001b[0m \u001b[0mtf_output\u001b[0m\u001b[0;34m)\u001b[0m\u001b[0;34m:\u001b[0m\u001b[0;34m\u001b[0m\u001b[0m\n",
      "\u001b[0;32m~/anaconda3/envs/python-streams-events/lib/python3.6/site-packages/tensorflow/python/framework/ops.py\u001b[0m in \u001b[0;36mas_graph_element\u001b[0;34m(self, obj, allow_tensor, allow_operation)\u001b[0m\n\u001b[1;32m   3588\u001b[0m \u001b[0;34m\u001b[0m\u001b[0m\n\u001b[1;32m   3589\u001b[0m     \u001b[0;32mwith\u001b[0m \u001b[0mself\u001b[0m\u001b[0;34m.\u001b[0m\u001b[0m_lock\u001b[0m\u001b[0;34m:\u001b[0m\u001b[0;34m\u001b[0m\u001b[0m\n\u001b[0;32m-> 3590\u001b[0;31m       \u001b[0;32mreturn\u001b[0m \u001b[0mself\u001b[0m\u001b[0;34m.\u001b[0m\u001b[0m_as_graph_element_locked\u001b[0m\u001b[0;34m(\u001b[0m\u001b[0mobj\u001b[0m\u001b[0;34m,\u001b[0m \u001b[0mallow_tensor\u001b[0m\u001b[0;34m,\u001b[0m \u001b[0mallow_operation\u001b[0m\u001b[0;34m)\u001b[0m\u001b[0;34m\u001b[0m\u001b[0m\n\u001b[0m\u001b[1;32m   3591\u001b[0m \u001b[0;34m\u001b[0m\u001b[0m\n\u001b[1;32m   3592\u001b[0m   \u001b[0;32mdef\u001b[0m \u001b[0m_as_graph_element_locked\u001b[0m\u001b[0;34m(\u001b[0m\u001b[0mself\u001b[0m\u001b[0;34m,\u001b[0m \u001b[0mobj\u001b[0m\u001b[0;34m,\u001b[0m \u001b[0mallow_tensor\u001b[0m\u001b[0;34m,\u001b[0m \u001b[0mallow_operation\u001b[0m\u001b[0;34m)\u001b[0m\u001b[0;34m:\u001b[0m\u001b[0;34m\u001b[0m\u001b[0m\n",
      "\u001b[0;32m~/anaconda3/envs/python-streams-events/lib/python3.6/site-packages/tensorflow/python/framework/ops.py\u001b[0m in \u001b[0;36m_as_graph_element_locked\u001b[0;34m(self, obj, allow_tensor, allow_operation)\u001b[0m\n\u001b[1;32m   3630\u001b[0m           raise KeyError(\"The name %s refers to a Tensor which does not \"\n\u001b[1;32m   3631\u001b[0m                          \u001b[0;34m\"exist. The operation, %s, does not exist in the \"\u001b[0m\u001b[0;34m\u001b[0m\u001b[0m\n\u001b[0;32m-> 3632\u001b[0;31m                          \"graph.\" % (repr(name), repr(op_name)))\n\u001b[0m\u001b[1;32m   3633\u001b[0m         \u001b[0;32mtry\u001b[0m\u001b[0;34m:\u001b[0m\u001b[0;34m\u001b[0m\u001b[0m\n\u001b[1;32m   3634\u001b[0m           \u001b[0;32mreturn\u001b[0m \u001b[0mop\u001b[0m\u001b[0;34m.\u001b[0m\u001b[0moutputs\u001b[0m\u001b[0;34m[\u001b[0m\u001b[0mout_n\u001b[0m\u001b[0;34m]\u001b[0m\u001b[0;34m\u001b[0m\u001b[0m\n",
      "\u001b[0;31mKeyError\u001b[0m: \"The name 'detection_boxes:0' refers to a Tensor which does not exist. The operation, 'detection_boxes', does not exist in the graph.\""
     ]
    }
   ],
   "source": [
    "detection_boxes = detection_graph.get_tensor_by_name('detection_boxes:0')\n",
    "detection_scores = detection_graph.get_tensor_by_name('detection_scores:0')\n",
    "detection_classes = detection_graph.get_tensor_by_name('detection_classes:0')\n",
    "num_detections = detection_graph.get_tensor_by_name('num_detections:0')\n",
    "image_np_expanded = np.expand_dims(image_np, axis=0)\n",
    "\n",
    "# Actual detection.\n",
    "fd = {image_tensor: image_np_expanded}\n",
    "detection_info = [detection_boxes, detection_scores, detection_classes, num_detections]\n",
    "(boxes, scores, classes, num) = tf_sess.run(detection_info, fd)\n",
    "# Visualization of the results of a detection\n",
    "vis_util.visualize_boxes_and_labels_on_image_array(\n",
    "    image_np,\n",
    "    np.squeeze(boxes),\n",
    "    np.squeeze(classes).astype(np.int32),\n",
    "    np.squeeze(scores),\n",
    "    category_index,\n",
    "    use_normalized_coordinates=True,\n",
    "    line_thickness = LINE_THICKNESS\n",
    ")\n",
    "\n",
    "# get list of objects and their counts\n",
    "len_sqzd_scrs =  len(list(filter(lambda x: x > probability_cutoff, np.squeeze(scores))))\n",
    "obj_cnt = [(category_index.get(tpl[0])['name'], tpl[1]) for tpl in Counter(np.squeeze(classes)[:len_sqzd_scrs]).items()]\n",
    "\n",
    "object_counts.append(obj_cnt)\n",
    "\n",
    "# vidWriter.write(image_np)        "
   ]
  },
  {
   "cell_type": "markdown",
   "metadata": {},
   "source": [
    "### grab frame"
   ]
  },
  {
   "cell_type": "code",
   "execution_count": 27,
   "metadata": {
    "scrolled": true
   },
   "outputs": [
    {
     "name": "stdout",
     "output_type": "stream",
     "text": [
      "opencv ver:  3.4.1\n",
      "ttl frames:  1198\n",
      "ls: frame.jpg: No such file or directory\n",
      "Wed Jul 18 11:13:32 EDT 2018\n"
     ]
    }
   ],
   "source": [
    "import numpy as np\n",
    "import cv2\n",
    "print('opencv ver: ', cv2.__version__)\n",
    "\n",
    "# cap = cv2.VideoCapture(0)\n",
    "cap = cv2.VideoCapture(PATH_TO_VIDEO)\n",
    "\n",
    "total_frames = (int)(cap.get(7))\n",
    "print('ttl frames: ' , total_frames)\n",
    "\n",
    "!rm -rf frames ; mkdir frames\n",
    "for i in range(total_frames):\n",
    "        frame_to_cap = i\n",
    "        cap.set(1, frame_to_cap)\n",
    "        ret, frame = cap.read()\n",
    "                \n",
    "        \n",
    "        frame_name = 'frames/frame.'+str(i)+ '.jpg' \n",
    "        cv2.imwrite(frame_name,frame)\n",
    "# print(len(frame), ' x ', len(frame[0]))\n",
    "\n",
    "!ls -l frame.jpg\n",
    "!date"
   ]
  },
  {
   "cell_type": "markdown",
   "metadata": {},
   "source": [
    "<img src='frame.jpg'/>"
   ]
  },
  {
   "cell_type": "code",
   "execution_count": 28,
   "metadata": {},
   "outputs": [],
   "source": [
    "# model\n",
    "MODEL = '/Users/will/git/python-streams-events/src/ssd_mobilenet_v1_coco_2017_11_17/frozen_inference_graph.pb'\n",
    "# MODEL = '/Users/will/git/models/research/gan/mnist/data/classify_mnist_graph_def.pb'\n",
    "MODEL = '/Users/will/git/models/research/object_detection/test_ckpt/ssd_inception_v2.pb'\n",
    "# MODEL = '/Users/will/git/models/samples/languages/java/training/model/graph.pb'\n",
    "MODEL = '/Users/will/git/python-streams-events/src/ssd_mobilenet_v1_coco_2017_11_17/frozen_inference_graph.pb'"
   ]
  },
  {
   "cell_type": "code",
   "execution_count": 29,
   "metadata": {},
   "outputs": [],
   "source": [
    "# objects\n",
    "NUM_CLASSES = 100\n",
    "PATH_TO_LABELS = '/Users/will/git/models/research/object_detection/data/'+'mscoco_label_map.pbtxt'\n",
    "\n",
    "# performance\n",
    "LINE_THICKNESS = 1\n",
    "PROBABILITY_THRESHHOLD = 0.10\n",
    "RECORDING_FPS = 15"
   ]
  },
  {
   "cell_type": "markdown",
   "metadata": {},
   "source": [
    "### imports"
   ]
  },
  {
   "cell_type": "code",
   "execution_count": 30,
   "metadata": {},
   "outputs": [],
   "source": [
    "import sys\n",
    "import os\n",
    "from collections import Counter\n",
    "\n",
    "sys.path.append(\"/Users/will/git/models/research\")\n",
    "sys.path.append(\"/Users/will/git/models/research/object_detection\")\n",
    "from utils import label_map_util\n",
    "from utils import visualization_utils as vis_util"
   ]
  },
  {
   "cell_type": "code",
   "execution_count": 32,
   "metadata": {},
   "outputs": [],
   "source": [
    "def process_video(video, model, labels, num_classes, line_thickness, probability_cutoff, fps):\n",
    "    \n",
    "    object_counts = []\n",
    "    cap = cv2.VideoCapture(video)\n",
    "    # codec = cv2.VideoWriter_fourcc('m', 'p', '4', 'v')\n",
    "    # vidWriter = cv2.VideoWriter('output_path', codec, fps, (int(cap.get(3)), int(cap.get(4))))\n",
    "\n",
    "    # Load a (frozen) Tensorflow model into memory.\n",
    "    detection_graph = tf.Graph()\n",
    "    with detection_graph.as_default():\n",
    "        od_graph_def = tf.GraphDef()\n",
    "        with tf.gfile.GFile(model, 'rb') as fid:\n",
    "            serialized_graph = fid.read()\n",
    "            od_graph_def.ParseFromString(serialized_graph)\n",
    "            tf.import_graph_def(od_graph_def, name='')\n",
    "    \n",
    "    # Label maps map indices to category names, so that when our convolution network predicts `5`, we know that this corresponds to `airplane`.  Here we use internal utility functions, but anything that returns a dictionary mapping integers to appropriate string labels would be fine\n",
    "    label_map = label_map_util.load_labelmap(labels)\n",
    "    categories = label_map_util.convert_label_map_to_categories(label_map, max_num_classes=NUM_CLASSES,use_display_name=True)\n",
    "    category_index = label_map_util.create_category_index(categories)\n",
    "    \n",
    "    with detection_graph.as_default():\n",
    "        with tf.Session(graph=detection_graph) as tf_sess:\n",
    "            ret = True\n",
    "            while (ret):\n",
    "                ret, image_np = cap.read()\n",
    "                if (ret == False):\n",
    "                    break\n",
    "\n",
    "                image_tensor = detection_graph.get_tensor_by_name('image_tensor:0')\n",
    "                detection_boxes = detection_graph.get_tensor_by_name('detection_boxes:0')\n",
    "                detection_scores = detection_graph.get_tensor_by_name('detection_scores:0')\n",
    "                detection_classes = detection_graph.get_tensor_by_name('detection_classes:0')\n",
    "                num_detections = detection_graph.get_tensor_by_name('num_detections:0')\n",
    "                image_np_expanded = np.expand_dims(image_np, axis=0)\n",
    "\n",
    "                # Actual detection.\n",
    "                fd = {image_tensor: image_np_expanded}\n",
    "                detection_info = [detection_boxes, detection_scores, detection_classes, num_detections]\n",
    "                (boxes, scores, classes, num) = tf_sess.run(detection_info, fd)\n",
    "                # Visualization of the results of a detection\n",
    "                vis_util.visualize_boxes_and_labels_on_image_array(\n",
    "                    image_np,\n",
    "                    np.squeeze(boxes),\n",
    "                    np.squeeze(classes).astype(np.int32),\n",
    "                    np.squeeze(scores),\n",
    "                    category_index,\n",
    "                    use_normalized_coordinates=True,\n",
    "                    line_thickness = LINE_THICKNESS\n",
    "                )\n",
    "\n",
    "                # get list of objects and their counts\n",
    "                len_sqzd_scrs =  len(list(filter(lambda x: x > probability_cutoff, np.squeeze(scores))))\n",
    "                obj_cnt = [(category_index.get(tpl[0])['name'], tpl[1]) for tpl in Counter(np.squeeze(classes)[:len_sqzd_scrs]).items()]\n",
    "\n",
    "                object_counts.append(obj_cnt)\n",
    "\n",
    "                # vidWriter.write(image_np)\n",
    "                cv2.imshow('live_detection', image_np)\n",
    "                if cv2.waitKey(25) & 0xFF == ord('q'):\n",
    "                    exit(0)                "
   ]
  },
  {
   "cell_type": "code",
   "execution_count": null,
   "metadata": {},
   "outputs": [],
   "source": [
    "process_video(\n",
    "    PATH_TO_VIDEO, \n",
    "    MODEL, \n",
    "    PATH_TO_LABELS, \n",
    "    NUM_CLASSES, \n",
    "    LINE_THICKNESS, \n",
    "    PROBABILITY_THRESHHOLD, \n",
    "    RECORDING_FPS)"
   ]
  },
  {
   "cell_type": "code",
   "execution_count": null,
   "metadata": {},
   "outputs": [],
   "source": []
  }
 ],
 "metadata": {
  "kernelspec": {
   "display_name": "Python 3",
   "language": "python",
   "name": "python3"
  },
  "language_info": {
   "codemirror_mode": {
    "name": "ipython",
    "version": 3
   },
   "file_extension": ".py",
   "mimetype": "text/x-python",
   "name": "python",
   "nbconvert_exporter": "python",
   "pygments_lexer": "ipython3",
   "version": "3.6.6"
  }
 },
 "nbformat": 4,
 "nbformat_minor": 2
}
