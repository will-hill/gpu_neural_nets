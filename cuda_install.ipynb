{
 "cells": [
  {
   "cell_type": "markdown",
   "metadata": {},
   "source": [
    "# pre"
   ]
  },
  {
   "cell_type": "code",
   "execution_count": 4,
   "metadata": {},
   "outputs": [
    {
     "name": "stdout",
     "output_type": "stream",
     "text": [
      "01:00.0 VGA compatible controller: NVIDIA Corporation GP106 [GeForce GTX 1060 3GB] (rev a1)\r\n"
     ]
    }
   ],
   "source": [
    "!lspci | grep -i nvidia | grep -i vga | grep -i NVIDIA"
   ]
  },
  {
   "cell_type": "code",
   "execution_count": 5,
   "metadata": {},
   "outputs": [
    {
     "name": "stdout",
     "output_type": "stream",
     "text": [
      "x86_64\r\n",
      "CentOS Linux release 7.5.1804 (Core) \r\n",
      "NAME=\"CentOS Linux\"\r\n",
      "VERSION=\"7 (Core)\"\r\n",
      "ID=\"centos\"\r\n",
      "ID_LIKE=\"rhel fedora\"\r\n",
      "VERSION_ID=\"7\"\r\n",
      "PRETTY_NAME=\"CentOS Linux 7 (Core)\"\r\n",
      "ANSI_COLOR=\"0;31\"\r\n",
      "CPE_NAME=\"cpe:/o:centos:centos:7\"\r\n",
      "HOME_URL=\"https://www.centos.org/\"\r\n",
      "BUG_REPORT_URL=\"https://bugs.centos.org/\"\r\n",
      "\r\n",
      "CENTOS_MANTISBT_PROJECT=\"CentOS-7\"\r\n",
      "CENTOS_MANTISBT_PROJECT_VERSION=\"7\"\r\n",
      "REDHAT_SUPPORT_PRODUCT=\"centos\"\r\n",
      "REDHAT_SUPPORT_PRODUCT_VERSION=\"7\"\r\n",
      "\r\n",
      "CentOS Linux release 7.5.1804 (Core) \r\n",
      "CentOS Linux release 7.5.1804 (Core) \r\n"
     ]
    }
   ],
   "source": [
    "!uname -m && cat /etc/*release"
   ]
  },
  {
   "cell_type": "code",
   "execution_count": 1,
   "metadata": {},
   "outputs": [
    {
     "name": "stdout",
     "output_type": "stream",
     "text": [
      "Loaded plugins: fastestmirror, langpacks\n",
      "Loading mirror speeds from cached hostfile\n",
      " * base: mirror.jaleco.com\n",
      " * epel: mirror.cogentco.com\n",
      " * extras: mirror.jaleco.com\n",
      " * updates: mirror.jaleco.com\n",
      "Resolving Dependencies\n",
      "--> Running transaction check\n",
      "---> Package kernel-devel.x86_64 0:3.10.0-862.el7 will be installed\n",
      "---> Package kernel-headers.x86_64 0:3.10.0-862.el7 will be installed\n",
      "--> Finished Dependency Resolution\n",
      "\n",
      "Dependencies Resolved\n",
      "\n",
      "================================================================================\n",
      " Package               Arch          Version                  Repository   Size\n",
      "================================================================================\n",
      "Installing:\n",
      " kernel-devel          x86_64        3.10.0-862.el7           base         16 M\n",
      " kernel-headers        x86_64        3.10.0-862.el7           base        7.1 M\n",
      "\n",
      "Transaction Summary\n",
      "================================================================================\n",
      "Install  2 Packages\n",
      "\n",
      "Total download size: 23 M\n",
      "Installed size: 40 M\n",
      "Downloading packages:\n",
      "No Presto metadata available for base\n",
      "(1/2): kernel-headers-3.10.0-862.el7.x86_64.rpm            | 7.1 MB   00:00     \n",
      "(2/2): kernel-devel-3.10.0-862.el7.x86_64.rpm              |  16 MB   00:01     \n",
      "--------------------------------------------------------------------------------\n",
      "Total                                               19 MB/s |  23 MB  00:01     \n",
      "Running transaction check\n",
      "Running transaction test\n",
      "Transaction test succeeded\n",
      "Running transaction\n",
      "  Installing : kernel-headers-3.10.0-862.el7.x86_64                         1/2 \n",
      "  Installing : kernel-devel-3.10.0-862.el7.x86_64                           2/2 \n",
      "  Verifying  : kernel-devel-3.10.0-862.el7.x86_64                           1/2 \n",
      "  Verifying  : kernel-headers-3.10.0-862.el7.x86_64                         2/2 \n",
      "\n",
      "Installed:\n",
      "  kernel-devel.x86_64 0:3.10.0-862.el7  kernel-headers.x86_64 0:3.10.0-862.el7 \n",
      "\n",
      "Complete!\n"
     ]
    }
   ],
   "source": [
    "!sudo yum -y install kernel-devel-$(uname -r) kernel-headers-$(uname -r)"
   ]
  },
  {
   "cell_type": "code",
   "execution_count": 9,
   "metadata": {},
   "outputs": [
    {
     "name": "stdout",
     "output_type": "stream",
     "text": [
      "Loaded plugins: fastestmirror, langpacks\n",
      "Loading mirror speeds from cached hostfile\n",
      " * base: mirror.jaleco.com\n",
      " * epel: mirror.cogentco.com\n",
      " * extras: mirror.jaleco.com\n",
      " * updates: mirror.jaleco.com\n",
      "Resolving Dependencies\n",
      "--> Running transaction check\n",
      "---> Package gcc.x86_64 0:4.8.5-28.el7_5.1 will be installed\n",
      "--> Processing Dependency: cpp = 4.8.5-28.el7_5.1 for package: gcc-4.8.5-28.el7_5.1.x86_64\n",
      "--> Processing Dependency: glibc-devel >= 2.2.90-12 for package: gcc-4.8.5-28.el7_5.1.x86_64\n",
      "--> Processing Dependency: libmpc.so.3()(64bit) for package: gcc-4.8.5-28.el7_5.1.x86_64\n",
      "--> Running transaction check\n",
      "---> Package cpp.x86_64 0:4.8.5-28.el7_5.1 will be installed\n",
      "---> Package glibc-devel.x86_64 0:2.17-222.el7 will be installed\n",
      "--> Processing Dependency: glibc-headers = 2.17-222.el7 for package: glibc-devel-2.17-222.el7.x86_64\n",
      "--> Processing Dependency: glibc-headers for package: glibc-devel-2.17-222.el7.x86_64\n",
      "---> Package libmpc.x86_64 0:1.0.1-3.el7 will be installed\n",
      "--> Running transaction check\n",
      "---> Package glibc-headers.x86_64 0:2.17-222.el7 will be installed\n",
      "--> Finished Dependency Resolution\n",
      "\n",
      "Dependencies Resolved\n",
      "\n",
      "================================================================================\n",
      " Package             Arch         Version                   Repository     Size\n",
      "================================================================================\n",
      "Installing:\n",
      " gcc                 x86_64       4.8.5-28.el7_5.1          updates        16 M\n",
      "Installing for dependencies:\n",
      " cpp                 x86_64       4.8.5-28.el7_5.1          updates       5.9 M\n",
      " glibc-devel         x86_64       2.17-222.el7              base          1.1 M\n",
      " glibc-headers       x86_64       2.17-222.el7              base          678 k\n",
      " libmpc              x86_64       1.0.1-3.el7               base           51 k\n",
      "\n",
      "Transaction Summary\n",
      "================================================================================\n",
      "Install  1 Package (+4 Dependent packages)\n",
      "\n",
      "Total download size: 24 M\n",
      "Installed size: 56 M\n",
      "Downloading packages:\n",
      "(1/5): glibc-headers-2.17-222.el7.x86_64.rpm               | 678 kB   00:00     \n",
      "(2/5): libmpc-1.0.1-3.el7.x86_64.rpm                       |  51 kB   00:00     \n",
      "(3/5): glibc-devel-2.17-222.el7.x86_64.rpm                 | 1.1 MB   00:00     \n",
      "(4/5): cpp-4.8.5-28.el7_5.1.x86_64.rpm                     | 5.9 MB   00:00     \n",
      "(5/5): gcc-4.8.5-28.el7_5.1.x86_64.rpm                     |  16 MB   00:02     \n",
      "--------------------------------------------------------------------------------\n",
      "Total                                              8.6 MB/s |  24 MB  00:02     \n",
      "Running transaction check\n",
      "Running transaction test\n",
      "Transaction test succeeded\n",
      "Running transaction\n",
      "  Installing : libmpc-1.0.1-3.el7.x86_64                                    1/5 \n",
      "  Installing : cpp-4.8.5-28.el7_5.1.x86_64                                  2/5 \n",
      "  Installing : glibc-headers-2.17-222.el7.x86_64                            3/5 \n",
      "  Installing : glibc-devel-2.17-222.el7.x86_64                              4/5 \n",
      "  Installing : gcc-4.8.5-28.el7_5.1.x86_64                                  5/5 \n",
      "  Verifying  : cpp-4.8.5-28.el7_5.1.x86_64                                  1/5 \n",
      "  Verifying  : glibc-headers-2.17-222.el7.x86_64                            2/5 \n",
      "  Verifying  : gcc-4.8.5-28.el7_5.1.x86_64                                  3/5 \n",
      "  Verifying  : glibc-devel-2.17-222.el7.x86_64                              4/5 \n",
      "  Verifying  : libmpc-1.0.1-3.el7.x86_64                                    5/5 \n",
      "\n",
      "Installed:\n",
      "  gcc.x86_64 0:4.8.5-28.el7_5.1                                                 \n",
      "\n",
      "Dependency Installed:\n",
      "  cpp.x86_64 0:4.8.5-28.el7_5.1           glibc-devel.x86_64 0:2.17-222.el7    \n",
      "  glibc-headers.x86_64 0:2.17-222.el7     libmpc.x86_64 0:1.0.1-3.el7          \n",
      "\n",
      "Complete!\n"
     ]
    }
   ],
   "source": [
    "!sudo yum -y install gcc "
   ]
  },
  {
   "cell_type": "code",
   "execution_count": 10,
   "metadata": {},
   "outputs": [
    {
     "name": "stdout",
     "output_type": "stream",
     "text": [
      "gcc (GCC) 4.8.5 20150623 (Red Hat 4.8.5-28)\r\n",
      "Copyright (C) 2015 Free Software Foundation, Inc.\r\n",
      "This is free software; see the source for copying conditions.  There is NO\r\n",
      "warranty; not even for MERCHANTABILITY or FITNESS FOR A PARTICULAR PURPOSE.\r\n",
      "\r\n"
     ]
    }
   ],
   "source": [
    "!gcc --version"
   ]
  },
  {
   "cell_type": "code",
   "execution_count": 4,
   "metadata": {},
   "outputs": [],
   "source": [
    "!sudo sh -c 'printf \"blacklist nouveau\\noptions nouveau modeset=0\\n\" > /etc/modprobe.d/blacklist-nouveau.conf'"
   ]
  },
  {
   "cell_type": "code",
   "execution_count": 5,
   "metadata": {},
   "outputs": [
    {
     "name": "stdout",
     "output_type": "stream",
     "text": [
      "blacklist nouveau\r\n",
      "options nouveau modeset=0\r\n"
     ]
    }
   ],
   "source": [
    "!cat /etc/modprobe.d/blacklist-nouveau.conf"
   ]
  },
  {
   "cell_type": "code",
   "execution_count": 6,
   "metadata": {},
   "outputs": [],
   "source": [
    "!sudo dracut --force"
   ]
  },
  {
   "cell_type": "markdown",
   "metadata": {},
   "source": [
    "# download"
   ]
  },
  {
   "cell_type": "code",
   "execution_count": 19,
   "metadata": {},
   "outputs": [
    {
     "name": "stdout",
     "output_type": "stream",
     "text": [
      "total 2345992\r\n",
      "drwxrwxr-x. 2 will will         92 Jul 14 20:26 cuda\r\n",
      "-rwxr-xr-x. 1 will will  116529155 Jul 14 19:54 cuda_9.0.176.1_linux.run\r\n",
      "-rwxr-xr-x. 1 will will   72212159 Jul 14 19:54 cuda_9.0.176.2_linux.run\r\n",
      "-rwxrwxr-x. 1 will will 1643293725 Jul 14 19:58 cuda_9.0.176_384.81_linux.run\r\n",
      "-rwxr-xr-x. 1 will will   76500577 Jul 14 19:54 cuda_9.0.176.3_linux.run\r\n",
      "-rw-rw-r--. 1 will will      12608 Jul 14 19:53 cuda_install.ipynb\r\n",
      "-rw-r--r--. 1 will will  409222354 Jul 14 19:59 cudnn-9.0-linux-x64-v7.1.tgz\r\n",
      "drwxr-xr-x. 2 will will         63 Jul 14 18:11 Desktop\r\n",
      "drwxr-xr-x. 2 will will         45 Jul 14 18:26 Downloads\r\n",
      "-rw-r--r--. 1 will will    2238947 Jul 14 18:35 neural_net_prep.ipynb\r\n",
      "-rwxr-xr-x. 1 will will   82272406 Jul 14 20:26 NVIDIA-Linux-x86_64-390.67.run\r\n"
     ]
    }
   ],
   "source": [
    "!ls -l"
   ]
  },
  {
   "cell_type": "code",
   "execution_count": 20,
   "metadata": {},
   "outputs": [
    {
     "name": "stdout",
     "output_type": "stream",
     "text": [
      "/bin/sh: /cuda_9.0.176_384.81_linux.run: No such file or directory\r\n"
     ]
    }
   ],
   "source": [
    "!./cuda_9.0.176_384.81_linux.run --extract=/home/will/cuda/"
   ]
  },
  {
   "cell_type": "code",
   "execution_count": 22,
   "metadata": {},
   "outputs": [
    {
     "name": "stdout",
     "output_type": "stream",
     "text": [
      "check sums and md5 sums are ok\r\n"
     ]
    }
   ],
   "source": [
    "!./NVIDIA-Linux-x86_64-390.67.run  --check"
   ]
  },
  {
   "cell_type": "code",
   "execution_count": null,
   "metadata": {},
   "outputs": [],
   "source": [
    "!./NVIDIA-Linux-x86_64-390.67.run -x"
   ]
  },
  {
   "cell_type": "code",
   "execution_count": null,
   "metadata": {},
   "outputs": [],
   "source": [
    "#  THIS WILL KILL SESSION IF DESKTOP IS RUNNING\n",
    "!sudo  systemctl    isolate   multi-user.target"
   ]
  },
  {
   "cell_type": "code",
   "execution_count": 25,
   "metadata": {},
   "outputs": [],
   "source": [
    "!cd NVIDIA-Linux-x86_64-390.67/"
   ]
  },
  {
   "cell_type": "code",
   "execution_count": 11,
   "metadata": {},
   "outputs": [
    {
     "name": "stdout",
     "output_type": "stream",
     "text": [
      "10_nvidia.json\r\n",
      "10_nvidia_wayland.json\r\n",
      "32\r\n",
      "glext.h\r\n",
      "gl.h\r\n",
      "glxext.h\r\n",
      "glx.h\r\n",
      "html\r\n",
      "kernel\r\n",
      "libcuda.so.390.67\r\n",
      "libEGL_nvidia.so.390.67\r\n",
      "libEGL.so.1.1.0\r\n",
      "libEGL.so.390.67\r\n",
      "libGLdispatch.so.0\r\n",
      "libGLESv1_CM_nvidia.so.390.67\r\n",
      "libGLESv1_CM.so.1.2.0\r\n",
      "libGLESv2_nvidia.so.390.67\r\n",
      "libGLESv2.so.2.1.0\r\n",
      "libGL.la\r\n",
      "libGL.so.1.7.0\r\n",
      "libGL.so.390.67\r\n",
      "libglvnd_install_checker\r\n",
      "libGLX_nvidia.so.390.67\r\n",
      "libGLX.so.0\r\n",
      "libglx.so.390.67\r\n",
      "libnvcuvid.so.390.67\r\n",
      "libnvidia-cfg.so.390.67\r\n",
      "libnvidia-compiler.so.390.67\r\n",
      "libnvidia-eglcore.so.390.67\r\n",
      "libnvidia-egl-wayland.so.1.0.2\r\n",
      "libnvidia-encode.so.390.67\r\n",
      "libnvidia-fatbinaryloader.so.390.67\r\n",
      "libnvidia-fbc.so.390.67\r\n",
      "libnvidia-glcore.so.390.67\r\n",
      "libnvidia-glsi.so.390.67\r\n",
      "libnvidia-gtk2.so.390.67\r\n",
      "libnvidia-gtk3.so.390.67\r\n",
      "libnvidia-ifr.so.390.67\r\n",
      "libnvidia-ml.so.390.67\r\n",
      "libnvidia-opencl.so.390.67\r\n",
      "libnvidia-ptxjitcompiler.so.390.67\r\n",
      "libnvidia-tls.so.390.67\r\n",
      "libnvidia-wfb.so.390.67\r\n",
      "libOpenCL.so.1.0.0\r\n",
      "libOpenGL.so.0\r\n",
      "libvdpau_nvidia.so.390.67\r\n",
      "LICENSE\r\n",
      "makeself-help-script.sh\r\n",
      "makeself.sh\r\n",
      "mkprecompiled\r\n",
      "nvidia-application-profiles-390.67-key-documentation\r\n",
      "nvidia-application-profiles-390.67-rc\r\n",
      "nvidia-bug-report.sh\r\n",
      "NVIDIA_Changelog\r\n",
      "nvidia-cuda-mps-control\r\n",
      "nvidia-cuda-mps-control.1.gz\r\n",
      "nvidia-cuda-mps-server\r\n",
      "nvidia-debugdump\r\n",
      "nvidia-drm-outputclass.conf\r\n",
      "nvidia_drv.so\r\n",
      "nvidia.icd\r\n",
      "nvidia_icd.json.template\r\n",
      "nvidia-installer\r\n",
      "nvidia-installer.1.gz\r\n",
      "nvidia-modprobe\r\n",
      "nvidia-modprobe.1.gz\r\n",
      "nvidia-persistenced\r\n",
      "nvidia-persistenced.1.gz\r\n",
      "nvidia-persistenced-init.tar.bz2\r\n",
      "nvidia-settings\r\n",
      "nvidia-settings.1.gz\r\n",
      "nvidia-settings.desktop\r\n",
      "nvidia-settings.png\r\n",
      "nvidia-smi\r\n",
      "nvidia-smi.1.gz\r\n",
      "nvidia-xconfig\r\n",
      "nvidia-xconfig.1.gz\r\n",
      "pkg-history.txt\r\n",
      "README.txt\r\n",
      "tls\r\n",
      "tls_test\r\n",
      "tls_test_dso.so\r\n"
     ]
    }
   ],
   "source": [
    "!ls NVIDIA-Linux-x86_64-390.67/"
   ]
  },
  {
   "cell_type": "code",
   "execution_count": 13,
   "metadata": {},
   "outputs": [
    {
     "name": "stdout",
     "output_type": "stream",
     "text": [
      "\r\n",
      "nvidia-installer:  version 390.67  (buildmeister@swio-display-x64-rhel04-18) \r\n",
      "Fri Jun  1 04:26:34 PDT 2018\r\n",
      "  The NVIDIA Software Installer for Unix/Linux.\r\n",
      "\r\n",
      "  This program is used to install, upgrade and uninstall The NVIDIA Accelerated\r\n",
      "  Graphics Driver Set for Linux-x86_64.\r\n",
      "\r\n",
      "\r\n",
      "./NVIDIA-Linux-x86_64-390.67/nvidia-installer [options]\r\n",
      "\r\n",
      "  -v, --version\r\n",
      "      Print the nvidia-installer version and exit.\r\n",
      "\r\n",
      "  -h, --help\r\n",
      "      Print usage information for the common commandline options and exit.\r\n",
      "\r\n",
      "  -A, --advanced-options\r\n",
      "      Print usage information for the common commandline options as well as the\r\n",
      "      advanced options, and then exit.\r\n",
      "\r\n",
      "  -a, --accept-license\r\n",
      "      This option is obsolete and ignored by nvidia-installer.  It is provided\r\n",
      "      for compatibility with older versions of nvidia-installer, which required\r\n",
      "      this option for explicit license acceptance. Use of the NVIDIA driver\r\n",
      "      implies acceptance of the NVIDIA Software License Agreement, contained in\r\n",
      "      the file 'LICENSE' (in the top level directory of the driver package).\r\n",
      "\r\n",
      "  -i, --driver-info\r\n",
      "      Print information about the currently installed NVIDIA driver version.\r\n",
      "\r\n",
      "  --uninstall\r\n",
      "      Uninstall the currently installed NVIDIA driver.\r\n",
      "\r\n",
      "  --skip-module-unload\r\n",
      "      When uninstalling the driver, skip unloading of the NVIDIA kernel module.\r\n",
      "      This option is ignored when the driver is being installed.\r\n",
      "\r\n",
      "  --sanity\r\n",
      "      Perform basic sanity tests on an existing NVIDIA driver installation.\r\n",
      "\r\n",
      "  -e, --expert\r\n",
      "      Enable 'expert' installation mode; more detailed questions will be asked,\r\n",
      "      and more verbose output will be printed; intended for expert users.  The\r\n",
      "      questions may be suppressed with the '--no-questions' commandline\r\n",
      "      option.\r\n",
      "\r\n",
      "  -q, --no-questions\r\n",
      "      Do not ask any questions; the default (normally 'yes') is assumed for all\r\n",
      "      yes/no questions, and the default string is assumed in any situation\r\n",
      "      where the user is prompted for string input.\r\n",
      "\r\n",
      "  -s, --silent\r\n",
      "      Run silently; no questions are asked and no output is printed, except for\r\n",
      "      error messages to stderr.  This option implies '--ui=none\r\n",
      "      --no-questions'.\r\n",
      "\r\n",
      "  --x-prefix=X-PREFIX\r\n",
      "      The prefix under which the X components of the NVIDIA driver will be\r\n",
      "      installed; the default is '/usr/X11R6' unless nvidia-installer detects\r\n",
      "      that X.Org >= 7.0 is installed, in which case the default is '/usr'. \r\n",
      "      Only under rare circumstances should this option be used.\r\n",
      "\r\n",
      "  --xfree86-prefix=XFREE86-PREFIX\r\n",
      "      This is a deprecated synonym for --x-prefix.\r\n",
      "\r\n",
      "  --x-module-path=X-MODULE-PATH\r\n",
      "      The path under which the NVIDIA X server modules will be installed.  If\r\n",
      "      this option is not specified, nvidia-installer uses the following search\r\n",
      "      order and selects the first valid directory it finds: 1) `X\r\n",
      "      -showDefaultModulePath`, 2) `pkg-config --variable=moduledir\r\n",
      "      xorg-server`, or 3) the X library path (see the '--x-library-path'\r\n",
      "      option) plus either 'modules' (for X servers older than X.Org 7.0) or\r\n",
      "      'xorg/modules' (for X.Org 7.0 or later).\r\n",
      "\r\n",
      "  --x-library-path=X-LIBRARY-PATH\r\n",
      "      The path under which the NVIDIA X libraries will be installed.  If this\r\n",
      "      option is not specified, nvidia-installer uses the following search order\r\n",
      "      and selects the first valid directory it finds: 1) `X\r\n",
      "      -showDefaultLibPath`, 2) `pkg-config --variable=libdir xorg-server`, or\r\n",
      "      3) the X prefix (see the '--x-prefix' option) plus 'lib' on 32bit\r\n",
      "      systems, and either 'lib64' or 'lib' on 64bit systems, depending on the\r\n",
      "      installed Linux distribution.\r\n",
      "\r\n",
      "  --x-sysconfig-path=X-SYSCONFIG-PATH\r\n",
      "      The path under which X system configuration files will be installed.  If\r\n",
      "      this option is not specified, nvidia-installer uses the following search\r\n",
      "      order and selects the first valid directory it finds: 1) `pkg-config\r\n",
      "      --variable=sysconfigdir xorg-server`, or 2) /usr/share/X11/xorg.conf.d.\r\n",
      "\r\n",
      "  --opengl-prefix=OPENGL-PREFIX\r\n",
      "      The prefix under which the OpenGL components of the NVIDIA driver will be\r\n",
      "      installed; the default is: '/usr'.  Only under rare circumstances should\r\n",
      "      this option be used.  The Linux OpenGL ABI\r\n",
      "      (http://oss.sgi.com/projects/ogl-sample/ABI/) mandates this default\r\n",
      "      value.\r\n",
      "\r\n",
      "  --opengl-libdir=OPENGL-LIBDIR\r\n",
      "      The path relative to the OpenGL library installation prefix under which\r\n",
      "      the NVIDIA OpenGL components will be installed.  The default is 'lib' on\r\n",
      "      32bit systems, and 'lib64' or 'lib' on 64bit systems, depending on the\r\n",
      "      installed Linux distribution.  Only under very rare circumstances should\r\n",
      "      this option be used.\r\n",
      "\r\n",
      "  --compat32-chroot=COMPAT32-CHROOT\r\n",
      "      The top-level prefix (chroot) relative to which the 32bit compatibility\r\n",
      "      libraries will be installed on Linux/x86-64 systems; this option is unset\r\n",
      "      by default, the 32bit library installation prefix (see below) and the\r\n",
      "      32bit library path alone determine the target location.  Only under very\r\n",
      "      rare circumstances should this option be used.\r\n",
      "\r\n",
      "  --compat32-prefix=COMPAT32-PREFIX\r\n",
      "      The prefix under which the 32bit compatibility components of the NVIDIA\r\n",
      "      driver will be installed; the default is: '/usr'.  Only under rare\r\n",
      "      circumstances should this option be used.\r\n",
      "\r\n",
      "  --compat32-libdir=COMPAT32-LIBDIR\r\n",
      "      The path relative to the 32bit compatibility prefix under which the 32bit\r\n",
      "      compatibility components of the NVIDIA driver will be installed.  The\r\n",
      "      default is 'lib' or 'lib32', depending on the installed Linux\r\n",
      "      distribution.  Only under very rare circumstances should this option be\r\n",
      "      used.\r\n",
      "\r\n",
      "  --install-compat32-libs, --no-install-compat32-libs\r\n",
      "      32-bit compatibility libraries may be optionally installed. Setting\r\n",
      "      --install-compat32-libs will install these libraries. Setting\r\n",
      "      --no-install-compat32-libs will skip installation of these libraries.\r\n",
      "      Note: this option will have no effect on -no-compat32.run packages.\r\n",
      "\r\n",
      "  --installer-prefix=INSTALLER-PREFIX\r\n",
      "      The prefix under which the installer binary will be installed; the\r\n",
      "      default is: '/usr'.  Note: please use the '--utility-prefix' option\r\n",
      "      instead.\r\n",
      "\r\n",
      "  --utility-prefix=UTILITY-PREFIX\r\n",
      "      The prefix under which the NVIDIA utilities (nvidia-installer,\r\n",
      "      nvidia-settings, nvidia-xconfig, nvidia-bug-report.sh) and the NVIDIA\r\n",
      "      utility libraries will be installed; the default is: '/usr'.\r\n",
      "\r\n",
      "  --utility-libdir=UTILITY-LIBDIR\r\n",
      "      The path relative to the utility installation prefix under which the\r\n",
      "      NVIDIA utility libraries will be installed.  The default is 'lib' on\r\n",
      "      32bit systems, and 'lib64' or 'lib' on 64bit systems, depending on the\r\n",
      "      installed Linux distribution.\r\n",
      "\r\n",
      "  --documentation-prefix=DOCUMENTATION-PREFIX\r\n",
      "      The prefix under which the documentation files for the NVIDIA driver will\r\n",
      "      be installed.  The default is: '/usr'.\r\n",
      "\r\n",
      "  --application-profile-path=APPLICATION-PROFILE-PATH\r\n",
      "      The directory under which default application profiles for the NVIDIA\r\n",
      "      driver will be installed. The default is: '/usr/share/nvidia'.\r\n",
      "\r\n",
      "  --kernel-include-path=KERNEL-INCLUDE-PATH\r\n",
      "      The directory containing the kernel include files that should be used\r\n",
      "      when compiling the NVIDIA kernel module.  This option is deprecated;\r\n",
      "      please use '--kernel-source-path' instead.\r\n",
      "\r\n",
      "  --kernel-source-path=KERNEL-SOURCE-PATH\r\n",
      "      The directory containing the kernel source files that should be used when\r\n",
      "      compiling the NVIDIA kernel module.  When not specified, the installer\r\n",
      "      will use '/lib/modules/`uname -r`/build', if that directory exists. \r\n",
      "      Otherwise, it will use '/usr/src/linux'.\r\n",
      "\r\n",
      "  --kernel-output-path=KERNEL-OUTPUT-PATH\r\n",
      "      The directory containing any KBUILD output files if either one of the\r\n",
      "      'KBUILD_OUTPUT' or 'O' parameters were passed to KBUILD when building the\r\n",
      "      kernel image/modules.  When not specified, the installer will assume that\r\n",
      "      no separate output directory was used.\r\n",
      "\r\n",
      "  --kernel-install-path=KERNEL-INSTALL-PATH\r\n",
      "      The directory in which the NVIDIA kernel module should be installed.  The\r\n",
      "      default value is either '/lib/modules/`uname -r`/kernel/drivers/video'\r\n",
      "      (if '/lib/modules/`uname -r`/kernel' exists) or '/lib/modules/`uname\r\n",
      "      -r`/video'.\r\n",
      "\r\n",
      "  --proc-mount-point=PROC-MOUNT-POINT\r\n",
      "      The mount point for the proc file system; if not specified, then this\r\n",
      "      value defaults to '/proc' (which is normally correct).  The mount point\r\n",
      "      of the proc filesystem is needed because the contents of '<proc\r\n",
      "      filesystem>/version' is used when identifying if a precompiled kernel\r\n",
      "      interface is available for the currently running kernel.  This option\r\n",
      "      should only be needed in very rare circumstances.\r\n",
      "\r\n",
      "  --log-file-name=LOG-FILE-NAME\r\n",
      "      File name of the installation log file (the default is:\r\n",
      "      '/var/log/nvidia-installer.log').\r\n",
      "\r\n",
      "  --tmpdir=TMPDIR\r\n",
      "      Use the specified directory as a temporary directory when generating\r\n",
      "      transient files used by the installer; if not given, then the following\r\n",
      "      list will be searched, and the first one that exists will be used:\r\n",
      "      $TMPDIR, /tmp, ., $HOME.\r\n",
      "\r\n",
      "  --ui=UI\r\n",
      "      Specify what user interface to use, if available.  Valid values for UI\r\n",
      "      are 'ncurses' (the default) or 'none'. If the ncurses interface fails to\r\n",
      "      initialize, or 'none' is specified, then a simple printf/scanf interface\r\n",
      "      will be used.\r\n",
      "\r\n",
      "  -c, --no-ncurses-color\r\n",
      "      Disable use of color in the ncurses user interface.\r\n",
      "\r\n",
      "  --opengl-headers\r\n",
      "      Normally, installation will not install NVIDIA's OpenGL header files; the\r\n",
      "      OpenGL header files packaged by the Linux distribution or available from\r\n",
      "      http://www.opengl.org/registry/ should be preferred. However,\r\n",
      "      http://www.opengl.org/registry/ does not yet provide a glx.h or gl.h. \r\n",
      "      Until that is resolved, NVIDIA's OpenGL header files can still be chosen,\r\n",
      "      through this installer option.\r\n",
      "\r\n",
      "  --no-nvidia-modprobe\r\n",
      "      Skip installation of 'nvidia-modprobe', a setuid root utility which\r\n",
      "      nvidia-installer installs by default.  nvidia-modprobe can be used by\r\n",
      "      user-space NVIDIA driver components to load the NVIDIA kernel module, and\r\n",
      "      create the NVIDIA device files, when those components run without\r\n",
      "      sufficient privileges to do so on their own, e.g., the CUDA driver run\r\n",
      "      within the permissions of a non-privileged user.  This utility is only\r\n",
      "      needed if other means of loading the NVIDIA kernel module and creating\r\n",
      "      the NVIDIA device files are unavailable.\r\n",
      "\r\n",
      "  --force-tls=FORCE-TLS\r\n",
      "      NVIDIA's OpenGL libraries are compiled with one of two different thread\r\n",
      "      local storage (TLS) mechanisms: 'classic tls' which is used on systems\r\n",
      "      with glibc 2.2 or older, and 'new tls' which is used on systems with\r\n",
      "      tls-enabled glibc 2.3 or newer.  nvidia-installer will select the OpenGL\r\n",
      "      libraries appropriate for your system; however, you may use this option\r\n",
      "      to force the installer to install one library type or another.  Valid\r\n",
      "      values for FORCE-TLS are 'new' and 'classic'.\r\n",
      "\r\n",
      "  --force-tls-compat32=FORCE-TLS-COMPAT32\r\n",
      "      This option forces the installer to install a specific 32bit\r\n",
      "      compatibility OpenGL TLS library; further details can be found in the\r\n",
      "      description of the '--force-tls' option.\r\n",
      "\r\n",
      "  -k KERNEL-NAME, --kernel-name=KERNEL-NAME\r\n",
      "      Build and install the NVIDIA kernel module for the non-running kernel\r\n",
      "      specified by KERNEL-NAME (KERNEL-NAME should be the output of `uname -r`\r\n",
      "      when the target kernel is actually running).  This option implies\r\n",
      "      '--no-precompiled-interface'.  If the options '--kernel-install-path' and\r\n",
      "      '--kernel-source-path' are not given, then they will be inferred from\r\n",
      "      KERNEL-NAME; eg: '/lib/modules/KERNEL-NAME/kernel/drivers/video/' and\r\n",
      "      '/lib/modules/KERNEL-NAME/build/', respectively.\r\n",
      "\r\n",
      "  -n, --no-precompiled-interface\r\n",
      "      Disable use of precompiled kernel interfaces.\r\n",
      "\r\n",
      "  --no-abi-note\r\n",
      "      The NVIDIA OpenGL libraries contain an OS ABI note tag, which identifies\r\n",
      "      the minimum kernel version needed to use the library.  This option causes\r\n",
      "      the installer to remove this note from the OpenGL libraries during\r\n",
      "      installation.\r\n",
      "\r\n",
      "  --no-rpms\r\n",
      "      Normally, the installer will check for several rpms that conflict with\r\n",
      "      the driver (specifically: NVIDIA_GLX and NVIDIA_kernel), and remove them\r\n",
      "      if present.  This option disables this check.\r\n",
      "\r\n",
      "  -b, --no-backup\r\n",
      "      During driver installation, conflicting files are backed up, so that they\r\n",
      "      can be restored when the driver is uninstalled.  This option causes the\r\n",
      "      installer to simply delete conflicting files, rather than back them up.\r\n",
      "\r\n",
      "  -r, --no-recursion\r\n",
      "      Normally, nvidia-installer will recursively search for potentially\r\n",
      "      conflicting libraries under the default OpenGL and X server installation\r\n",
      "      locations.  With this option set, the installer will only search in the\r\n",
      "      top-level directories.\r\n",
      "\r\n",
      "  -K, --kernel-module-only\r\n",
      "      Install a kernel module only, and do not uninstall the existing driver. \r\n",
      "      This is intended to be used to install kernel modules for additional\r\n",
      "      kernels (in cases where you might boot between several different\r\n",
      "      kernels).  To use this option, you must already have a driver installed,\r\n",
      "      and the version of the installed driver must match the version of this\r\n",
      "      kernel module.\r\n",
      "\r\n",
      "  --no-kernel-module\r\n",
      "      Install everything but the kernel module, and do not remove any existing,\r\n",
      "      possibly conflicting kernel modules.  This can be useful in some DEBUG\r\n",
      "      environments.  If you use this option, you must be careful to ensure that\r\n",
      "      a NVIDIA kernel module matching this driver version is installed\r\n",
      "      seperately.\r\n",
      "\r\n",
      "  --no-x-check\r\n",
      "      Do not abort the installation if nvidia-installer detects that an X\r\n",
      "      server is running.  Only under very rare circumstances should this option\r\n",
      "      be used.\r\n",
      "\r\n",
      "  --precompiled-kernel-interfaces-path=PRECOMPILED-KERNEL-INTERFACES-PATH\r\n",
      "      Before searching for a precompiled kernel interface in the .run file,\r\n",
      "      search in the specified directory.\r\n",
      "\r\n",
      "  -z, --no-nouveau-check\r\n",
      "      Normally, nvidia-installer aborts installation if the nouveau kernel\r\n",
      "      driver is in use.  Use this option to disable this check.\r\n",
      "\r\n",
      "  -Z, --disable-nouveau\r\n",
      "      If the nouveau kernel module is detected by nvidia-installer, the\r\n",
      "      installer offers to attempt to disable nouveau. The default action is to\r\n",
      "      not attempt to disable nouveau; use this option to change the default\r\n",
      "      action to attempt to disable nouveau.\r\n",
      "\r\n",
      "  -X, --run-nvidia-xconfig\r\n",
      "      nvidia-installer can optionally invoke the nvidia-xconfig utility.  This\r\n",
      "      will update the system X configuration file so that the NVIDIA X driver\r\n",
      "      is used.  The pre-existing X configuration file will be backed up.  At\r\n",
      "      the end of installation, nvidia-installer will ask the user if they wish\r\n",
      "      to run nvidia-xconfig; the default response is 'no'.  Use this option to\r\n",
      "      make the default response 'yes'.  This is useful with the\r\n",
      "      '--no-questions' or '--silent' options, which assume the default values\r\n",
      "      for all questions.\r\n",
      "\r\n",
      "  --force-selinux=FORCE-SELINUX\r\n",
      "      Linux installations using SELinux (Security-Enhanced Linux) require that\r\n",
      "      the security type of all shared libraries be set to 'shlib_t' or\r\n",
      "      'textrel_shlib_t', depending on the distribution. nvidia-installer will\r\n",
      "      detect when to set the security type, and set it using chcon(1) on the\r\n",
      "      shared libraries it installs.  If the execstack(8) system utility is\r\n",
      "      present, nvidia-installer will use it to also clear the executable stack\r\n",
      "      flag of the libraries.  Use this option to override nvidia-installer's\r\n",
      "      detection of when to set the security type.  Valid values for\r\n",
      "      FORCE-SELINUX are 'yes' (force setting of the security type), 'no'\r\n",
      "      (prevent setting of the security type), and 'default' (let\r\n",
      "      nvidia-installer decide when to set the security type).\r\n",
      "\r\n",
      "  --selinux-chcon-type=SELINUX-CHCON-TYPE\r\n",
      "      When SELinux support is enabled, nvidia-installer will try to determine\r\n",
      "      which chcon argument to use by first trying 'textrel_shlib_t', then\r\n",
      "      'texrel_shlib_t', then 'shlib_t'.  Use this option to override this\r\n",
      "      detection logic.\r\n",
      "\r\n",
      "  --no-sigwinch-workaround\r\n",
      "      Normally, nvidia-installer ignores the SIGWINCH signal before it forks to\r\n",
      "      execute commands, e.g. to build the kernel module, and restores the\r\n",
      "      SIGWINCH signal handler after the child process has terminated.  This\r\n",
      "      option disables this behavior.\r\n",
      "\r\n",
      "  --no-cc-version-check\r\n",
      "      The NVIDIA kernel module should be compiled with the same compiler that\r\n",
      "      was used to compile the currently running kernel. The layout of some\r\n",
      "      Linux kernel data structures may be dependent on the version of gcc used\r\n",
      "      to compile it. The Linux 2.6 kernel modules are tagged with information\r\n",
      "      about the compiler and the Linux kernel's module loader performs a strict\r\n",
      "      version match check. nvidia-installer checks for mismatches prior to\r\n",
      "      building the NVIDIA kernel module and aborts the installation in case of\r\n",
      "      failures. Use this option to override this check.\r\n",
      "\r\n",
      "  --no-distro-scripts\r\n",
      "      Normally, nvidia-installer will run scripts from /usr/lib/nvidia before\r\n",
      "      and after installing or uninstalling the driver.  Use this option to\r\n",
      "      disable execution of these scripts.\r\n",
      "\r\n",
      "  --no-opengl-files\r\n",
      "      Do not install any of the OpenGL-related driver files.\r\n",
      "\r\n",
      "  --kernel-module-source-prefix=KERNEL-MODULE-SOURCE-PREFIX\r\n",
      "      Specify a path where the source directory for the kernel module will be\r\n",
      "      installed. Default: install source directory at /usr/src\r\n",
      "\r\n",
      "  --kernel-module-source-dir=KERNEL-MODULE-SOURCE-DIR\r\n",
      "      Specify the name of the directory where the kernel module sources will be\r\n",
      "      installed. Default: directory name is \"nvidia-VERSION\"\r\n",
      "\r\n",
      "  --no-kernel-module-source\r\n",
      "      Skip installation of the kernel module source.\r\n",
      "\r\n",
      "  --dkms\r\n",
      "      nvidia-installer can optionally register the NVIDIA kernel module\r\n",
      "      sources, if installed, with DKMS, then build and install a kernel module\r\n",
      "      using the DKMS-registered sources.  This will allow the DKMS\r\n",
      "      infrastructure to automatically build a new kernel module when changing\r\n",
      "      kernels.  During installation, if DKMS is detected, nvidia-installer will\r\n",
      "      ask the user if they wish to register the module with DKMS; the default\r\n",
      "      response is 'no'.  This option will bypass the detection of DKMS, and\r\n",
      "      cause the installer to attempt a DKMS-based installation regardless of\r\n",
      "      whether DKMS is present.\r\n",
      "\r\n",
      "  --module-signing-secret-key=MODULE-SIGNING-SECRET-KEY\r\n",
      "      Specify a path to a private key to use for signing the NVIDIA kernel\r\n",
      "      module. The corresponding public key must also be provided.\r\n",
      "\r\n",
      "  --module-signing-public-key=MODULE-SIGNING-PUBLIC-KEY\r\n",
      "      Specify a path to a public key to use for verifying the signature of the\r\n",
      "      NVIDIA kernel module. The corresponding private key must also be\r\n",
      "      provided.\r\n",
      "\r\n",
      "  --module-signing-script=MODULE-SIGNING-SCRIPT\r\n",
      "      Specify a path to a program to use for signing the NVIDIA kernel module.\r\n",
      "      The program will be called with the arguments: program-name <HASH>\r\n",
      "      <PRIVATEKEY> <PUBLICKEY> <MODULE>; if the program returns an error\r\n",
      "      status, it will be called again with the arguments: program-name\r\n",
      "      <PRIVATEKEY> <PUBLICKEY> <MODULE>. Default: use the \"sign-file\" script in\r\n",
      "      the kernel source directory.\r\n",
      "\r\n",
      "  --module-signing-key-path=MODULE-SIGNING-KEY-PATH\r\n",
      "      Specify a path where signing keys generated by nvidia-installer will be\r\n",
      "      installed. Default: install keys to '/usr/share/nvidia'.\r\n",
      "\r\n",
      "  --module-signing-hash=MODULE-SIGNING-HASH\r\n",
      "      Specify a cryptographic hash algorithm to use for signing kernel modules.\r\n",
      "      This requires a module signing tool that allows explicit selection of the\r\n",
      "      hash algorithm, and the hash algorithm name must be recognizable by the\r\n",
      "      module signing tool. Default: select a hash algorithm automatically,\r\n",
      "      based on the kernel's configuration.\r\n",
      "\r\n",
      "  --module-signing-x509-hash=MODULE-SIGNING-X509-HASH\r\n",
      "      Specify a cryptographic hash algorithm to use for signing X.509\r\n",
      "      certificates generated by nvidia-installer. The hash algorithm name must\r\n",
      "      be one of the message digest algorithms recognized by the x509(1)\r\n",
      "      command.\r\n",
      "\r\n",
      "  --no-check-for-alternate-installs\r\n",
      "      Maintainers of alternate driver installation methods can report the\r\n",
      "      presence and/or availability of an alternate driver installation to\r\n",
      "      nvidia-installer. Setting this option skips the check for alternate\r\n",
      "      driver installations.\r\n",
      "\r\n",
      "  --no-unified-memory\r\n",
      "      Do not install the NVIDIA Unified Memory kernel module. This kernel\r\n",
      "      module is required for CUDA on 64-bit systems, and if it is not\r\n",
      "      installed, the CUDA driver and CUDA applications will not be able to run.\r\n",
      "      The '--no-unified-memory' option should only be used to work around\r\n",
      "      failures to build or install the Unified Memory kernel module on systems\r\n",
      "      that do not need to run CUDA.\r\n",
      "\r\n",
      "  --no-drm\r\n",
      "      Do not install the nvidia-drm kernel module. This kernel module provides\r\n",
      "      several features, including X11 autoconfiguration, support for PRIME, and\r\n",
      "      DRM-KMS. The latter is used to support modesetting on windowing systems\r\n",
      "      that run independently of X11. The '--no-drm' option should only be used\r\n",
      "      to work around failures to build or install the nvidia-drm kernel module\r\n",
      "      on systems that do not need these features.\r\n",
      "\r\n",
      "  -j CONCURRENCY-LEVEL, --concurrency-level=CONCURRENCY-LEVEL\r\n",
      "      Set the concurrency level for operations such as building the kernel\r\n",
      "      module which may be parallelized on SMP systems. By default, this will be\r\n",
      "      set to the number of detected CPUs, or to '1', if nvidia-installer fails\r\n",
      "      to detect the number of CPUs. Systems with a large number of CPUs will\r\n",
      "      have the default concurrency level limited to 32; setting a higher level\r\n",
      "      on the command line will override this limit.\r\n",
      "\r\n",
      "  --force-libglx-indirect\r\n",
      "      If the package includes a libglvnd-based OpenGL library, then always\r\n",
      "      install a libGLX_indirect.so.0 symlink, overwriting one if it exists.\r\n",
      "\r\n",
      "  --no-libglx-indirect\r\n",
      "      Do not install a libGLX_indirect.so.0 symlink.\r\n",
      "\r\n",
      "  --install-libglvnd, --no-install-libglvnd\r\n",
      "      If the package includes a libglvnd-based OpenGL library, then it will try\r\n",
      "      to determine whether the libglvnd libraries are already available, and\r\n",
      "      will install them if they're not. Use --install-libglvnd to always\r\n",
      "      install the libglvnd libraries, overwriting any that already exist. Use\r\n",
      "      --no-install-libglvnd to exclude the libglvnd libraries, even if they\r\n",
      "      appear to be missing.\r\n",
      "\r\n",
      "  --glvnd-glx-client, --no-glvnd-glx-client\r\n",
      "      By default, the NVIDIA GLX driver will be installed with the new GLVND\r\n",
      "      architecture, to support coexisting with other GLVND-compliant GLX\r\n",
      "      drivers. However, some applications which do not conform to the Linux\r\n",
      "      OpenGL ABI may not be fully compatible with a GLVND-based GLX driver. The\r\n",
      "      --no-glvnd-glx-client option will select a non-GLVND GLX client library\r\n",
      "      (libGL.so.1), which may help to avoid compatibility issues with such\r\n",
      "      applications.\r\n",
      "\r\n",
      "  --glvnd-egl-config-path=GLVND-EGL-CONFIG-PATH\r\n",
      "      If the package includes a libglvnd-based EGL library, then install the\r\n",
      "      EGL vendor library config file to this directory. If the libglvnd\r\n",
      "      libraries are already present, then by default the installer will try to\r\n",
      "      determine the path by running `pkg-config --variable=datadir libglvnd`.\r\n",
      "      If that fails, then it will default to /usr/share/glvnd/egl_vendor.d.\r\n",
      "\r\n",
      "  --glvnd-egl-client, --no-glvnd-egl-client\r\n",
      "      By default, the NVIDIA EGL driver will be installed with the new GLVND\r\n",
      "      architecture, to support coexisting with other GLVND-compliant EGL\r\n",
      "      drivers. However, some applications may not be fully compatible with a\r\n",
      "      GLVND-based EGL driver. The --no-glvnd-egl-client option will select a\r\n",
      "      non-GLVND EGL client library, which may help to avoid compatibility\r\n",
      "      issues with such applications.\r\n",
      "\r\n",
      "  --egl-external-platform-config-path=EGL-EXTERNAL-PLATFORM-CONFIG-PATH\r\n",
      "      If the package includes an EGL external platform library, then install\r\n",
      "      the EGL external platform library config file to this directory. Defaults\r\n",
      "      to /usr/share/egl/egl_external_platform.d.\r\n",
      "\r\n"
     ]
    }
   ],
   "source": [
    "!sudo ./NVIDIA-Linux-x86_64-390.67/nvidia-installer -A"
   ]
  },
  {
   "cell_type": "code",
   "execution_count": 14,
   "metadata": {},
   "outputs": [],
   "source": [
    "#! sudo ./NVIDIA-Linux-x86_64-390.67/nvidia-installer   # MUST RUN FROM REAL CLI or with proper options set"
   ]
  },
  {
   "cell_type": "code",
   "execution_count": 15,
   "metadata": {},
   "outputs": [
    {
     "name": "stdout",
     "output_type": "stream",
     "text": [
      "total 1529948\r\n",
      "-rwxrwxr-x. 1 will will 1464606961 Jul 14 20:07 cuda-linux.9.0.176-22781540.run\r\n",
      "-rwxrwxr-x. 1 will will  102054400 Jul 14 20:07 cuda-samples.9.0.176-22781540-linux.run\r\n"
     ]
    }
   ],
   "source": [
    "!ls -l ./cuda/"
   ]
  },
  {
   "cell_type": "code",
   "execution_count": 16,
   "metadata": {},
   "outputs": [
    {
     "name": "stdout",
     "output_type": "stream",
     "text": [
      "Options:\r\n",
      "   -help                : Print help message\r\n",
      "   -prefix=<PATH>       : Specify installation path (default: /usr/local/cuda-9.0)\r\n",
      "   -noprompt            : Silences all prompts during install. Implies acceptance of the EULA\r\n",
      "   -nosymlink           : Prevents the /usr/local/cuda symbolic link from being created\r\n",
      "   -manifest            : Specify a custom path for the uninstallation manifest\r\n",
      "   -tmpdir <PATH>       : Use <PATH> as temporary directory - useful when /tmp is noexec\r\n"
     ]
    }
   ],
   "source": [
    "!sudo ./cuda/cuda-linux.9.0.176-22781540.run -h"
   ]
  },
  {
   "cell_type": "code",
   "execution_count": null,
   "metadata": {},
   "outputs": [],
   "source": [
    "!sudo echo \"/usr/local/cuda/lib64\" >> /etc/ld.so.conf"
   ]
  },
  {
   "cell_type": "code",
   "execution_count": 19,
   "metadata": {},
   "outputs": [],
   "source": [
    "!sudo ldconfig"
   ]
  },
  {
   "cell_type": "code",
   "execution_count": 17,
   "metadata": {},
   "outputs": [
    {
     "name": "stdout",
     "output_type": "stream",
     "text": [
      "include ld.so.conf.d/*.conf\r\n",
      "/usr/local/cuda/lib64\r\n",
      "\r\n"
     ]
    }
   ],
   "source": [
    "!cat /etc/ld.so.conf"
   ]
  },
  {
   "cell_type": "code",
   "execution_count": 26,
   "metadata": {},
   "outputs": [
    {
     "name": "stdout",
     "output_type": "stream",
     "text": [
      "\tlibnvrtc.so.9.0 (libc6,x86-64) => /usr/local/cuda/lib64/libnvrtc.so.9.0\r\n",
      "\tlibnvrtc.so (libc6,x86-64) => /usr/local/cuda/lib64/libnvrtc.so\r\n",
      "\tlibnvrtc-builtins.so.9.0 (libc6,x86-64) => /usr/local/cuda/lib64/libnvrtc-builtins.so.9.0\r\n",
      "\tlibnvrtc-builtins.so (libc6,x86-64) => /usr/local/cuda/lib64/libnvrtc-builtins.so\r\n",
      "\tlibnvgraph.so.9.0 (libc6,x86-64) => /usr/local/cuda/lib64/libnvgraph.so.9.0\r\n",
      "\tlibnvgraph.so (libc6,x86-64) => /usr/local/cuda/lib64/libnvgraph.so\r\n",
      "\tlibnvblas.so.9.0 (libc6,x86-64) => /usr/local/cuda/lib64/libnvblas.so.9.0\r\n",
      "\tlibnvblas.so (libc6,x86-64) => /usr/local/cuda/lib64/libnvblas.so\r\n",
      "\tlibnvToolsExt.so.1 (libc6,x86-64) => /usr/local/cuda/lib64/libnvToolsExt.so.1\r\n",
      "\tlibnvToolsExt.so (libc6,x86-64) => /usr/local/cuda/lib64/libnvToolsExt.so\r\n",
      "\tlibnpps.so.9.0 (libc6,x86-64) => /usr/local/cuda/lib64/libnpps.so.9.0\r\n",
      "\tlibnpps.so (libc6,x86-64) => /usr/local/cuda/lib64/libnpps.so\r\n",
      "\tlibnppitc.so.9.0 (libc6,x86-64) => /usr/local/cuda/lib64/libnppitc.so.9.0\r\n",
      "\tlibnppitc.so (libc6,x86-64) => /usr/local/cuda/lib64/libnppitc.so\r\n",
      "\tlibnppisu.so.9.0 (libc6,x86-64) => /usr/local/cuda/lib64/libnppisu.so.9.0\r\n",
      "\tlibnppisu.so (libc6,x86-64) => /usr/local/cuda/lib64/libnppisu.so\r\n",
      "\tlibnppist.so.9.0 (libc6,x86-64) => /usr/local/cuda/lib64/libnppist.so.9.0\r\n",
      "\tlibnppist.so (libc6,x86-64) => /usr/local/cuda/lib64/libnppist.so\r\n",
      "\tlibnppim.so.9.0 (libc6,x86-64) => /usr/local/cuda/lib64/libnppim.so.9.0\r\n",
      "\tlibnppim.so (libc6,x86-64) => /usr/local/cuda/lib64/libnppim.so\r\n",
      "\tlibnppig.so.9.0 (libc6,x86-64) => /usr/local/cuda/lib64/libnppig.so.9.0\r\n",
      "\tlibnppig.so (libc6,x86-64) => /usr/local/cuda/lib64/libnppig.so\r\n",
      "\tlibnppif.so.9.0 (libc6,x86-64) => /usr/local/cuda/lib64/libnppif.so.9.0\r\n",
      "\tlibnppif.so (libc6,x86-64) => /usr/local/cuda/lib64/libnppif.so\r\n",
      "\tlibnppidei.so.9.0 (libc6,x86-64) => /usr/local/cuda/lib64/libnppidei.so.9.0\r\n",
      "\tlibnppidei.so (libc6,x86-64) => /usr/local/cuda/lib64/libnppidei.so\r\n",
      "\tlibnppicom.so.9.0 (libc6,x86-64) => /usr/local/cuda/lib64/libnppicom.so.9.0\r\n",
      "\tlibnppicom.so (libc6,x86-64) => /usr/local/cuda/lib64/libnppicom.so\r\n",
      "\tlibnppicc.so.9.0 (libc6,x86-64) => /usr/local/cuda/lib64/libnppicc.so.9.0\r\n",
      "\tlibnppicc.so (libc6,x86-64) => /usr/local/cuda/lib64/libnppicc.so\r\n",
      "\tlibnppial.so.9.0 (libc6,x86-64) => /usr/local/cuda/lib64/libnppial.so.9.0\r\n",
      "\tlibnppial.so (libc6,x86-64) => /usr/local/cuda/lib64/libnppial.so\r\n",
      "\tlibnppc.so.9.0 (libc6,x86-64) => /usr/local/cuda/lib64/libnppc.so.9.0\r\n",
      "\tlibnppc.so (libc6,x86-64) => /usr/local/cuda/lib64/libnppc.so\r\n",
      "\tlibcusparse.so.9.0 (libc6,x86-64) => /usr/local/cuda/lib64/libcusparse.so.9.0\r\n",
      "\tlibcusparse.so (libc6,x86-64) => /usr/local/cuda/lib64/libcusparse.so\r\n",
      "\tlibcusolver.so.9.0 (libc6,x86-64) => /usr/local/cuda/lib64/libcusolver.so.9.0\r\n",
      "\tlibcusolver.so (libc6,x86-64) => /usr/local/cuda/lib64/libcusolver.so\r\n",
      "\tlibcurand.so.9.0 (libc6,x86-64) => /usr/local/cuda/lib64/libcurand.so.9.0\r\n",
      "\tlibcurand.so (libc6,x86-64) => /usr/local/cuda/lib64/libcurand.so\r\n",
      "\tlibcuinj64.so.9.0 (libc6,x86-64) => /usr/local/cuda/lib64/libcuinj64.so.9.0\r\n",
      "\tlibcuinj64.so (libc6,x86-64) => /usr/local/cuda/lib64/libcuinj64.so\r\n",
      "\tlibcufftw.so.9.0 (libc6,x86-64) => /usr/local/cuda/lib64/libcufftw.so.9.0\r\n",
      "\tlibcufftw.so (libc6,x86-64) => /usr/local/cuda/lib64/libcufftw.so\r\n",
      "\tlibcufft.so.9.0 (libc6,x86-64) => /usr/local/cuda/lib64/libcufft.so.9.0\r\n",
      "\tlibcufft.so (libc6,x86-64) => /usr/local/cuda/lib64/libcufft.so\r\n",
      "\tlibcudart.so.9.0 (libc6,x86-64) => /usr/local/cuda/lib64/libcudart.so.9.0\r\n",
      "\tlibcudart.so (libc6,x86-64) => /usr/local/cuda/lib64/libcudart.so\r\n",
      "\tlibcublas.so.9.0 (libc6,x86-64) => /usr/local/cuda/lib64/libcublas.so.9.0\r\n",
      "\tlibcublas.so (libc6,x86-64) => /usr/local/cuda/lib64/libcublas.so\r\n",
      "\tlibaccinj64.so.9.0 (libc6,x86-64) => /usr/local/cuda/lib64/libaccinj64.so.9.0\r\n",
      "\tlibaccinj64.so (libc6,x86-64) => /usr/local/cuda/lib64/libaccinj64.so\r\n",
      "\tlibOpenCL.so.1 (libc6,x86-64) => /usr/local/cuda/lib64/libOpenCL.so.1\r\n",
      "\tlibOpenCL.so (libc6,x86-64) => /usr/local/cuda/lib64/libOpenCL.so\r\n",
      "cuda libs linked\r\n"
     ]
    }
   ],
   "source": [
    "!sudo ldconfig -p | grep /usr/local/cuda/lib64/ && echo 'cuda libs linked' || echo 'cuda libs NOT linked'"
   ]
  },
  {
   "cell_type": "code",
   "execution_count": 27,
   "metadata": {},
   "outputs": [
    {
     "name": "stdout",
     "output_type": "stream",
     "text": [
      "cuda\t\t\t       Desktop\r\n",
      "cuda_9.0.176.1_linux.run       Downloads\r\n",
      "cuda_9.0.176.2_linux.run       neural_net_prep.ipynb\r\n",
      "cuda_9.0.176_384.81_linux.run  NVIDIA-Linux-x86_64-390.67\r\n",
      "cuda_9.0.176.3_linux.run       NVIDIA-Linux-x86_64-390.67.run\r\n",
      "cuda_install.ipynb\t       nvvp_workspace\r\n",
      "cudnn-9.0-linux-x64-v7.1.tgz\r\n"
     ]
    }
   ],
   "source": [
    "!ls"
   ]
  },
  {
   "cell_type": "code",
   "execution_count": null,
   "metadata": {},
   "outputs": [],
   "source": [
    "!#sudo ./cuda_9.0.176.1_linux.run # RUN FROM CLI"
   ]
  },
  {
   "cell_type": "code",
   "execution_count": null,
   "metadata": {},
   "outputs": [],
   "source": [
    "!#sudo ./cuda_9.0.176.2_linux.run # RUN FROM CLI"
   ]
  },
  {
   "cell_type": "code",
   "execution_count": null,
   "metadata": {},
   "outputs": [],
   "source": [
    "!#sudo ./cuda_9.0.176.3_linux.run # RUN FROM CLI"
   ]
  },
  {
   "cell_type": "code",
   "execution_count": 32,
   "metadata": {},
   "outputs": [],
   "source": [
    "!sudo su -c  'echo \"export PATH=$PATH:/usr/local/cuda/bin\" >> /etc/profile.d/custom.sh'"
   ]
  },
  {
   "cell_type": "code",
   "execution_count": 33,
   "metadata": {},
   "outputs": [],
   "source": [
    "!source /etc/profile.d/custom.sh"
   ]
  },
  {
   "cell_type": "code",
   "execution_count": 34,
   "metadata": {},
   "outputs": [
    {
     "name": "stdout",
     "output_type": "stream",
     "text": [
      "Sun Jul 15 10:27:44 2018       \r\n",
      "+-----------------------------------------------------------------------------+\r\n",
      "| NVIDIA-SMI 390.67                 Driver Version: 390.67                    |\r\n",
      "|-------------------------------+----------------------+----------------------+\r\n",
      "| GPU  Name        Persistence-M| Bus-Id        Disp.A | Volatile Uncorr. ECC |\r\n",
      "| Fan  Temp  Perf  Pwr:Usage/Cap|         Memory-Usage | GPU-Util  Compute M. |\r\n",
      "|===============================+======================+======================|\r\n",
      "|   0  GeForce GTX 106...  Off  | 00000000:01:00.0 Off |                  N/A |\r\n",
      "|  0%   33C    P0    26W / 120W |      0MiB /  3019MiB |      0%      Default |\r\n",
      "+-------------------------------+----------------------+----------------------+\r\n",
      "                                                                               \r\n",
      "+-----------------------------------------------------------------------------+\r\n",
      "| Processes:                                                       GPU Memory |\r\n",
      "|  GPU       PID   Type   Process name                             Usage      |\r\n",
      "|=============================================================================|\r\n",
      "|  No running processes found                                                 |\r\n",
      "+-----------------------------------------------------------------------------+\r\n"
     ]
    }
   ],
   "source": [
    "!nvidia-smi"
   ]
  },
  {
   "cell_type": "code",
   "execution_count": 35,
   "metadata": {},
   "outputs": [
    {
     "name": "stdout",
     "output_type": "stream",
     "text": [
      "NVRM version: NVIDIA UNIX x86_64 Kernel Module  390.67  Fri Jun  1 04:04:27 PDT 2018\r\n",
      "GCC version:  gcc version 4.8.5 20150623 (Red Hat 4.8.5-28) (GCC) \r\n"
     ]
    }
   ],
   "source": [
    "!cat /proc/driver/nvidia/version"
   ]
  },
  {
   "cell_type": "code",
   "execution_count": 36,
   "metadata": {},
   "outputs": [
    {
     "name": "stdout",
     "output_type": "stream",
     "text": [
      "cuda/include/cudnn.h\n",
      "cuda/NVIDIA_SLA_cuDNN_Support.txt\n",
      "cuda/lib64/libcudnn.so\n",
      "cuda/lib64/libcudnn.so.7\n",
      "cuda/lib64/libcudnn.so.7.1.4\n",
      "cuda/lib64/libcudnn_static.a\n"
     ]
    }
   ],
   "source": [
    "!tar xvf cudnn-9.0-linux-x64-v7.1.tgz"
   ]
  },
  {
   "cell_type": "code",
   "execution_count": 37,
   "metadata": {},
   "outputs": [],
   "source": [
    "!sudo cp cuda/include/cudnn.h /usr/local/cuda/include\n",
    "!sudo cp cuda/lib64/libcudnn* /usr/local/cuda/lib64\n",
    "!sudo chmod a+r /usr/local/cuda/include/cudnn.h /usr/local/cuda/lib64/libcudnn*"
   ]
  },
  {
   "cell_type": "code",
   "execution_count": null,
   "metadata": {},
   "outputs": [],
   "source": []
  }
 ],
 "metadata": {
  "kernelspec": {
   "display_name": "Python 3",
   "language": "python",
   "name": "python3"
  },
  "language_info": {
   "codemirror_mode": {
    "name": "ipython",
    "version": 3
   },
   "file_extension": ".py",
   "mimetype": "text/x-python",
   "name": "python",
   "nbconvert_exporter": "python",
   "pygments_lexer": "ipython3",
   "version": "3.6.5"
  }
 },
 "nbformat": 4,
 "nbformat_minor": 2
}
