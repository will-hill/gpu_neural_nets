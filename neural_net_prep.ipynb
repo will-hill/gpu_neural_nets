{
 "cells": [
  {
   "cell_type": "markdown",
   "metadata": {},
   "source": [
    "# pre notebook\n",
    "* fix IP \n",
    "* fix hostname\n",
    "* wget https://raw.githubusercontent.com/williamClanton/gpu_neural_nets/master/neural_net_prep.ipynb"
   ]
  },
  {
   "cell_type": "markdown",
   "metadata": {},
   "source": [
    "# prepare OS"
   ]
  },
  {
   "cell_type": "code",
   "execution_count": null,
   "metadata": {},
   "outputs": [],
   "source": [
    "!ls  "
   ]
  },
  {
   "cell_type": "code",
   "execution_count": null,
   "metadata": {},
   "outputs": [],
   "source": [
    "!uname -a"
   ]
  },
  {
   "cell_type": "code",
   "execution_count": null,
   "metadata": {},
   "outputs": [],
   "source": [
    "!cat /etc/redhat-release"
   ]
  },
  {
   "cell_type": "code",
   "execution_count": null,
   "metadata": {},
   "outputs": [],
   "source": [
    "!yum -y install epel-release"
   ]
  },
  {
   "cell_type": "code",
   "execution_count": null,
   "metadata": {},
   "outputs": [],
   "source": [
    "!yum list installed | grep -i 'java\\|jdk' "
   ]
  },
  {
   "cell_type": "code",
   "execution_count": null,
   "metadata": {},
   "outputs": [],
   "source": [
    "!yum -y install ../jdk-8u171-linux-x64.rpm"
   ]
  },
  {
   "cell_type": "code",
   "execution_count": 1,
   "metadata": {},
   "outputs": [
    {
     "name": "stdout",
     "output_type": "stream",
     "text": [
      "Loaded plugins: fastestmirror\n",
      "Loading mirror speeds from cached hostfile\n",
      " * base: mirror.wdc1.us.leaseweb.net\n",
      " * epel: epel.mirror.constant.com\n",
      " * extras: mirror.vcu.edu\n",
      " * updates: centos2.zswap.net\n",
      "No packages marked for update\n"
     ]
    }
   ],
   "source": [
    "!yum -y update"
   ]
  },
  {
   "cell_type": "markdown",
   "metadata": {},
   "source": [
    "### ~ snapshot ~"
   ]
  },
  {
   "cell_type": "markdown",
   "metadata": {},
   "source": [
    "# Zookeeper"
   ]
  },
  {
   "cell_type": "code",
   "execution_count": 2,
   "metadata": {},
   "outputs": [],
   "source": [
    "!useradd -G wheel zookeeper"
   ]
  },
  {
   "cell_type": "code",
   "execution_count": 3,
   "metadata": {},
   "outputs": [],
   "source": [
    "!mkdir -p ~zookeeper/.ssh ; cp ~/.ssh/authorized_keys ~zookeeper/.ssh "
   ]
  },
  {
   "cell_type": "code",
   "execution_count": 4,
   "metadata": {},
   "outputs": [
    {
     "name": "stdout",
     "output_type": "stream",
     "text": [
      "--2018-07-13 10:49:03--  http://mirror.cc.columbia.edu/pub/software/apache/zookeeper/stable/zookeeper-3.4.12.tar.gz\n",
      "Resolving mirror.cc.columbia.edu (mirror.cc.columbia.edu)... 128.59.59.71\n",
      "Connecting to mirror.cc.columbia.edu (mirror.cc.columbia.edu)|128.59.59.71|:80... connected.\n",
      "HTTP request sent, awaiting response... 200 OK\n",
      "Length: 36667596 (35M) [application/x-gzip]\n",
      "Saving to: ‘zookeeper-3.4.12.tar.gz’\n",
      "\n",
      "100%[======================================>] 36,667,596  5.81MB/s   in 5.5s   \n",
      "\n",
      "2018-07-13 10:49:09 (6.36 MB/s) - ‘zookeeper-3.4.12.tar.gz’ saved [36667596/36667596]\n",
      "\n"
     ]
    }
   ],
   "source": [
    "!wget http://mirror.cc.columbia.edu/pub/software/apache/zookeeper/stable/zookeeper-3.4.12.tar.gz"
   ]
  },
  {
   "cell_type": "code",
   "execution_count": 31,
   "metadata": {},
   "outputs": [],
   "source": [
    "!tar xf zookeeper-3.4.12.tar.gz -C /opt"
   ]
  },
  {
   "cell_type": "code",
   "execution_count": 32,
   "metadata": {},
   "outputs": [],
   "source": [
    "!mv /opt/zookeeper-3.4.12 /opt/.zookeeper-3.4.12"
   ]
  },
  {
   "cell_type": "code",
   "execution_count": 33,
   "metadata": {},
   "outputs": [
    {
     "name": "stdout",
     "output_type": "stream",
     "text": [
      "/opt ~\r\n",
      "~\r\n"
     ]
    }
   ],
   "source": [
    "!pushd /opt; ln -s .zookeeper-3.4.12 zookeeper ; popd"
   ]
  },
  {
   "cell_type": "code",
   "execution_count": 34,
   "metadata": {},
   "outputs": [],
   "source": [
    "!printf \"tickTime=2000\\ndataDir=/var/lib/zookeeper\\nclientPort=2181\\n\" > /opt/zookeeper/conf/zoo.cfg "
   ]
  },
  {
   "cell_type": "code",
   "execution_count": 35,
   "metadata": {},
   "outputs": [
    {
     "name": "stdout",
     "output_type": "stream",
     "text": [
      "tickTime=2000\r\n",
      "dataDir=/var/lib/zookeeper\r\n",
      "clientPort=2181\r\n"
     ]
    }
   ],
   "source": [
    "!cat /opt/zookeeper/conf/zoo.cfg"
   ]
  },
  {
   "cell_type": "code",
   "execution_count": 36,
   "metadata": {},
   "outputs": [],
   "source": [
    "!mkdir -p /var/lib/zookeeper"
   ]
  },
  {
   "cell_type": "code",
   "execution_count": 4,
   "metadata": {},
   "outputs": [],
   "source": [
    "!mkdir -p /var/log/zookeeper"
   ]
  },
  {
   "cell_type": "code",
   "execution_count": 5,
   "metadata": {},
   "outputs": [],
   "source": [
    "!printf \\\n",
    "\"[Unit]\\n\\\n",
    "Description=Zookeeper\\n\\\n",
    "After=network.target syslog.target\\n\\\n",
    "\\n\\\n",
    "[Service]\\n\\\n",
    "Type=forking\\n\\\n",
    "User=zookeeper\\n\\\n",
    "Group=zookeeper\\n\\\n",
    "SyslogIdentifier=zookeeper\\n\\\n",
    "TimeoutStartSec=10min\\n\\\n",
    "ExecStart=/opt/zookeeper/bin/zkServer.sh start\\n\\\n",
    "ExecStop=/opt/zookeeper/bin/zkServer.sh stop\\n\\\n",
    "SyslogIdentifier=zookeeper\\n\\\n",
    "\\n\\\n",
    "[Install]\\n\\\n",
    "WantedBy=multi-user.target\\n\" \\\n",
    "> /usr/lib/systemd/system/zookeeper.service"
   ]
  },
  {
   "cell_type": "code",
   "execution_count": 6,
   "metadata": {},
   "outputs": [
    {
     "name": "stdout",
     "output_type": "stream",
     "text": [
      "[Unit]\r\n",
      "Description=Zookeeper\r\n",
      "After=network.target syslog.target\r\n",
      "\r\n",
      "[Service]\r\n",
      "Type=forking\r\n",
      "User=zookeeper\r\n",
      "Group=zookeeper\r\n",
      "SyslogIdentifier=zookeeper\r\n",
      "TimeoutStartSec=10min\r\n",
      "ExecStart=/opt/zookeeper/bin/zkServer.sh start\r\n",
      "ExecStop=/opt/zookeeper/bin/zkServer.sh stop\r\n",
      "SyslogIdentifier=zookeeper\r\n",
      "\r\n",
      "[Install]\r\n",
      "WantedBy=multi-user.target\r\n"
     ]
    }
   ],
   "source": [
    "!cat /usr/lib/systemd/system/zookeeper.service"
   ]
  },
  {
   "cell_type": "code",
   "execution_count": 11,
   "metadata": {},
   "outputs": [],
   "source": [
    "!chown -R zookeeper:zookeeper /opt/.zookeeper-3.4.12 /opt/zookeeper /var/lib/zookeeper ~zookeeper /var/log/zookeeper"
   ]
  },
  {
   "cell_type": "code",
   "execution_count": 8,
   "metadata": {},
   "outputs": [
    {
     "name": "stdout",
     "output_type": "stream",
     "text": [
      "Created symlink from /etc/systemd/system/multi-user.target.wants/zookeeper.service to /usr/lib/systemd/system/zookeeper.service.\r\n"
     ]
    }
   ],
   "source": [
    "!systemctl enable zookeeper"
   ]
  },
  {
   "cell_type": "code",
   "execution_count": 11,
   "metadata": {},
   "outputs": [],
   "source": [
    "!chown -R zookeeper:zookeeper /opt/.zookeeper-3.4.12 /opt/zookeeper /var/lib/zookeeper ~zookeeper /var/log/zookeeper"
   ]
  },
  {
   "cell_type": "code",
   "execution_count": 9,
   "metadata": {},
   "outputs": [],
   "source": [
    "!systemctl start zookeeper"
   ]
  },
  {
   "cell_type": "code",
   "execution_count": 10,
   "metadata": {},
   "outputs": [
    {
     "name": "stdout",
     "output_type": "stream",
     "text": [
      "● zookeeper.service - Zookeeper\r\n",
      "   Loaded: loaded (/usr/lib/systemd/system/zookeeper.service; enabled; vendor preset: disabled)\r\n",
      "   Active: inactive (dead) since Fri 2018-07-13 11:42:57 EDT; 2s ago\r\n",
      "  Process: 3817 ExecStop=/opt/zookeeper/bin/zkServer.sh stop (code=exited, status=0/SUCCESS)\r\n",
      "  Process: 3802 ExecStart=/opt/zookeeper/bin/zkServer.sh start (code=exited, status=0/SUCCESS)\r\n",
      "\r\n",
      "Jul 13 11:42:56 rta.vion.local systemd[1]: Starting Zookeeper...\r\n",
      "Jul 13 11:42:56 rta.vion.local zookeeper[3802]: ZooKeeper JMX enabled by default\r\n",
      "Jul 13 11:42:56 rta.vion.local zookeeper[3802]: Using config: /opt/zookeeper/bin/../conf/zoo.cfg\r\n",
      "Jul 13 11:42:56 rta.vion.local zookeeper[3802]: Starting zookeeper ... /opt/zookeeper/bin/zkServer.sh: line 140: ./zookeeper.out: Permission denied\r\n",
      "Jul 13 11:42:57 rta.vion.local zookeeper[3817]: ZooKeeper JMX enabled by default\r\n",
      "Jul 13 11:42:57 rta.vion.local zookeeper[3817]: Using config: /opt/zookeeper/bin/../conf/zoo.cfg\r\n",
      "Jul 13 11:42:57 rta.vion.local zookeeper[3817]: Stopping zookeeper ... /opt/zookeeper/bin/zkServer.sh: line 182: kill: (3812) - No such process\r\n",
      "Jul 13 11:42:57 rta.vion.local systemd[1]: Started Zookeeper.\r\n"
     ]
    }
   ],
   "source": [
    "!systemctl status zookeeper -l"
   ]
  },
  {
   "cell_type": "code",
   "execution_count": 53,
   "metadata": {},
   "outputs": [
    {
     "name": "stdout",
     "output_type": "stream",
     "text": [
      "Failed to start zookeeper.service: Unit not found.\r\n"
     ]
    }
   ],
   "source": [
    "!systemctl start zookeeper"
   ]
  },
  {
   "cell_type": "code",
   "execution_count": null,
   "metadata": {},
   "outputs": [],
   "source": [
    "\n",
    "systemctl start zookeeper\n",
    "# test\n",
    "systemctl status zookeeper\n",
    "/opt/zookeeper/bin/zkCli.sh -server 127.0.0.1:2181\n",
    "# ctrl + d to quit\n",
    "rm -rf ~/zookeeper-3.4.11.tar.gz\n"
   ]
  },
  {
   "cell_type": "markdown",
   "metadata": {},
   "source": [
    "# IBM Streams"
   ]
  },
  {
   "cell_type": "code",
   "execution_count": null,
   "metadata": {},
   "outputs": [],
   "source": [
    "!useradd -G wheel streamsadmin "
   ]
  },
  {
   "cell_type": "code",
   "execution_count": null,
   "metadata": {},
   "outputs": [],
   "source": [
    "!mkdir -p ~streamsadmin/.ssh\n",
    "!cp /root/.ssh/authorized_keys ~streamsadmin/.ssh\n",
    "!chown -R streamsadmin ~streamsadmin/.ssh\n",
    "!usermod -aG wheel streamsadmin"
   ]
  }
 ],
 "metadata": {
  "kernelspec": {
   "display_name": "Python 3",
   "language": "python",
   "name": "python3"
  },
  "language_info": {
   "codemirror_mode": {
    "name": "ipython",
    "version": 3
   },
   "file_extension": ".py",
   "mimetype": "text/x-python",
   "name": "python",
   "nbconvert_exporter": "python",
   "pygments_lexer": "ipython3",
   "version": "3.6.5"
  }
 },
 "nbformat": 4,
 "nbformat_minor": 2
}
