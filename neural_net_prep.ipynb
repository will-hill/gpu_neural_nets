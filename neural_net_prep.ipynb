{
 "cells": [
  {
   "cell_type": "markdown",
   "metadata": {
    "toc": true
   },
   "source": [
    "<h1>Table of Contents<span class=\"tocSkip\"></span></h1>\n",
    "<div class=\"toc\"><ul class=\"toc-item\"><li><ul class=\"toc-item\"><li><ul class=\"toc-item\"><li><span><a href=\"#pre-notebook\" data-toc-modified-id=\"pre-notebook-0.0.1\">pre notebook</a></span></li></ul></li></ul></li><li><span><a href=\"#prepare-OS\" data-toc-modified-id=\"prepare-OS-1\">prepare OS</a></span><ul class=\"toc-item\"><li><ul class=\"toc-item\"><li><span><a href=\"#~-snapshot-~\" data-toc-modified-id=\"~-snapshot-~-1.0.1\">~ snapshot ~</a></span></li></ul></li></ul></li><li><span><a href=\"#Zookeeper\" data-toc-modified-id=\"Zookeeper-2\">Zookeeper</a></span></li><li><span><a href=\"#IBM-Streams\" data-toc-modified-id=\"IBM-Streams-3\">IBM Streams</a></span><ul class=\"toc-item\"><li><ul class=\"toc-item\"><li><span><a href=\"#user\" data-toc-modified-id=\"user-3.0.1\">user</a></span></li><li><span><a href=\"#os-pre-reqs\" data-toc-modified-id=\"os-pre-reqs-3.0.2\">os pre-reqs</a></span></li><li><span><a href=\"#install\" data-toc-modified-id=\"install-3.0.3\">install</a></span></li><li><span><a href=\"#post-install\" data-toc-modified-id=\"post-install-3.0.4\">post install</a></span></li><li><span><a href=\"#configure\" data-toc-modified-id=\"configure-3.0.5\">configure</a></span></li><li><span><a href=\"#clean-up\" data-toc-modified-id=\"clean-up-3.0.6\">clean up</a></span><ul class=\"toc-item\"><li><span><a href=\"#~-snapshot-~\" data-toc-modified-id=\"~-snapshot-~-3.0.6.1\">~ snapshot ~</a></span></li></ul></li></ul></li></ul></li><li><span><a href=\"#ActiveMQ\" data-toc-modified-id=\"ActiveMQ-4\">ActiveMQ</a></span></li></ul></div>"
   ]
  },
  {
   "cell_type": "markdown",
   "metadata": {
    "heading_collapsed": true
   },
   "source": [
    "### pre notebook\n",
    "* fix IP \n",
    "* fix hostname\n",
    "* wget https://raw.githubusercontent.com/williamClanton/gpu_neural_nets/master/neural_net_prep.ipynb\n",
    "* snapshot "
   ]
  },
  {
   "cell_type": "markdown",
   "metadata": {
    "heading_collapsed": true
   },
   "source": [
    "# prepare OS"
   ]
  },
  {
   "cell_type": "code",
   "execution_count": 2,
   "metadata": {
    "ExecuteTime": {
     "end_time": "2018-07-13T17:55:16.488385Z",
     "start_time": "2018-07-13T17:55:16.369130Z"
    },
    "hidden": true
   },
   "outputs": [
    {
     "name": "stdout",
     "output_type": "stream",
     "text": [
      "neural_net_prep.ipynb  zookeeper-3.4.12.tar.gz\tzookeeper.out\r\n"
     ]
    }
   ],
   "source": [
    "!ls  "
   ]
  },
  {
   "cell_type": "code",
   "execution_count": 3,
   "metadata": {
    "ExecuteTime": {
     "end_time": "2018-07-13T17:55:33.143218Z",
     "start_time": "2018-07-13T17:55:33.024704Z"
    },
    "hidden": true
   },
   "outputs": [
    {
     "name": "stdout",
     "output_type": "stream",
     "text": [
      "Linux rta.vion.local 3.10.0-862.6.3.el7.x86_64 #1 SMP Tue Jun 26 16:32:21 UTC 2018 x86_64 x86_64 x86_64 GNU/Linux\r\n"
     ]
    }
   ],
   "source": [
    "!uname -a"
   ]
  },
  {
   "cell_type": "code",
   "execution_count": 3,
   "metadata": {
    "hidden": true
   },
   "outputs": [
    {
     "name": "stdout",
     "output_type": "stream",
     "text": [
      "CentOS Linux release 7.5.1804 (Core) \r\n"
     ]
    }
   ],
   "source": [
    "!cat /etc/redhat-release"
   ]
  },
  {
   "cell_type": "code",
   "execution_count": 4,
   "metadata": {
    "ExecuteTime": {
     "end_time": "2018-07-13T17:55:40.068845Z",
     "start_time": "2018-07-13T17:55:36.071115Z"
    },
    "hidden": true
   },
   "outputs": [
    {
     "name": "stdout",
     "output_type": "stream",
     "text": [
      "Loaded plugins: fastestmirror\n",
      "Loading mirror speeds from cached hostfile\n",
      " * base: mirror.wdc1.us.leaseweb.net\n",
      " * epel: ewr.edge.kernel.org\n",
      " * extras: mirror.vcu.edu\n",
      " * updates: centos2.zswap.net\n",
      "Package epel-release-7-11.noarch already installed and latest version\n",
      "Nothing to do\n"
     ]
    }
   ],
   "source": [
    "!yum -y install epel-release"
   ]
  },
  {
   "cell_type": "code",
   "execution_count": 5,
   "metadata": {
    "hidden": true
   },
   "outputs": [
    {
     "name": "stdout",
     "output_type": "stream",
     "text": [
      "jdk1.8.x86_64                         2000:1.8.0_171-fcs               installed\r\n"
     ]
    }
   ],
   "source": [
    "!yum list installed | grep -i 'java\\|jdk' "
   ]
  },
  {
   "cell_type": "code",
   "execution_count": 6,
   "metadata": {
    "hidden": true
   },
   "outputs": [
    {
     "name": "stdout",
     "output_type": "stream",
     "text": [
      "Loaded plugins: fastestmirror\n",
      "Loading mirror speeds from cached hostfile\n",
      " * base: mirror.wdc1.us.leaseweb.net\n",
      " * epel: fedora-epel.mirrors.tds.net\n",
      " * extras: mirror.vcu.edu\n",
      " * updates: mirror.cc.columbia.edu\n",
      "No packages marked for update\n"
     ]
    }
   ],
   "source": [
    "!yum -y update"
   ]
  },
  {
   "cell_type": "markdown",
   "metadata": {
    "hidden": true
   },
   "source": [
    "### ~ snapshot ~"
   ]
  },
  {
   "cell_type": "markdown",
   "metadata": {
    "heading_collapsed": true
   },
   "source": [
    "# Zookeeper"
   ]
  },
  {
   "cell_type": "code",
   "execution_count": 7,
   "metadata": {
    "hidden": true
   },
   "outputs": [],
   "source": [
    "!useradd -G wheel zookeeper"
   ]
  },
  {
   "cell_type": "code",
   "execution_count": 9,
   "metadata": {
    "hidden": true
   },
   "outputs": [],
   "source": [
    "!mkdir -p ~zookeeper/.ssh ; cp ~/.ssh/authorized_keys ~zookeeper/.ssh/ ; chown -R zookeeper:zookeeper ~zookeeper"
   ]
  },
  {
   "cell_type": "code",
   "execution_count": 10,
   "metadata": {
    "hidden": true
   },
   "outputs": [
    {
     "name": "stdout",
     "output_type": "stream",
     "text": [
      "--2018-07-13 11:59:19--  http://mirror.cc.columbia.edu/pub/software/apache/zookeeper/stable/zookeeper-3.4.12.tar.gz\n",
      "Resolving mirror.cc.columbia.edu (mirror.cc.columbia.edu)... 128.59.59.71\n",
      "Connecting to mirror.cc.columbia.edu (mirror.cc.columbia.edu)|128.59.59.71|:80... connected.\n",
      "HTTP request sent, awaiting response... 200 OK\n",
      "Length: 36667596 (35M) [application/x-gzip]\n",
      "Saving to: ‘zookeeper-3.4.12.tar.gz’\n",
      "\n",
      "100%[======================================>] 36,667,596  8.19MB/s   in 4.2s   \n",
      "\n",
      "2018-07-13 11:59:24 (8.27 MB/s) - ‘zookeeper-3.4.12.tar.gz’ saved [36667596/36667596]\n",
      "\n"
     ]
    }
   ],
   "source": [
    "!wget http://mirror.cc.columbia.edu/pub/software/apache/zookeeper/stable/zookeeper-3.4.12.tar.gz"
   ]
  },
  {
   "cell_type": "code",
   "execution_count": 11,
   "metadata": {
    "hidden": true
   },
   "outputs": [],
   "source": [
    "!tar xf zookeeper-3.4.12.tar.gz -C /opt"
   ]
  },
  {
   "cell_type": "code",
   "execution_count": 12,
   "metadata": {
    "hidden": true
   },
   "outputs": [],
   "source": [
    "!mv /opt/zookeeper-3.4.12 /opt/.zookeeper-3.4.12"
   ]
  },
  {
   "cell_type": "code",
   "execution_count": 13,
   "metadata": {
    "hidden": true
   },
   "outputs": [
    {
     "name": "stdout",
     "output_type": "stream",
     "text": [
      "/opt ~\r\n",
      "~\r\n"
     ]
    }
   ],
   "source": [
    "!pushd /opt; ln -s .zookeeper-3.4.12 zookeeper ; popd"
   ]
  },
  {
   "cell_type": "code",
   "execution_count": 14,
   "metadata": {
    "hidden": true
   },
   "outputs": [],
   "source": [
    "!printf \"tickTime=2000\\ndataDir=/var/lib/zookeeper\\nclientPort=2181\\n\" > /opt/zookeeper/conf/zoo.cfg "
   ]
  },
  {
   "cell_type": "code",
   "execution_count": 15,
   "metadata": {
    "hidden": true
   },
   "outputs": [
    {
     "name": "stdout",
     "output_type": "stream",
     "text": [
      "tickTime=2000\r\n",
      "dataDir=/var/lib/zookeeper\r\n",
      "clientPort=2181\r\n"
     ]
    }
   ],
   "source": [
    "!cat /opt/zookeeper/conf/zoo.cfg"
   ]
  },
  {
   "cell_type": "code",
   "execution_count": 16,
   "metadata": {
    "hidden": true
   },
   "outputs": [],
   "source": [
    "!mkdir -p /var/lib/zookeeper"
   ]
  },
  {
   "cell_type": "code",
   "execution_count": 17,
   "metadata": {
    "hidden": true
   },
   "outputs": [],
   "source": [
    "!mkdir -p /var/log/zookeeper"
   ]
  },
  {
   "cell_type": "code",
   "execution_count": 18,
   "metadata": {
    "hidden": true
   },
   "outputs": [],
   "source": [
    "!printf \\\n",
    "\"[Unit]\\n\\\n",
    "Description=Zookeeper\\n\\\n",
    "After=network.target syslog.target\\n\\\n",
    "\\n\\\n",
    "[Service]\\n\\\n",
    "Type=forking\\n\\\n",
    "User=zookeeper\\n\\\n",
    "Group=zookeeper\\n\\\n",
    "SyslogIdentifier=zookeeper\\n\\\n",
    "TimeoutStartSec=10min\\n\\\n",
    "ExecStart=/opt/zookeeper/bin/zkServer.sh start\\n\\\n",
    "ExecStop=/opt/zookeeper/bin/zkServer.sh stop\\n\\\n",
    "SyslogIdentifier=zookeeper\\n\\\n",
    "\\n\\\n",
    "[Install]\\n\\\n",
    "WantedBy=multi-user.target\\n\" \\\n",
    "> /usr/lib/systemd/system/zookeeper.service"
   ]
  },
  {
   "cell_type": "code",
   "execution_count": 19,
   "metadata": {
    "hidden": true
   },
   "outputs": [
    {
     "name": "stdout",
     "output_type": "stream",
     "text": [
      "[Unit]\r\n",
      "Description=Zookeeper\r\n",
      "After=network.target syslog.target\r\n",
      "\r\n",
      "[Service]\r\n",
      "Type=forking\r\n",
      "User=zookeeper\r\n",
      "Group=zookeeper\r\n",
      "SyslogIdentifier=zookeeper\r\n",
      "TimeoutStartSec=10min\r\n",
      "ExecStart=/opt/zookeeper/bin/zkServer.sh start\r\n",
      "ExecStop=/opt/zookeeper/bin/zkServer.sh stop\r\n",
      "SyslogIdentifier=zookeeper\r\n",
      "\r\n",
      "[Install]\r\n",
      "WantedBy=multi-user.target\r\n"
     ]
    }
   ],
   "source": [
    "!cat /usr/lib/systemd/system/zookeeper.service"
   ]
  },
  {
   "cell_type": "code",
   "execution_count": 20,
   "metadata": {
    "hidden": true
   },
   "outputs": [],
   "source": [
    "!chown -R zookeeper:zookeeper /opt/.zookeeper-3.4.12 /opt/zookeeper /var/lib/zookeeper ~zookeeper /var/log/zookeeper"
   ]
  },
  {
   "cell_type": "code",
   "execution_count": 21,
   "metadata": {
    "hidden": true
   },
   "outputs": [
    {
     "name": "stdout",
     "output_type": "stream",
     "text": [
      "Created symlink from /etc/systemd/system/multi-user.target.wants/zookeeper.service to /usr/lib/systemd/system/zookeeper.service.\r\n"
     ]
    }
   ],
   "source": [
    "!systemctl enable zookeeper"
   ]
  },
  {
   "cell_type": "code",
   "execution_count": 11,
   "metadata": {
    "hidden": true
   },
   "outputs": [],
   "source": [
    "!chown -R zookeeper:zookeeper /opt/.zookeeper-3.4.12 /opt/zookeeper /var/lib/zookeeper ~zookeeper /var/log/zookeeper"
   ]
  },
  {
   "cell_type": "code",
   "execution_count": 22,
   "metadata": {
    "hidden": true
   },
   "outputs": [],
   "source": [
    "!systemctl start zookeeper"
   ]
  },
  {
   "cell_type": "code",
   "execution_count": 23,
   "metadata": {
    "hidden": true
   },
   "outputs": [
    {
     "name": "stdout",
     "output_type": "stream",
     "text": [
      "● zookeeper.service - Zookeeper\r\n",
      "   Loaded: loaded (/usr/lib/systemd/system/zookeeper.service; enabled; vendor preset: disabled)\r\n",
      "   Active: inactive (dead) since Fri 2018-07-13 12:06:45 EDT; 1min 17s ago\r\n",
      "  Process: 3794 ExecStop=/opt/zookeeper/bin/zkServer.sh stop (code=exited, status=0/SUCCESS)\r\n",
      "  Process: 3779 ExecStart=/opt/zookeeper/bin/zkServer.sh start (code=exited, status=0/SUCCESS)\r\n",
      "\r\n",
      "Jul 13 12:06:44 rta.vion.local systemd[1]: Starting Zookeeper...\r\n",
      "Jul 13 12:06:44 rta.vion.local zookeeper[3779]: ZooKeeper JMX enabled by default\r\n",
      "Jul 13 12:06:44 rta.vion.local zookeeper[3779]: Using config: /opt/zookeeper/bin/../conf/zoo.cfg\r\n",
      "Jul 13 12:06:44 rta.vion.local zookeeper[3779]: Starting zookeeper ... /opt/zookeeper/bin/zkServer.sh: line 140: ./zookeeper.out: Permission denied\r\n",
      "Jul 13 12:06:45 rta.vion.local zookeeper[3794]: ZooKeeper JMX enabled by default\r\n",
      "Jul 13 12:06:45 rta.vion.local zookeeper[3794]: Using config: /opt/zookeeper/bin/../conf/zoo.cfg\r\n",
      "Jul 13 12:06:45 rta.vion.local zookeeper[3794]: Stopping zookeeper ... /opt/zookeeper/bin/zkServer.sh: line 182: kill: (3789) - No such process\r\n",
      "Jul 13 12:06:45 rta.vion.local systemd[1]: Started Zookeeper.\r\n"
     ]
    }
   ],
   "source": [
    "!systemctl status zookeeper -l"
   ]
  },
  {
   "cell_type": "code",
   "execution_count": 24,
   "metadata": {
    "hidden": true
   },
   "outputs": [],
   "source": [
    "!systemctl start zookeeper"
   ]
  },
  {
   "cell_type": "code",
   "execution_count": null,
   "metadata": {
    "hidden": true
   },
   "outputs": [],
   "source": [
    "\n",
    "systemctl start zookeeper\n",
    "# test\n",
    "systemctl status zookeeper\n",
    "/opt/zookeeper/bin/zkCli.sh -server 127.0.0.1:2181\n",
    "# ctrl + d to quit\n",
    "rm -rf ~/zookeeper-3.4.11.tar.gz\n"
   ]
  },
  {
   "cell_type": "markdown",
   "metadata": {
    "heading_collapsed": true
   },
   "source": [
    "# IBM Streams"
   ]
  },
  {
   "cell_type": "markdown",
   "metadata": {
    "heading_collapsed": true,
    "hidden": true
   },
   "source": [
    "### user"
   ]
  },
  {
   "cell_type": "code",
   "execution_count": 25,
   "metadata": {
    "hidden": true
   },
   "outputs": [],
   "source": [
    "!useradd -G wheel streamsadmin "
   ]
  },
  {
   "cell_type": "code",
   "execution_count": 26,
   "metadata": {
    "hidden": true
   },
   "outputs": [],
   "source": [
    "!mkdir -p ~streamsadmin/.ssh"
   ]
  },
  {
   "cell_type": "code",
   "execution_count": 27,
   "metadata": {
    "hidden": true
   },
   "outputs": [],
   "source": [
    "!cp /root/.ssh/authorized_keys ~streamsadmin/.ssh"
   ]
  },
  {
   "cell_type": "code",
   "execution_count": 28,
   "metadata": {
    "hidden": true
   },
   "outputs": [],
   "source": [
    "!chown -R streamsadmin ~streamsadmin"
   ]
  },
  {
   "cell_type": "markdown",
   "metadata": {
    "heading_collapsed": true,
    "hidden": true
   },
   "source": [
    "### os pre-reqs"
   ]
  },
  {
   "cell_type": "code",
   "execution_count": 23,
   "metadata": {
    "ExecuteTime": {
     "end_time": "2018-07-13T18:22:01.528220Z",
     "start_time": "2018-07-13T18:21:40.206394Z"
    },
    "hidden": true
   },
   "outputs": [
    {
     "name": "stdout",
     "output_type": "stream",
     "text": [
      "Loaded plugins: fastestmirror\n",
      "Loading mirror speeds from cached hostfile\n",
      " * base: mirror.wdc1.us.leaseweb.net\n",
      " * epel: epel.mirror.constant.com\n",
      " * extras: mirror.vcu.edu\n",
      " * updates: centos2.zswap.net\n",
      "Package rdma-core-15-7.el7_5.x86_64 already installed and latest version\n",
      "Package ntp-4.2.6p5-28.el7.centos.x86_64 already installed and latest version\n",
      "Package xdg-utils-1.1.0-0.17.20120809git.el7.noarch already installed and latest version\n",
      "Package perl-XML-Simple-2.20-5.el7.noarch already installed and latest version\n",
      "Package gcc-c++-4.8.5-28.el7_5.1.x86_64 already installed and latest version\n",
      "Package gcc-4.8.5-28.el7_5.1.x86_64 already installed and latest version\n",
      "Resolving Dependencies\n",
      "--> Running transaction check\n",
      "---> Package unzip.x86_64 0:6.0-19.el7 will be installed\n",
      "--> Finished Dependency Resolution\n",
      "\n",
      "Dependencies Resolved\n",
      "\n",
      "================================================================================\n",
      " Package          Arch              Version               Repository       Size\n",
      "================================================================================\n",
      "Installing:\n",
      " unzip            x86_64            6.0-19.el7            base            170 k\n",
      "\n",
      "Transaction Summary\n",
      "================================================================================\n",
      "Install  1 Package\n",
      "\n",
      "Total download size: 170 k\n",
      "Installed size: 365 k\n",
      "Downloading packages:\n",
      "unzip-6.0-19.el7.x86_64.rpm                                | 170 kB   00:00     \n",
      "Running transaction check\n",
      "Running transaction test\n",
      "Transaction test succeeded\n",
      "Running transaction\n",
      "  Installing : unzip-6.0-19.el7.x86_64                                      1/1 \n",
      "  Verifying  : unzip-6.0-19.el7.x86_64                                      1/1 \n",
      "\n",
      "Installed:\n",
      "  unzip.x86_64 0:6.0-19.el7                                                     \n",
      "\n",
      "Complete!\n"
     ]
    }
   ],
   "source": [
    "!yum -y install rdma ntp xdg-utils perl-XML-Simple gcc-c++ gcc unzip"
   ]
  },
  {
   "cell_type": "code",
   "execution_count": 32,
   "metadata": {
    "hidden": true
   },
   "outputs": [
    {
     "name": "stdout",
     "output_type": "stream",
     "text": [
      "Created symlink from /etc/systemd/system/sysinit.target.wants/rdma.service to /usr/lib/systemd/system/rdma.service.\r\n"
     ]
    }
   ],
   "source": [
    "!systemctl enable rdma"
   ]
  },
  {
   "cell_type": "code",
   "execution_count": 33,
   "metadata": {
    "hidden": true
   },
   "outputs": [],
   "source": [
    "!systemctl start rdma"
   ]
  },
  {
   "cell_type": "code",
   "execution_count": 36,
   "metadata": {
    "hidden": true
   },
   "outputs": [
    {
     "name": "stdout",
     "output_type": "stream",
     "text": [
      "Created symlink from /etc/systemd/system/multi-user.target.wants/ntpd.service to /usr/lib/systemd/system/ntpd.service.\r\n"
     ]
    }
   ],
   "source": [
    "!systemctl enable ntpd"
   ]
  },
  {
   "cell_type": "code",
   "execution_count": 37,
   "metadata": {
    "hidden": true
   },
   "outputs": [],
   "source": [
    "!systemctl start ntpd"
   ]
  },
  {
   "cell_type": "code",
   "execution_count": 38,
   "metadata": {
    "hidden": true
   },
   "outputs": [],
   "source": [
    "!echo \"export JAVA_HOME=/usr/java/latest\" >> /etc/profile.d/custom.sh\n",
    "!echo \"PATH=\\$JAVA_HOME/bin:$PATH\" >> /etc/profile.d/custom.sh\n",
    "!echo \"streamsadmin soft nofile 111113\" >> /etc/security/limits.conf\n",
    "!echo \"streamsadmin hard nofile 111113\" >> /etc/security/limits.conf\n",
    "!echo \"streamsadmin soft nproc 257262\" >> /etc/security/limits.conf\n",
    "!echo \"streamsadmin hard nproc 257262\" >> /etc/security/limits.conf\n",
    "!echo \"streamsadmin soft nproc 257262\" >> /etc/security/limits.conf\n",
    "!echo \"fs.file-max = 6815744\" >>  /etc/sysctl.conf\n",
    "# reboot\n",
    "# prolly a good spot to snapshot if virtual"
   ]
  },
  {
   "cell_type": "code",
   "execution_count": 39,
   "metadata": {
    "hidden": true
   },
   "outputs": [],
   "source": [
    "!mkdir -p /opt/ibm/InfoSphere_Streams"
   ]
  },
  {
   "cell_type": "code",
   "execution_count": 40,
   "metadata": {
    "hidden": true
   },
   "outputs": [],
   "source": [
    "!chown streamsadmin:streamsadmin /opt/ibm/InfoSphere_Streams"
   ]
  },
  {
   "cell_type": "markdown",
   "metadata": {
    "heading_collapsed": true,
    "hidden": true
   },
   "source": [
    "### install"
   ]
  },
  {
   "cell_type": "code",
   "execution_count": 7,
   "metadata": {
    "ExecuteTime": {
     "end_time": "2018-07-13T19:15:19.686340Z",
     "start_time": "2018-07-13T19:14:57.655409Z"
    },
    "hidden": true
   },
   "outputs": [
    {
     "name": "stdout",
     "output_type": "stream",
     "text": [
      "StreamsInstallFiles/\n",
      "StreamsInstallFiles/IBMStreams_SampleResponseFile.properties\n",
      "StreamsInstallFiles/com.ibm.streams.install.dependency.jar\n",
      "StreamsInstallFiles/IBMStreamsSetup.bin\n",
      "StreamsInstallFiles/IBMStreams-Install-Config.pdf\n",
      "StreamsInstallFiles/ReleaseNotes.html\n",
      "StreamsInstallFiles/dependency_checker.sh\n",
      "StreamsInstallFiles/ibmdita.css\n"
     ]
    }
   ],
   "source": [
    "!sudo -u streamsadmin tar xvf /home/streamsadmin/Streams-4.2.1.1-x86_64-el7.tar.gz -C /home/streamsadmin/"
   ]
  },
  {
   "cell_type": "code",
   "execution_count": 8,
   "metadata": {
    "ExecuteTime": {
     "end_time": "2018-07-13T19:15:58.448786Z",
     "start_time": "2018-07-13T19:15:55.422243Z"
    },
    "hidden": true
   },
   "outputs": [
    {
     "name": "stdout",
     "output_type": "stream",
     "text": [
      "\n",
      "IBM Streams 4.2.1.1 Dependency Checker\n",
      "Date:  July 13, 2018 3:15:57 PM EDT\n",
      "Edition information:\n",
      "    Edition:  IBM Streams\n",
      "    Edition:  IBM Streams Developer Edition\n",
      "\n",
      "=== System Information ===\n",
      "* Hostname:  rta.vion.local\n",
      "* IP address:  192.168.156.184\n",
      "* Operating system:  CentOS Linux release 7.5.1804 (Core) \n",
      "* System architecture:  x86_64\n",
      "* Security-Enhanced Linux setting:  Disabled\n",
      "* Default Java:   \n",
      "  * Java vendor:  Oracle Corporation\n",
      "  * Java version:  1.8.0_171\n",
      "  * Java VM version:  25.171-b11\n",
      "  * Java runtime version:  1.8.0_171-b11\n",
      "  * Java full version:  NOT_SET\n",
      "  * Java system encoding:  NOT_SET\n",
      "* Java Home:  /usr/java/latest\n",
      "  * Java vendor:  Oracle Corporation\n",
      "  * Java version:  1.8.0_171\n",
      "  * Java VM version:  25.171-b11\n",
      "  * Java runtime version:  1.8.0_171-b11\n",
      "  * Java full version:  NOT_SET\n",
      "  * Java system encoding:  NOT_SET\n",
      "* Encoding:  UTF-8\n",
      "* User Limit (ulimit -S) Settings:\n",
      "  * Max processes (-u):  257262\n",
      "  * Open files (-n):  111113\n",
      "* User Limit (ulimit -H) Settings:\n",
      "  * Max processes (-u):  257262\n",
      "  * Open files (-n):  111113\n",
      "\n",
      "=== System Configuration Check ===\n",
      "* Status:  PASS - Check:  IP address check\n",
      "* Status:  PASS - Check:  Host name resolution check\n",
      "* Status:  PASS - Check:  Operating system version and architecture check\n",
      "* Status:  PASS - Check:  Encoding check\n",
      "* Status:  PASS - Check:  User limit (ulimit -S) settings check\n",
      "* Status:  PASS - Check:  User limit (ulimit -H) settings check\n",
      "* Status:  PASS - Check:  Firewall service check\n",
      "\n",
      "=== Software Dependency Package Check ===\n",
      "* Status:  CORRECT VERSION - Package:  bash, System Version:  4.2.46-30.el7\n",
      "* Status:  CORRECT VERSION - Package:  bzip2-libs, System Version:  1.0.6-13.el7\n",
      "* Status:  CORRECT VERSION - Package:  chkconfig, System Version:  1.7.4-1.el7\n",
      "* Status:  CORRECT VERSION - Package:  coreutils, System Version:  8.22-21.el7\n",
      "* Status:  CORRECT VERSION - Package:  diffutils, System Version:  3.3-4.el7\n",
      "* Status:  CORRECT VERSION - Package:  gawk, System Version:  4.0.2-4.el7_3.1\n",
      "* Status:  CORRECT VERSION - Package:  gcc, System Version:  4.8.5-28.el7_5.1\n",
      "* Status:  CORRECT VERSION - Package:  gcc-c++, System Version:  4.8.5-28.el7_5.1\n",
      "* Status:  CORRECT VERSION - Package:  glibc, System Version:  2.17-222.el7\n",
      "* Status:  CORRECT VERSION - Package:  glibc-common, System Version:  2.17-222.el7\n",
      "* Status:  CORRECT VERSION - Package:  grep, System Version:  2.20-3.el7\n",
      "* Status:  CORRECT VERSION - Package:  initscripts, System Version:  9.49.41-1.el7\n",
      "* Status:  CORRECT VERSION - Package:  libcap, System Version:  2.22-9.el7\n",
      "* Status:  CORRECT VERSION - Package:  libstdc++, System Version:  4.8.5-28.el7_5.1\n",
      "* Status:  CORRECT VERSION - Package:  make, System Version:  3.82-23.el7\n",
      "* Status:  CORRECT VERSION - Package:  numactl-libs, System Version:  2.0.9-7.el7\n",
      "* Status:  CORRECT VERSION - Package:  openldap, System Version:  2.4.44-15.el7_5\n",
      "* Status:  CORRECT VERSION - Package:  openssh-clients, System Version:  7.4p1-16.el7\n",
      "* Status:  CORRECT VERSION - Package:  openssl, System Version:  1.0.2k-12.el7\n",
      "* Status:  CORRECT VERSION - Package:  pam, System Version:  1.1.8-22.el7\n",
      "* Status:  CORRECT VERSION - Package:  perl, System Version:  5.16.3-292.el7\n",
      "* Status:  CORRECT VERSION - Package:  perl-Time-HiRes, System Version:  1.9725-3.el7\n",
      "* Status:  CORRECT VERSION - Package:  perl-XML-Simple, System Version:  2.20-5.el7\n",
      "* Status:  CORRECT VERSION - Package:  pkgconfig, System Version:  0.27.1-4.el7\n",
      "* Status:  CORRECT VERSION - Package:  procps-ng, System Version:  3.3.10-17.el7_5.2\n",
      "* Status:  CORRECT VERSION - Package:  rpm, System Version:  4.11.3-32.el7\n",
      "* Status:  CORRECT VERSION - Package:  sed, System Version:  4.2.2-5.el7\n",
      "* Status:  CORRECT VERSION - Package:  tar, System Version:  1.26-34.el7\n",
      "* Status:  CORRECT VERSION - Package:  util-linux, System Version:  2.23.2-52.el7\n",
      "* Status:  CORRECT VERSION - Package:  which, System Version:  2.20-7.el7\n",
      "* Status:  CORRECT VERSION - Package:  xdg-utils, System Version:  1.1.0-0.17.20120809git.el7\n",
      "\n",
      "=== Summary of Errors and Warnings ===\n",
      "\n",
      "CDISI0003I The dependency checker evaluated the system and did not find errors or warnings.\n",
      "\n"
     ]
    }
   ],
   "source": [
    "!~streamsadmin/StreamsInstallFiles/dependency_checker.sh"
   ]
  },
  {
   "cell_type": "code",
   "execution_count": 9,
   "metadata": {
    "ExecuteTime": {
     "end_time": "2018-07-13T19:16:14.676122Z",
     "start_time": "2018-07-13T19:16:11.701091Z"
    },
    "hidden": true
   },
   "outputs": [
    {
     "name": "stdout",
     "output_type": "stream",
     "text": [
      "\n",
      "IBM Streams 4.2.1.1 Dependency Checker\n",
      "Date:  July 13, 2018 3:16:14 PM EDT\n",
      "Edition information:\n",
      "    Edition:  IBM Streams\n",
      "    Edition:  IBM Streams Developer Edition\n",
      "\n",
      "=== System Information ===\n",
      "* Hostname:  rta.vion.local\n",
      "* IP address:  192.168.156.184\n",
      "* Operating system:  CentOS Linux release 7.5.1804 (Core) \n",
      "* System architecture:  x86_64\n",
      "* Security-Enhanced Linux setting:  Disabled\n",
      "* Default Java:   \n",
      "  * Java vendor:  Oracle Corporation\n",
      "  * Java version:  1.8.0_171\n",
      "  * Java VM version:  25.171-b11\n",
      "  * Java runtime version:  1.8.0_171-b11\n",
      "  * Java full version:  NOT_SET\n",
      "  * Java system encoding:  NOT_SET\n",
      "* Java Home:  NOT_SET\n",
      "* Encoding:  UTF-8\n",
      "* User Limit (ulimit -S) Settings:\n",
      "  * Max processes (-u):  257262\n",
      "  * Open files (-n):  111113\n",
      "* User Limit (ulimit -H) Settings:\n",
      "  * Max processes (-u):  257262\n",
      "  * Open files (-n):  111113\n",
      "\n",
      "=== System Configuration Check ===\n",
      "* Status:  PASS - Check:  IP address check\n",
      "* Status:  PASS - Check:  Host name resolution check\n",
      "* Status:  PASS - Check:  Operating system version and architecture check\n",
      "* Status:  PASS - Check:  Encoding check\n",
      "* Status:  PASS - Check:  User limit (ulimit -S) settings check\n",
      "* Status:  PASS - Check:  User limit (ulimit -H) settings check\n",
      "* Status:  PASS - Check:  Firewall service check\n",
      "\n",
      "=== Software Dependency Package Check ===\n",
      "* Status:  CORRECT VERSION - Package:  bash, System Version:  4.2.46-30.el7\n",
      "* Status:  CORRECT VERSION - Package:  bzip2-libs, System Version:  1.0.6-13.el7\n",
      "* Status:  CORRECT VERSION - Package:  chkconfig, System Version:  1.7.4-1.el7\n",
      "* Status:  CORRECT VERSION - Package:  coreutils, System Version:  8.22-21.el7\n",
      "* Status:  CORRECT VERSION - Package:  diffutils, System Version:  3.3-4.el7\n",
      "* Status:  CORRECT VERSION - Package:  gawk, System Version:  4.0.2-4.el7_3.1\n",
      "* Status:  CORRECT VERSION - Package:  gcc, System Version:  4.8.5-28.el7_5.1\n",
      "* Status:  CORRECT VERSION - Package:  gcc-c++, System Version:  4.8.5-28.el7_5.1\n",
      "* Status:  CORRECT VERSION - Package:  glibc, System Version:  2.17-222.el7\n",
      "* Status:  CORRECT VERSION - Package:  glibc-common, System Version:  2.17-222.el7\n",
      "* Status:  CORRECT VERSION - Package:  grep, System Version:  2.20-3.el7\n",
      "* Status:  CORRECT VERSION - Package:  initscripts, System Version:  9.49.41-1.el7\n",
      "* Status:  CORRECT VERSION - Package:  libcap, System Version:  2.22-9.el7\n",
      "* Status:  CORRECT VERSION - Package:  libstdc++, System Version:  4.8.5-28.el7_5.1\n",
      "* Status:  CORRECT VERSION - Package:  make, System Version:  3.82-23.el7\n",
      "* Status:  CORRECT VERSION - Package:  numactl-libs, System Version:  2.0.9-7.el7\n",
      "* Status:  CORRECT VERSION - Package:  openldap, System Version:  2.4.44-15.el7_5\n",
      "* Status:  CORRECT VERSION - Package:  openssh-clients, System Version:  7.4p1-16.el7\n",
      "* Status:  CORRECT VERSION - Package:  openssl, System Version:  1.0.2k-12.el7\n",
      "* Status:  CORRECT VERSION - Package:  pam, System Version:  1.1.8-22.el7\n",
      "* Status:  CORRECT VERSION - Package:  perl, System Version:  5.16.3-292.el7\n",
      "* Status:  CORRECT VERSION - Package:  perl-Time-HiRes, System Version:  1.9725-3.el7\n",
      "* Status:  CORRECT VERSION - Package:  perl-XML-Simple, System Version:  2.20-5.el7\n",
      "* Status:  CORRECT VERSION - Package:  pkgconfig, System Version:  0.27.1-4.el7\n",
      "* Status:  CORRECT VERSION - Package:  procps-ng, System Version:  3.3.10-17.el7_5.2\n",
      "* Status:  CORRECT VERSION - Package:  rpm, System Version:  4.11.3-32.el7\n",
      "* Status:  CORRECT VERSION - Package:  sed, System Version:  4.2.2-5.el7\n",
      "* Status:  CORRECT VERSION - Package:  tar, System Version:  1.26-34.el7\n",
      "* Status:  CORRECT VERSION - Package:  util-linux, System Version:  2.23.2-52.el7\n",
      "* Status:  CORRECT VERSION - Package:  which, System Version:  2.20-7.el7\n",
      "* Status:  CORRECT VERSION - Package:  xdg-utils, System Version:  1.1.0-0.17.20120809git.el7\n",
      "\n",
      "=== Summary of Errors and Warnings ===\n",
      "\n",
      "CDISI0003I The dependency checker evaluated the system and did not find errors or warnings.\n",
      "\n"
     ]
    }
   ],
   "source": [
    "!sudo -u streamsadmin ~streamsadmin/StreamsInstallFiles/dependency_checker.sh"
   ]
  },
  {
   "cell_type": "code",
   "execution_count": 10,
   "metadata": {
    "ExecuteTime": {
     "end_time": "2018-07-13T19:16:23.665787Z",
     "start_time": "2018-07-13T19:16:23.484876Z"
    },
    "hidden": true
   },
   "outputs": [],
   "source": [
    "!sudo -u streamsadmin \\\n",
    "printf \"\\\n",
    "RESPONSE_FILE_VERSION=2.1 \\n\\\n",
    "INSTALLER_LOCALE=en \\n\\\n",
    "FILE_OWNER_GROUP=streamsadmin \\n\\\n",
    "FILE_OWNER_USER_ID=streamsadmin \\n\\\n",
    "USER_INSTALL_DIR=/opt/ibm/InfoSphere_Streams \\n\\\n",
    "IS_EDITION_TYPE=Product\\n\\\n",
    "LICENSE_ACCEPTED=TRUE \\n\\\n",
    "VERSION_EXIST_ACTION=0 \\n\\\n",
    "MISSING_DEPENDENCY_ACTION=0 \\n\" \\\n",
    "> /home/streamsadmin/StreamsInstallFiles/installer.properties"
   ]
  },
  {
   "cell_type": "code",
   "execution_count": 11,
   "metadata": {
    "ExecuteTime": {
     "end_time": "2018-07-13T19:17:38.955445Z",
     "start_time": "2018-07-13T19:16:27.422746Z"
    },
    "hidden": true
   },
   "outputs": [],
   "source": [
    "!/home/streamsadmin/StreamsInstallFiles/IBMStreamsSetup.bin \\\n",
    "-jvmxms 32G \\\n",
    "-jvmxmx 32G \\\n",
    "-i silent \\\n",
    "-f /home/streamsadmin/StreamsInstallFiles/installer.properties \\\n",
    "-r /home/streamsadmin/StreamsInstallFiles/new.installer.properties"
   ]
  },
  {
   "cell_type": "markdown",
   "metadata": {
    "heading_collapsed": true,
    "hidden": true
   },
   "source": [
    "### post install"
   ]
  },
  {
   "cell_type": "code",
   "execution_count": 13,
   "metadata": {
    "ExecuteTime": {
     "end_time": "2018-07-13T19:20:44.205508Z",
     "start_time": "2018-07-13T19:20:44.043848Z"
    },
    "hidden": true
   },
   "outputs": [],
   "source": [
    "!sed -i '1 s/^/export SWT_GTK3=0\\n/' /opt/ibm/InfoSphere_Streams/4.2.1.1/bin/streamsprofile.sh"
   ]
  },
  {
   "cell_type": "code",
   "execution_count": 14,
   "metadata": {
    "ExecuteTime": {
     "end_time": "2018-07-13T19:21:59.137366Z",
     "start_time": "2018-07-13T19:21:58.983531Z"
    },
    "hidden": true
   },
   "outputs": [],
   "source": [
    "!echo \"export STREAMS_INSTALL=/opt/ibm/InfoSphere_Streams/4.2.1.1\" >> /etc/profile.d/custom.sh"
   ]
  },
  {
   "cell_type": "code",
   "execution_count": 15,
   "metadata": {
    "ExecuteTime": {
     "end_time": "2018-07-13T19:22:20.244502Z",
     "start_time": "2018-07-13T19:22:20.087454Z"
    },
    "hidden": true
   },
   "outputs": [],
   "source": [
    "!echo \"export STREAMS_SPLPATH=$STREAMS_INSTALL/toolkits/com.ibm.streamsx.messaging\" >> /etc/profile.d/custom.sh"
   ]
  },
  {
   "cell_type": "code",
   "execution_count": 16,
   "metadata": {
    "ExecuteTime": {
     "end_time": "2018-07-13T19:22:28.946855Z",
     "start_time": "2018-07-13T19:22:28.789680Z"
    },
    "hidden": true
   },
   "outputs": [
    {
     "name": "stdout",
     "output_type": "stream",
     "text": [
      "export JAVA_HOME=/usr/java/latest\r\n",
      "PATH=$JAVA_HOME/bin:/opt/anaconda/bin:/opt/anaconda/bin:/usr/local/sbin:/usr/local/bin:/usr/sbin:/usr/bin:/root/bin\r\n",
      "export JAVA_HOME=/usr/java/latest\r\n",
      "PATH=$JAVA_HOME/bin:/opt/anaconda/bin:/opt/anaconda/bin:/usr/java/latest/bin:/opt/anaconda/bin:/opt/anaconda/bin:/usr/local/sbin:/usr/local/bin:/usr/sbin:/usr/bin:/root/bin:/root/bin\r\n",
      "export STREAMS_INSTALL=/opt/ibm/InfoSphere_Streams/4.2.1.1\r\n",
      "export STREAMS_SPLPATH=/toolkits/com.ibm.streamsx.messaging\r\n"
     ]
    }
   ],
   "source": [
    "!cat /etc/profile.d/custom.sh"
   ]
  },
  {
   "cell_type": "code",
   "execution_count": 17,
   "metadata": {
    "ExecuteTime": {
     "end_time": "2018-07-13T19:24:12.903764Z",
     "start_time": "2018-07-13T19:24:12.747214Z"
    },
    "hidden": true
   },
   "outputs": [],
   "source": [
    "!echo \"source /opt/ibm/InfoSphere_Streams/4.2.1.1/bin/streamsprofile.sh\" >> /home/streamsadmin/.bashrc"
   ]
  },
  {
   "cell_type": "code",
   "execution_count": 21,
   "metadata": {
    "ExecuteTime": {
     "end_time": "2018-07-13T19:26:23.435316Z",
     "start_time": "2018-07-13T19:26:23.280915Z"
    },
    "hidden": true
   },
   "outputs": [],
   "source": [
    "!echo \"source /opt/ibm/InfoSphere_Streams/4.2.1.1/bin/streamsprofile.sh\" >> /root/.bashrc"
   ]
  },
  {
   "cell_type": "code",
   "execution_count": 23,
   "metadata": {
    "ExecuteTime": {
     "end_time": "2018-07-13T19:26:51.915145Z",
     "start_time": "2018-07-13T19:26:51.677824Z"
    },
    "hidden": true
   },
   "outputs": [],
   "source": [
    "!source /root/.bashrc"
   ]
  },
  {
   "cell_type": "markdown",
   "metadata": {
    "heading_collapsed": true,
    "hidden": true
   },
   "source": [
    "### configure "
   ]
  },
  {
   "cell_type": "code",
   "execution_count": 33,
   "metadata": {
    "ExecuteTime": {
     "end_time": "2018-07-13T19:42:12.022332Z",
     "start_time": "2018-07-13T19:41:50.379450Z"
    },
    "hidden": true
   },
   "outputs": [
    {
     "name": "stdout",
     "output_type": "stream",
     "text": [
      "CDISA0017I Creating the following domain: StreamsDomain.\n",
      "CDISA0018I The following domain was created successfully: StreamsDomain.\n"
     ]
    }
   ],
   "source": [
    "!sudo \\\n",
    "STREAMS_INSTALL=/opt/ibm/InfoSphere_Streams/4.2.1.1 \\\n",
    "-u streamsadmin -g streamsadmin  \\\n",
    "/opt/ibm/InfoSphere_Streams/4.2.1.1/bin/streamtool \\\n",
    "mkdomain -d StreamsDomain  --zkconnect localhost:2181"
   ]
  },
  {
   "cell_type": "code",
   "execution_count": 36,
   "metadata": {
    "ExecuteTime": {
     "end_time": "2018-07-13T19:41:38.685180Z",
     "start_time": "2018-07-13T19:41:36.124811Z"
    },
    "hidden": true
   },
   "outputs": [
    {
     "name": "stdout",
     "output_type": "stream",
     "text": [
      "CDISC0013I The following private key file was created for authentication: /home/streamsadmin/.streams/key/StreamsDomain/streamsadmin_priv.pem.\n",
      "CDISC0014I The following public key file was created for authentication: streamsadmin.\n",
      "CDISA0089I Generated key successfully for the following domain: StreamsDomain.\n"
     ]
    }
   ],
   "source": [
    "!sudo \\\n",
    "STREAMS_INSTALL=/opt/ibm/InfoSphere_Streams/4.2.1.1 \\\n",
    "-u streamsadmin -g streamsadmin  \\\n",
    "/opt/ibm/InfoSphere_Streams/4.2.1.1/bin/streamtool \\\n",
    "genkey -d StreamsDomain \\\n",
    "--zkconnect localhost:2181"
   ]
  },
  {
   "cell_type": "code",
   "execution_count": 37,
   "metadata": {
    "ExecuteTime": {
     "end_time": "2018-07-13T19:42:12.022332Z",
     "start_time": "2018-07-13T19:41:50.379450Z"
    },
    "hidden": true
   },
   "outputs": [
    {
     "name": "stdout",
     "output_type": "stream",
     "text": [
      "CDISA0064I Starting the authentication and auditing services for the following domain: StreamsDomain.\n",
      "CDISA0021I Starting the following domain: StreamsDomain.\n",
      "CDISA0034I Waiting for all services to start.\n",
      "CDISA0038I The aas service started on the following resource: rta.vion.local. The service has the following process id: 12655.\n",
      "CDISA0038I The auditlog service started on the following resource: rta.vion.local. The service has the following process id: 12655.\n",
      "CDISA0039I The jmx service started on the following resource: rta.vion.local. The service has the following process id: 13705. The service uses the following port: 9975.\n",
      "CDISA0039I The sws service started on the following resource: rta.vion.local. The service has the following process id: 14164. The service uses the following port: 8443.\n",
      "CDISA0022I The following domain started successfully: StreamsDomain.\n"
     ]
    }
   ],
   "source": [
    "!sudo \\\n",
    "STREAMS_INSTALL=/opt/ibm/InfoSphere_Streams/4.2.1.1 \\\n",
    "-u streamsadmin -g streamsadmin  \\\n",
    "/opt/ibm/InfoSphere_Streams/4.2.1.1/bin/streamtool \\\n",
    "startdomain -d StreamsDomain  \\\n",
    "--zkconnect localhost:2181"
   ]
  },
  {
   "cell_type": "code",
   "execution_count": 42,
   "metadata": {
    "ExecuteTime": {
     "end_time": "2018-07-13T19:43:29.879366Z",
     "start_time": "2018-07-13T19:43:26.473602Z"
    },
    "hidden": true
   },
   "outputs": [
    {
     "name": "stdout",
     "output_type": "stream",
     "text": [
      "CDISA0026I Creating the StreamsInstance instance for the following domain: StreamsDomain.\n",
      "CDISA0027I The StreamsInstance instance was created successfully for the following domain: StreamsDomain.\n"
     ]
    }
   ],
   "source": [
    "!sudo \\\n",
    "STREAMS_INSTALL=/opt/ibm/InfoSphere_Streams/4.2.1.1 \\\n",
    "-u streamsadmin -g streamsadmin  \\\n",
    "/opt/ibm/InfoSphere_Streams/4.2.1.1/bin/streamtool \\\n",
    "mkinstance -i StreamsInstance \\\n",
    "-d StreamsDomain \\\n",
    "--zkconnect localhost:2181"
   ]
  },
  {
   "cell_type": "code",
   "execution_count": 45,
   "metadata": {
    "ExecuteTime": {
     "end_time": "2018-07-13T19:44:26.955842Z",
     "start_time": "2018-07-13T19:44:20.070757Z"
    },
    "hidden": true
   },
   "outputs": [
    {
     "name": "stdout",
     "output_type": "stream",
     "text": [
      "CDISA0030I Starting the StreamsInstance instance for the following domain: StreamsDomain.\n",
      "CDISC0164I IBM Streams is adding the following resource specification identifier to the StreamsInstance instance: 1[1(none)[shared]]. The instance is in the StreamsDomain domain.\n",
      "CDISA3019W No resources with the management tag are available in the StreamsInstance instance for the following domain: StreamsDomain. Using rta.vion.local as a management resource.\n",
      "CDISA3040W No resources with the view tag are available for the StreamsInstance instance in the following domain: StreamsDomain. Using rta.vion.local as a view resource.\n",
      "CDISA3013W No resources with the application tag are available in the StreamsInstance instance for the following domain: StreamsDomain. Using rta.vion.local as an application resource.\n",
      "CDISA0034I Waiting for all services to start.\n",
      "CDISA0038I The app service started on the following resource: rta.vion.local. The service has the following process id: 15337.\n",
      "CDISA0038I The sam service started on the following resource: rta.vion.local. The service has the following process id: 15337.\n",
      "CDISA0038I The srm service started on the following resource: rta.vion.local. The service has the following process id: 15337.\n",
      "CDISA0038I The view service started on the following resource: rta.vion.local. The service has the following process id: 15337.\n",
      "CDISA3004W The StreamsInstance instance started with warnings for the following domain: StreamsDomain.  The instance is operational.\n"
     ]
    }
   ],
   "source": [
    "!sudo \\\n",
    "STREAMS_INSTALL=/opt/ibm/InfoSphere_Streams/4.2.1.1 \\\n",
    "-u streamsadmin -g streamsadmin  \\\n",
    "/opt/ibm/InfoSphere_Streams/4.2.1.1/bin/streamtool \\\n",
    "startinstance \\\n",
    "-d StreamsDomain \\\n",
    "-i StreamsInstance \\\n",
    "--zkconnect localhost:2181"
   ]
  },
  {
   "cell_type": "code",
   "execution_count": 48,
   "metadata": {
    "ExecuteTime": {
     "end_time": "2018-07-13T19:45:07.984438Z",
     "start_time": "2018-07-13T19:45:05.829005Z"
    },
    "hidden": true
   },
   "outputs": [
    {
     "name": "stdout",
     "output_type": "stream",
     "text": [
      "https://rta.vion.local:8443/streams/domain/console\r\n"
     ]
    }
   ],
   "source": [
    "!sudo \\\n",
    "STREAMS_INSTALL=/opt/ibm/InfoSphere_Streams/4.2.1.1 \\\n",
    "-u streamsadmin -g streamsadmin  \\\n",
    "/opt/ibm/InfoSphere_Streams/4.2.1.1/bin/streamtool \\\n",
    "geturl \\\n",
    "-d StreamsDomain \\\n",
    "--zkconnect localhost:2181"
   ]
  },
  {
   "cell_type": "code",
   "execution_count": 52,
   "metadata": {
    "ExecuteTime": {
     "end_time": "2018-07-13T19:49:28.513426Z",
     "start_time": "2018-07-13T19:49:21.331408Z"
    },
    "hidden": true
   },
   "outputs": [
    {
     "name": "stdout",
     "output_type": "stream",
     "text": [
      "CDISA0032I Stopping the StreamsInstance instance for the following domain: StreamsDomain.\n",
      "CDISA0035I Waiting for all services to stop.\n",
      "CDISA0042I The view service stopped on the following resource: rta.vion.local. The service had the following process id: 15337.\n",
      "CDISA0042I The app service stopped on the following resource: rta.vion.local. The service had the following process id: 15337.\n",
      "CDISA0042I The srm service stopped on the following resource: rta.vion.local. The service had the following process id: 15337.\n",
      "CDISA0042I The sam service stopped on the following resource: rta.vion.local. The service had the following process id: 15337.\n",
      "CDISA0033I The StreamsInstance instance stopped successfully for the following domain: StreamsDomain.\n"
     ]
    }
   ],
   "source": [
    "!sudo \\\n",
    "STREAMS_INSTALL=/opt/ibm/InfoSphere_Streams/4.2.1.1 \\\n",
    "-u streamsadmin -g streamsadmin  \\\n",
    "/opt/ibm/InfoSphere_Streams/4.2.1.1/bin/streamtool \\\n",
    "stopinstance \\\n",
    "-i StreamsInstance \\\n",
    "-d StreamsDomain \\\n",
    "--zkconnect localhost:2181"
   ]
  },
  {
   "cell_type": "code",
   "execution_count": 53,
   "metadata": {
    "ExecuteTime": {
     "end_time": "2018-07-13T19:50:03.861243Z",
     "start_time": "2018-07-13T19:49:57.297589Z"
    },
    "hidden": true
   },
   "outputs": [
    {
     "name": "stdout",
     "output_type": "stream",
     "text": [
      "CDISA0023I Stopping the following domain: StreamsDomain.\n",
      "CDISA0035I Waiting for all services to stop.\n",
      "CDISA0042I The sws service stopped on the following resource: rta.vion.local. The service had the following process id: 14164.\n",
      "CDISA0042I The jmx service stopped on the following resource: rta.vion.local. The service had the following process id: 13705.\n",
      "CDISA0042I The auditlog service stopped on the following resource: rta.vion.local. The service had the following process id: 12655.\n",
      "CDISA0042I The aas service stopped on the following resource: rta.vion.local. The service had the following process id: 12655.\n",
      "CDISA0042I The controller service stopped on the following resource: rta.vion.local. The service had the following process id: 12455.\n",
      "CDISA0024I The following domain stopped successfully: StreamsDomain.\n"
     ]
    }
   ],
   "source": [
    "!sudo \\\n",
    "STREAMS_INSTALL=/opt/ibm/InfoSphere_Streams/4.2.1.1 \\\n",
    "-u streamsadmin -g streamsadmin  \\\n",
    "/opt/ibm/InfoSphere_Streams/4.2.1.1/bin/streamtool \\\n",
    "stopdomain \\\n",
    "-d StreamsDomain \\\n",
    "--zkconnect localhost:2181"
   ]
  },
  {
   "cell_type": "markdown",
   "metadata": {
    "hidden": true
   },
   "source": [
    "### clean up"
   ]
  },
  {
   "cell_type": "code",
   "execution_count": 54,
   "metadata": {
    "ExecuteTime": {
     "end_time": "2018-07-13T19:50:44.893123Z",
     "start_time": "2018-07-13T19:50:44.327729Z"
    },
    "hidden": true
   },
   "outputs": [],
   "source": [
    "!rm -rf /home/streamsadmin/Streams-4.2.1.1-x86_64-el7.tar.gz"
   ]
  },
  {
   "cell_type": "code",
   "execution_count": 55,
   "metadata": {
    "ExecuteTime": {
     "end_time": "2018-07-13T19:50:59.011105Z",
     "start_time": "2018-07-13T19:50:58.390727Z"
    },
    "hidden": true
   },
   "outputs": [],
   "source": [
    "!rm -rf /home/streamsadmin/StreamsInstallFiles/"
   ]
  },
  {
   "cell_type": "markdown",
   "metadata": {
    "hidden": true
   },
   "source": [
    "#### ~ snapshot ~"
   ]
  },
  {
   "cell_type": "markdown",
   "metadata": {},
   "source": [
    "# ActiveMQ"
   ]
  },
  {
   "cell_type": "code",
   "execution_count": null,
   "metadata": {},
   "outputs": [],
   "source": []
  }
 ],
 "metadata": {
  "kernelspec": {
   "display_name": "Python 3",
   "language": "python",
   "name": "python3"
  },
  "language_info": {
   "codemirror_mode": {
    "name": "ipython",
    "version": 3
   },
   "file_extension": ".py",
   "mimetype": "text/x-python",
   "name": "python",
   "nbconvert_exporter": "python",
   "pygments_lexer": "ipython3",
   "version": "3.6.5"
  },
  "toc": {
   "base_numbering": 1,
   "nav_menu": {},
   "number_sections": false,
   "sideBar": true,
   "skip_h1_title": false,
   "title_cell": "Table of Contents",
   "title_sidebar": "Contents",
   "toc_cell": true,
   "toc_position": {
    "height": "calc(100% - 180px)",
    "left": "10px",
    "top": "150px",
    "width": "168px"
   },
   "toc_section_display": true,
   "toc_window_display": true
  }
 },
 "nbformat": 4,
 "nbformat_minor": 2
}
