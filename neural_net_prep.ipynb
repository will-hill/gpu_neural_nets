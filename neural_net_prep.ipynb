{
 "cells": [
  {
   "cell_type": "markdown",
   "metadata": {
    "toc": true
   },
   "source": [
    "<h1>Table of Contents<span class=\"tocSkip\"></span></h1>\n",
    "<div class=\"toc\"><ul class=\"toc-item\"><li><span><a href=\"#notebook-prep\" data-toc-modified-id=\"notebook-prep-1\">notebook prep</a></span></li><li><span><a href=\"#prepare-OS\" data-toc-modified-id=\"prepare-OS-2\">prepare OS</a></span><ul class=\"toc-item\"><li><ul class=\"toc-item\"><li><span><a href=\"#~-snapshot-~\" data-toc-modified-id=\"~-snapshot-~-2.0.1\">~ snapshot ~</a></span></li></ul></li></ul></li><li><span><a href=\"#Zookeeper\" data-toc-modified-id=\"Zookeeper-3\">Zookeeper</a></span></li><li><span><a href=\"#IBM-Streams\" data-toc-modified-id=\"IBM-Streams-4\">IBM Streams</a></span><ul class=\"toc-item\"><li><ul class=\"toc-item\"><li><span><a href=\"#user\" data-toc-modified-id=\"user-4.0.1\">user</a></span></li><li><span><a href=\"#os-pre-reqs\" data-toc-modified-id=\"os-pre-reqs-4.0.2\">os pre-reqs</a></span></li><li><span><a href=\"#install\" data-toc-modified-id=\"install-4.0.3\">install</a></span></li><li><span><a href=\"#post-install\" data-toc-modified-id=\"post-install-4.0.4\">post install</a></span></li><li><span><a href=\"#configure\" data-toc-modified-id=\"configure-4.0.5\">configure</a></span></li><li><span><a href=\"#clean-up\" data-toc-modified-id=\"clean-up-4.0.6\">clean up</a></span><ul class=\"toc-item\"><li><span><a href=\"#~-snapshot-~\" data-toc-modified-id=\"~-snapshot-~-4.0.6.1\">~ snapshot ~</a></span></li></ul></li></ul></li></ul></li><li><span><a href=\"#ActiveMQ\" data-toc-modified-id=\"ActiveMQ-5\">ActiveMQ</a></span></li></ul></div>"
   ]
  },
  {
   "cell_type": "markdown",
   "metadata": {
    "heading_collapsed": true
   },
   "source": [
    "# notebook prep"
   ]
  },
  {
   "cell_type": "markdown",
   "metadata": {
    "hidden": true
   },
   "source": [
    "* fix IP \n",
    "* fix hostname\n",
    "* wget https://raw.githubusercontent.com/williamClanton/gpu_neural_nets/master/neural_net_prep.ipynb\n",
    "* snapshot "
   ]
  },
  {
   "cell_type": "markdown",
   "metadata": {
    "heading_collapsed": true
   },
   "source": [
    "# prepare OS"
   ]
  },
  {
   "cell_type": "code",
   "execution_count": 2,
   "metadata": {
    "ExecuteTime": {
     "end_time": "2018-07-13T17:55:16.488385Z",
     "start_time": "2018-07-13T17:55:16.369130Z"
    },
    "hidden": true
   },
   "outputs": [
    {
     "name": "stdout",
     "output_type": "stream",
     "text": [
      "neural_net_prep.ipynb  zookeeper-3.4.12.tar.gz\tzookeeper.out\r\n"
     ]
    }
   ],
   "source": [
    "!ls  "
   ]
  },
  {
   "cell_type": "code",
   "execution_count": 3,
   "metadata": {
    "ExecuteTime": {
     "end_time": "2018-07-13T17:55:33.143218Z",
     "start_time": "2018-07-13T17:55:33.024704Z"
    },
    "hidden": true
   },
   "outputs": [
    {
     "name": "stdout",
     "output_type": "stream",
     "text": [
      "Linux rta.vion.local 3.10.0-862.6.3.el7.x86_64 #1 SMP Tue Jun 26 16:32:21 UTC 2018 x86_64 x86_64 x86_64 GNU/Linux\r\n"
     ]
    }
   ],
   "source": [
    "!uname -a"
   ]
  },
  {
   "cell_type": "code",
   "execution_count": 3,
   "metadata": {
    "hidden": true
   },
   "outputs": [
    {
     "name": "stdout",
     "output_type": "stream",
     "text": [
      "CentOS Linux release 7.5.1804 (Core) \r\n"
     ]
    }
   ],
   "source": [
    "!cat /etc/redhat-release"
   ]
  },
  {
   "cell_type": "code",
   "execution_count": 4,
   "metadata": {
    "ExecuteTime": {
     "end_time": "2018-07-13T17:55:40.068845Z",
     "start_time": "2018-07-13T17:55:36.071115Z"
    },
    "hidden": true
   },
   "outputs": [
    {
     "name": "stdout",
     "output_type": "stream",
     "text": [
      "Loaded plugins: fastestmirror\n",
      "Loading mirror speeds from cached hostfile\n",
      " * base: mirror.wdc1.us.leaseweb.net\n",
      " * epel: ewr.edge.kernel.org\n",
      " * extras: mirror.vcu.edu\n",
      " * updates: centos2.zswap.net\n",
      "Package epel-release-7-11.noarch already installed and latest version\n",
      "Nothing to do\n"
     ]
    }
   ],
   "source": [
    "!yum -y install epel-release"
   ]
  },
  {
   "cell_type": "code",
   "execution_count": 5,
   "metadata": {
    "hidden": true
   },
   "outputs": [
    {
     "name": "stdout",
     "output_type": "stream",
     "text": [
      "jdk1.8.x86_64                         2000:1.8.0_171-fcs               installed\r\n"
     ]
    }
   ],
   "source": [
    "!yum list installed | grep -i 'java\\|jdk' "
   ]
  },
  {
   "cell_type": "code",
   "execution_count": 6,
   "metadata": {
    "hidden": true
   },
   "outputs": [
    {
     "name": "stdout",
     "output_type": "stream",
     "text": [
      "Loaded plugins: fastestmirror\n",
      "Loading mirror speeds from cached hostfile\n",
      " * base: mirror.wdc1.us.leaseweb.net\n",
      " * epel: fedora-epel.mirrors.tds.net\n",
      " * extras: mirror.vcu.edu\n",
      " * updates: mirror.cc.columbia.edu\n",
      "No packages marked for update\n"
     ]
    }
   ],
   "source": [
    "!yum -y update"
   ]
  },
  {
   "cell_type": "markdown",
   "metadata": {
    "hidden": true
   },
   "source": [
    "### ~ snapshot ~"
   ]
  },
  {
   "cell_type": "markdown",
   "metadata": {
    "heading_collapsed": true
   },
   "source": [
    "# Zookeeper"
   ]
  },
  {
   "cell_type": "code",
   "execution_count": 7,
   "metadata": {
    "hidden": true
   },
   "outputs": [],
   "source": [
    "!useradd -G wheel zookeeper"
   ]
  },
  {
   "cell_type": "code",
   "execution_count": 9,
   "metadata": {
    "hidden": true
   },
   "outputs": [],
   "source": [
    "!mkdir -p ~zookeeper/.ssh ; cp ~/.ssh/authorized_keys ~zookeeper/.ssh/ ; chown -R zookeeper:zookeeper ~zookeeper"
   ]
  },
  {
   "cell_type": "code",
   "execution_count": 10,
   "metadata": {
    "hidden": true
   },
   "outputs": [
    {
     "name": "stdout",
     "output_type": "stream",
     "text": [
      "--2018-07-13 11:59:19--  http://mirror.cc.columbia.edu/pub/software/apache/zookeeper/stable/zookeeper-3.4.12.tar.gz\n",
      "Resolving mirror.cc.columbia.edu (mirror.cc.columbia.edu)... 128.59.59.71\n",
      "Connecting to mirror.cc.columbia.edu (mirror.cc.columbia.edu)|128.59.59.71|:80... connected.\n",
      "HTTP request sent, awaiting response... 200 OK\n",
      "Length: 36667596 (35M) [application/x-gzip]\n",
      "Saving to: ‘zookeeper-3.4.12.tar.gz’\n",
      "\n",
      "100%[======================================>] 36,667,596  8.19MB/s   in 4.2s   \n",
      "\n",
      "2018-07-13 11:59:24 (8.27 MB/s) - ‘zookeeper-3.4.12.tar.gz’ saved [36667596/36667596]\n",
      "\n"
     ]
    }
   ],
   "source": [
    "!wget http://mirror.cc.columbia.edu/pub/software/apache/zookeeper/stable/zookeeper-3.4.12.tar.gz"
   ]
  },
  {
   "cell_type": "code",
   "execution_count": 11,
   "metadata": {
    "hidden": true
   },
   "outputs": [],
   "source": [
    "!tar xf zookeeper-3.4.12.tar.gz -C /opt"
   ]
  },
  {
   "cell_type": "code",
   "execution_count": 12,
   "metadata": {
    "hidden": true
   },
   "outputs": [],
   "source": [
    "!mv /opt/zookeeper-3.4.12 /opt/.zookeeper-3.4.12"
   ]
  },
  {
   "cell_type": "code",
   "execution_count": 13,
   "metadata": {
    "hidden": true
   },
   "outputs": [
    {
     "name": "stdout",
     "output_type": "stream",
     "text": [
      "/opt ~\r\n",
      "~\r\n"
     ]
    }
   ],
   "source": [
    "!pushd /opt; ln -s .zookeeper-3.4.12 zookeeper ; popd"
   ]
  },
  {
   "cell_type": "code",
   "execution_count": 14,
   "metadata": {
    "hidden": true
   },
   "outputs": [],
   "source": [
    "!printf \"tickTime=2000\\ndataDir=/var/lib/zookeeper\\nclientPort=2181\\n\" > /opt/zookeeper/conf/zoo.cfg "
   ]
  },
  {
   "cell_type": "code",
   "execution_count": 15,
   "metadata": {
    "hidden": true
   },
   "outputs": [
    {
     "name": "stdout",
     "output_type": "stream",
     "text": [
      "tickTime=2000\r\n",
      "dataDir=/var/lib/zookeeper\r\n",
      "clientPort=2181\r\n"
     ]
    }
   ],
   "source": [
    "!cat /opt/zookeeper/conf/zoo.cfg"
   ]
  },
  {
   "cell_type": "code",
   "execution_count": 16,
   "metadata": {
    "hidden": true
   },
   "outputs": [],
   "source": [
    "!mkdir -p /var/lib/zookeeper"
   ]
  },
  {
   "cell_type": "code",
   "execution_count": 17,
   "metadata": {
    "hidden": true
   },
   "outputs": [],
   "source": [
    "!mkdir -p /var/log/zookeeper"
   ]
  },
  {
   "cell_type": "code",
   "execution_count": 18,
   "metadata": {
    "hidden": true
   },
   "outputs": [],
   "source": [
    "!printf \\\n",
    "\"[Unit]\\n\\\n",
    "Description=Zookeeper\\n\\\n",
    "After=network.target syslog.target\\n\\\n",
    "\\n\\\n",
    "[Service]\\n\\\n",
    "Type=forking\\n\\\n",
    "User=zookeeper\\n\\\n",
    "Group=zookeeper\\n\\\n",
    "SyslogIdentifier=zookeeper\\n\\\n",
    "TimeoutStartSec=10min\\n\\\n",
    "ExecStart=/opt/zookeeper/bin/zkServer.sh start\\n\\\n",
    "ExecStop=/opt/zookeeper/bin/zkServer.sh stop\\n\\\n",
    "SyslogIdentifier=zookeeper\\n\\\n",
    "\\n\\\n",
    "[Install]\\n\\\n",
    "WantedBy=multi-user.target\\n\" \\\n",
    "> /usr/lib/systemd/system/zookeeper.service"
   ]
  },
  {
   "cell_type": "code",
   "execution_count": 19,
   "metadata": {
    "hidden": true
   },
   "outputs": [
    {
     "name": "stdout",
     "output_type": "stream",
     "text": [
      "[Unit]\r\n",
      "Description=Zookeeper\r\n",
      "After=network.target syslog.target\r\n",
      "\r\n",
      "[Service]\r\n",
      "Type=forking\r\n",
      "User=zookeeper\r\n",
      "Group=zookeeper\r\n",
      "SyslogIdentifier=zookeeper\r\n",
      "TimeoutStartSec=10min\r\n",
      "ExecStart=/opt/zookeeper/bin/zkServer.sh start\r\n",
      "ExecStop=/opt/zookeeper/bin/zkServer.sh stop\r\n",
      "SyslogIdentifier=zookeeper\r\n",
      "\r\n",
      "[Install]\r\n",
      "WantedBy=multi-user.target\r\n"
     ]
    }
   ],
   "source": [
    "!cat /usr/lib/systemd/system/zookeeper.service"
   ]
  },
  {
   "cell_type": "code",
   "execution_count": 20,
   "metadata": {
    "hidden": true
   },
   "outputs": [],
   "source": [
    "!chown -R zookeeper:zookeeper /opt/.zookeeper-3.4.12 /opt/zookeeper /var/lib/zookeeper ~zookeeper /var/log/zookeeper"
   ]
  },
  {
   "cell_type": "code",
   "execution_count": 21,
   "metadata": {
    "hidden": true
   },
   "outputs": [
    {
     "name": "stdout",
     "output_type": "stream",
     "text": [
      "Created symlink from /etc/systemd/system/multi-user.target.wants/zookeeper.service to /usr/lib/systemd/system/zookeeper.service.\r\n"
     ]
    }
   ],
   "source": [
    "!systemctl enable zookeeper"
   ]
  },
  {
   "cell_type": "code",
   "execution_count": 11,
   "metadata": {
    "hidden": true
   },
   "outputs": [],
   "source": [
    "!chown -R zookeeper:zookeeper /opt/.zookeeper-3.4.12 /opt/zookeeper /var/lib/zookeeper ~zookeeper /var/log/zookeeper"
   ]
  },
  {
   "cell_type": "code",
   "execution_count": 22,
   "metadata": {
    "hidden": true
   },
   "outputs": [],
   "source": [
    "!systemctl start zookeeper"
   ]
  },
  {
   "cell_type": "code",
   "execution_count": 23,
   "metadata": {
    "hidden": true
   },
   "outputs": [
    {
     "name": "stdout",
     "output_type": "stream",
     "text": [
      "● zookeeper.service - Zookeeper\r\n",
      "   Loaded: loaded (/usr/lib/systemd/system/zookeeper.service; enabled; vendor preset: disabled)\r\n",
      "   Active: inactive (dead) since Fri 2018-07-13 12:06:45 EDT; 1min 17s ago\r\n",
      "  Process: 3794 ExecStop=/opt/zookeeper/bin/zkServer.sh stop (code=exited, status=0/SUCCESS)\r\n",
      "  Process: 3779 ExecStart=/opt/zookeeper/bin/zkServer.sh start (code=exited, status=0/SUCCESS)\r\n",
      "\r\n",
      "Jul 13 12:06:44 rta.vion.local systemd[1]: Starting Zookeeper...\r\n",
      "Jul 13 12:06:44 rta.vion.local zookeeper[3779]: ZooKeeper JMX enabled by default\r\n",
      "Jul 13 12:06:44 rta.vion.local zookeeper[3779]: Using config: /opt/zookeeper/bin/../conf/zoo.cfg\r\n",
      "Jul 13 12:06:44 rta.vion.local zookeeper[3779]: Starting zookeeper ... /opt/zookeeper/bin/zkServer.sh: line 140: ./zookeeper.out: Permission denied\r\n",
      "Jul 13 12:06:45 rta.vion.local zookeeper[3794]: ZooKeeper JMX enabled by default\r\n",
      "Jul 13 12:06:45 rta.vion.local zookeeper[3794]: Using config: /opt/zookeeper/bin/../conf/zoo.cfg\r\n",
      "Jul 13 12:06:45 rta.vion.local zookeeper[3794]: Stopping zookeeper ... /opt/zookeeper/bin/zkServer.sh: line 182: kill: (3789) - No such process\r\n",
      "Jul 13 12:06:45 rta.vion.local systemd[1]: Started Zookeeper.\r\n"
     ]
    }
   ],
   "source": [
    "!systemctl status zookeeper -l"
   ]
  },
  {
   "cell_type": "code",
   "execution_count": 24,
   "metadata": {
    "hidden": true
   },
   "outputs": [],
   "source": [
    "!systemctl start zookeeper"
   ]
  },
  {
   "cell_type": "code",
   "execution_count": null,
   "metadata": {
    "hidden": true
   },
   "outputs": [],
   "source": [
    "\n",
    "systemctl start zookeeper\n",
    "# test\n",
    "systemctl status zookeeper\n",
    "/opt/zookeeper/bin/zkCli.sh -server 127.0.0.1:2181\n",
    "# ctrl + d to quit\n",
    "rm -rf ~/zookeeper-3.4.11.tar.gz\n"
   ]
  },
  {
   "cell_type": "markdown",
   "metadata": {
    "heading_collapsed": true
   },
   "source": [
    "# IBM Streams"
   ]
  },
  {
   "cell_type": "markdown",
   "metadata": {
    "heading_collapsed": true,
    "hidden": true
   },
   "source": [
    "### user"
   ]
  },
  {
   "cell_type": "code",
   "execution_count": 25,
   "metadata": {
    "hidden": true
   },
   "outputs": [],
   "source": [
    "!useradd -G wheel streamsadmin "
   ]
  },
  {
   "cell_type": "code",
   "execution_count": 26,
   "metadata": {
    "hidden": true
   },
   "outputs": [],
   "source": [
    "!mkdir -p ~streamsadmin/.ssh"
   ]
  },
  {
   "cell_type": "code",
   "execution_count": 27,
   "metadata": {
    "hidden": true
   },
   "outputs": [],
   "source": [
    "!cp /root/.ssh/authorized_keys ~streamsadmin/.ssh"
   ]
  },
  {
   "cell_type": "code",
   "execution_count": 28,
   "metadata": {
    "hidden": true
   },
   "outputs": [],
   "source": [
    "!chown -R streamsadmin ~streamsadmin"
   ]
  },
  {
   "cell_type": "markdown",
   "metadata": {
    "heading_collapsed": true,
    "hidden": true
   },
   "source": [
    "### os pre-reqs"
   ]
  },
  {
   "cell_type": "code",
   "execution_count": 23,
   "metadata": {
    "ExecuteTime": {
     "end_time": "2018-07-13T18:22:01.528220Z",
     "start_time": "2018-07-13T18:21:40.206394Z"
    },
    "hidden": true
   },
   "outputs": [
    {
     "name": "stdout",
     "output_type": "stream",
     "text": [
      "Loaded plugins: fastestmirror\n",
      "Loading mirror speeds from cached hostfile\n",
      " * base: mirror.wdc1.us.leaseweb.net\n",
      " * epel: epel.mirror.constant.com\n",
      " * extras: mirror.vcu.edu\n",
      " * updates: centos2.zswap.net\n",
      "Package rdma-core-15-7.el7_5.x86_64 already installed and latest version\n",
      "Package ntp-4.2.6p5-28.el7.centos.x86_64 already installed and latest version\n",
      "Package xdg-utils-1.1.0-0.17.20120809git.el7.noarch already installed and latest version\n",
      "Package perl-XML-Simple-2.20-5.el7.noarch already installed and latest version\n",
      "Package gcc-c++-4.8.5-28.el7_5.1.x86_64 already installed and latest version\n",
      "Package gcc-4.8.5-28.el7_5.1.x86_64 already installed and latest version\n",
      "Resolving Dependencies\n",
      "--> Running transaction check\n",
      "---> Package unzip.x86_64 0:6.0-19.el7 will be installed\n",
      "--> Finished Dependency Resolution\n",
      "\n",
      "Dependencies Resolved\n",
      "\n",
      "================================================================================\n",
      " Package          Arch              Version               Repository       Size\n",
      "================================================================================\n",
      "Installing:\n",
      " unzip            x86_64            6.0-19.el7            base            170 k\n",
      "\n",
      "Transaction Summary\n",
      "================================================================================\n",
      "Install  1 Package\n",
      "\n",
      "Total download size: 170 k\n",
      "Installed size: 365 k\n",
      "Downloading packages:\n",
      "unzip-6.0-19.el7.x86_64.rpm                                | 170 kB   00:00     \n",
      "Running transaction check\n",
      "Running transaction test\n",
      "Transaction test succeeded\n",
      "Running transaction\n",
      "  Installing : unzip-6.0-19.el7.x86_64                                      1/1 \n",
      "  Verifying  : unzip-6.0-19.el7.x86_64                                      1/1 \n",
      "\n",
      "Installed:\n",
      "  unzip.x86_64 0:6.0-19.el7                                                     \n",
      "\n",
      "Complete!\n"
     ]
    }
   ],
   "source": [
    "!yum -y install rdma ntp xdg-utils perl-XML-Simple gcc-c++ gcc unzip"
   ]
  },
  {
   "cell_type": "code",
   "execution_count": 32,
   "metadata": {
    "hidden": true
   },
   "outputs": [
    {
     "name": "stdout",
     "output_type": "stream",
     "text": [
      "Created symlink from /etc/systemd/system/sysinit.target.wants/rdma.service to /usr/lib/systemd/system/rdma.service.\r\n"
     ]
    }
   ],
   "source": [
    "!systemctl enable rdma"
   ]
  },
  {
   "cell_type": "code",
   "execution_count": 33,
   "metadata": {
    "hidden": true
   },
   "outputs": [],
   "source": [
    "!systemctl start rdma"
   ]
  },
  {
   "cell_type": "code",
   "execution_count": 36,
   "metadata": {
    "hidden": true
   },
   "outputs": [
    {
     "name": "stdout",
     "output_type": "stream",
     "text": [
      "Created symlink from /etc/systemd/system/multi-user.target.wants/ntpd.service to /usr/lib/systemd/system/ntpd.service.\r\n"
     ]
    }
   ],
   "source": [
    "!systemctl enable ntpd"
   ]
  },
  {
   "cell_type": "code",
   "execution_count": 37,
   "metadata": {
    "hidden": true
   },
   "outputs": [],
   "source": [
    "!systemctl start ntpd"
   ]
  },
  {
   "cell_type": "code",
   "execution_count": 38,
   "metadata": {
    "hidden": true
   },
   "outputs": [],
   "source": [
    "!echo \"export JAVA_HOME=/usr/java/latest\" >> /etc/profile.d/custom.sh\n",
    "!echo \"PATH=\\$JAVA_HOME/bin:$PATH\" >> /etc/profile.d/custom.sh\n",
    "!echo \"streamsadmin soft nofile 111113\" >> /etc/security/limits.conf\n",
    "!echo \"streamsadmin hard nofile 111113\" >> /etc/security/limits.conf\n",
    "!echo \"streamsadmin soft nproc 257262\" >> /etc/security/limits.conf\n",
    "!echo \"streamsadmin hard nproc 257262\" >> /etc/security/limits.conf\n",
    "!echo \"streamsadmin soft nproc 257262\" >> /etc/security/limits.conf\n",
    "!echo \"fs.file-max = 6815744\" >>  /etc/sysctl.conf\n",
    "# reboot\n",
    "# prolly a good spot to snapshot if virtual"
   ]
  },
  {
   "cell_type": "code",
   "execution_count": 39,
   "metadata": {
    "hidden": true
   },
   "outputs": [],
   "source": [
    "!mkdir -p /opt/ibm/InfoSphere_Streams"
   ]
  },
  {
   "cell_type": "code",
   "execution_count": 40,
   "metadata": {
    "hidden": true
   },
   "outputs": [],
   "source": [
    "!chown streamsadmin:streamsadmin /opt/ibm/InfoSphere_Streams"
   ]
  },
  {
   "cell_type": "markdown",
   "metadata": {
    "heading_collapsed": true,
    "hidden": true
   },
   "source": [
    "### install"
   ]
  },
  {
   "cell_type": "code",
   "execution_count": 7,
   "metadata": {
    "ExecuteTime": {
     "end_time": "2018-07-13T19:15:19.686340Z",
     "start_time": "2018-07-13T19:14:57.655409Z"
    },
    "hidden": true
   },
   "outputs": [
    {
     "name": "stdout",
     "output_type": "stream",
     "text": [
      "StreamsInstallFiles/\n",
      "StreamsInstallFiles/IBMStreams_SampleResponseFile.properties\n",
      "StreamsInstallFiles/com.ibm.streams.install.dependency.jar\n",
      "StreamsInstallFiles/IBMStreamsSetup.bin\n",
      "StreamsInstallFiles/IBMStreams-Install-Config.pdf\n",
      "StreamsInstallFiles/ReleaseNotes.html\n",
      "StreamsInstallFiles/dependency_checker.sh\n",
      "StreamsInstallFiles/ibmdita.css\n"
     ]
    }
   ],
   "source": [
    "!sudo -u streamsadmin tar xvf /home/streamsadmin/Streams-4.2.1.1-x86_64-el7.tar.gz -C /home/streamsadmin/"
   ]
  },
  {
   "cell_type": "code",
   "execution_count": 8,
   "metadata": {
    "ExecuteTime": {
     "end_time": "2018-07-13T19:15:58.448786Z",
     "start_time": "2018-07-13T19:15:55.422243Z"
    },
    "hidden": true
   },
   "outputs": [
    {
     "name": "stdout",
     "output_type": "stream",
     "text": [
      "\n",
      "IBM Streams 4.2.1.1 Dependency Checker\n",
      "Date:  July 13, 2018 3:15:57 PM EDT\n",
      "Edition information:\n",
      "    Edition:  IBM Streams\n",
      "    Edition:  IBM Streams Developer Edition\n",
      "\n",
      "=== System Information ===\n",
      "* Hostname:  rta.vion.local\n",
      "* IP address:  192.168.156.184\n",
      "* Operating system:  CentOS Linux release 7.5.1804 (Core) \n",
      "* System architecture:  x86_64\n",
      "* Security-Enhanced Linux setting:  Disabled\n",
      "* Default Java:   \n",
      "  * Java vendor:  Oracle Corporation\n",
      "  * Java version:  1.8.0_171\n",
      "  * Java VM version:  25.171-b11\n",
      "  * Java runtime version:  1.8.0_171-b11\n",
      "  * Java full version:  NOT_SET\n",
      "  * Java system encoding:  NOT_SET\n",
      "* Java Home:  /usr/java/latest\n",
      "  * Java vendor:  Oracle Corporation\n",
      "  * Java version:  1.8.0_171\n",
      "  * Java VM version:  25.171-b11\n",
      "  * Java runtime version:  1.8.0_171-b11\n",
      "  * Java full version:  NOT_SET\n",
      "  * Java system encoding:  NOT_SET\n",
      "* Encoding:  UTF-8\n",
      "* User Limit (ulimit -S) Settings:\n",
      "  * Max processes (-u):  257262\n",
      "  * Open files (-n):  111113\n",
      "* User Limit (ulimit -H) Settings:\n",
      "  * Max processes (-u):  257262\n",
      "  * Open files (-n):  111113\n",
      "\n",
      "=== System Configuration Check ===\n",
      "* Status:  PASS - Check:  IP address check\n",
      "* Status:  PASS - Check:  Host name resolution check\n",
      "* Status:  PASS - Check:  Operating system version and architecture check\n",
      "* Status:  PASS - Check:  Encoding check\n",
      "* Status:  PASS - Check:  User limit (ulimit -S) settings check\n",
      "* Status:  PASS - Check:  User limit (ulimit -H) settings check\n",
      "* Status:  PASS - Check:  Firewall service check\n",
      "\n",
      "=== Software Dependency Package Check ===\n",
      "* Status:  CORRECT VERSION - Package:  bash, System Version:  4.2.46-30.el7\n",
      "* Status:  CORRECT VERSION - Package:  bzip2-libs, System Version:  1.0.6-13.el7\n",
      "* Status:  CORRECT VERSION - Package:  chkconfig, System Version:  1.7.4-1.el7\n",
      "* Status:  CORRECT VERSION - Package:  coreutils, System Version:  8.22-21.el7\n",
      "* Status:  CORRECT VERSION - Package:  diffutils, System Version:  3.3-4.el7\n",
      "* Status:  CORRECT VERSION - Package:  gawk, System Version:  4.0.2-4.el7_3.1\n",
      "* Status:  CORRECT VERSION - Package:  gcc, System Version:  4.8.5-28.el7_5.1\n",
      "* Status:  CORRECT VERSION - Package:  gcc-c++, System Version:  4.8.5-28.el7_5.1\n",
      "* Status:  CORRECT VERSION - Package:  glibc, System Version:  2.17-222.el7\n",
      "* Status:  CORRECT VERSION - Package:  glibc-common, System Version:  2.17-222.el7\n",
      "* Status:  CORRECT VERSION - Package:  grep, System Version:  2.20-3.el7\n",
      "* Status:  CORRECT VERSION - Package:  initscripts, System Version:  9.49.41-1.el7\n",
      "* Status:  CORRECT VERSION - Package:  libcap, System Version:  2.22-9.el7\n",
      "* Status:  CORRECT VERSION - Package:  libstdc++, System Version:  4.8.5-28.el7_5.1\n",
      "* Status:  CORRECT VERSION - Package:  make, System Version:  3.82-23.el7\n",
      "* Status:  CORRECT VERSION - Package:  numactl-libs, System Version:  2.0.9-7.el7\n",
      "* Status:  CORRECT VERSION - Package:  openldap, System Version:  2.4.44-15.el7_5\n",
      "* Status:  CORRECT VERSION - Package:  openssh-clients, System Version:  7.4p1-16.el7\n",
      "* Status:  CORRECT VERSION - Package:  openssl, System Version:  1.0.2k-12.el7\n",
      "* Status:  CORRECT VERSION - Package:  pam, System Version:  1.1.8-22.el7\n",
      "* Status:  CORRECT VERSION - Package:  perl, System Version:  5.16.3-292.el7\n",
      "* Status:  CORRECT VERSION - Package:  perl-Time-HiRes, System Version:  1.9725-3.el7\n",
      "* Status:  CORRECT VERSION - Package:  perl-XML-Simple, System Version:  2.20-5.el7\n",
      "* Status:  CORRECT VERSION - Package:  pkgconfig, System Version:  0.27.1-4.el7\n",
      "* Status:  CORRECT VERSION - Package:  procps-ng, System Version:  3.3.10-17.el7_5.2\n",
      "* Status:  CORRECT VERSION - Package:  rpm, System Version:  4.11.3-32.el7\n",
      "* Status:  CORRECT VERSION - Package:  sed, System Version:  4.2.2-5.el7\n",
      "* Status:  CORRECT VERSION - Package:  tar, System Version:  1.26-34.el7\n",
      "* Status:  CORRECT VERSION - Package:  util-linux, System Version:  2.23.2-52.el7\n",
      "* Status:  CORRECT VERSION - Package:  which, System Version:  2.20-7.el7\n",
      "* Status:  CORRECT VERSION - Package:  xdg-utils, System Version:  1.1.0-0.17.20120809git.el7\n",
      "\n",
      "=== Summary of Errors and Warnings ===\n",
      "\n",
      "CDISI0003I The dependency checker evaluated the system and did not find errors or warnings.\n",
      "\n"
     ]
    }
   ],
   "source": [
    "!~streamsadmin/StreamsInstallFiles/dependency_checker.sh"
   ]
  },
  {
   "cell_type": "code",
   "execution_count": 9,
   "metadata": {
    "ExecuteTime": {
     "end_time": "2018-07-13T19:16:14.676122Z",
     "start_time": "2018-07-13T19:16:11.701091Z"
    },
    "hidden": true
   },
   "outputs": [
    {
     "name": "stdout",
     "output_type": "stream",
     "text": [
      "\n",
      "IBM Streams 4.2.1.1 Dependency Checker\n",
      "Date:  July 13, 2018 3:16:14 PM EDT\n",
      "Edition information:\n",
      "    Edition:  IBM Streams\n",
      "    Edition:  IBM Streams Developer Edition\n",
      "\n",
      "=== System Information ===\n",
      "* Hostname:  rta.vion.local\n",
      "* IP address:  192.168.156.184\n",
      "* Operating system:  CentOS Linux release 7.5.1804 (Core) \n",
      "* System architecture:  x86_64\n",
      "* Security-Enhanced Linux setting:  Disabled\n",
      "* Default Java:   \n",
      "  * Java vendor:  Oracle Corporation\n",
      "  * Java version:  1.8.0_171\n",
      "  * Java VM version:  25.171-b11\n",
      "  * Java runtime version:  1.8.0_171-b11\n",
      "  * Java full version:  NOT_SET\n",
      "  * Java system encoding:  NOT_SET\n",
      "* Java Home:  NOT_SET\n",
      "* Encoding:  UTF-8\n",
      "* User Limit (ulimit -S) Settings:\n",
      "  * Max processes (-u):  257262\n",
      "  * Open files (-n):  111113\n",
      "* User Limit (ulimit -H) Settings:\n",
      "  * Max processes (-u):  257262\n",
      "  * Open files (-n):  111113\n",
      "\n",
      "=== System Configuration Check ===\n",
      "* Status:  PASS - Check:  IP address check\n",
      "* Status:  PASS - Check:  Host name resolution check\n",
      "* Status:  PASS - Check:  Operating system version and architecture check\n",
      "* Status:  PASS - Check:  Encoding check\n",
      "* Status:  PASS - Check:  User limit (ulimit -S) settings check\n",
      "* Status:  PASS - Check:  User limit (ulimit -H) settings check\n",
      "* Status:  PASS - Check:  Firewall service check\n",
      "\n",
      "=== Software Dependency Package Check ===\n",
      "* Status:  CORRECT VERSION - Package:  bash, System Version:  4.2.46-30.el7\n",
      "* Status:  CORRECT VERSION - Package:  bzip2-libs, System Version:  1.0.6-13.el7\n",
      "* Status:  CORRECT VERSION - Package:  chkconfig, System Version:  1.7.4-1.el7\n",
      "* Status:  CORRECT VERSION - Package:  coreutils, System Version:  8.22-21.el7\n",
      "* Status:  CORRECT VERSION - Package:  diffutils, System Version:  3.3-4.el7\n",
      "* Status:  CORRECT VERSION - Package:  gawk, System Version:  4.0.2-4.el7_3.1\n",
      "* Status:  CORRECT VERSION - Package:  gcc, System Version:  4.8.5-28.el7_5.1\n",
      "* Status:  CORRECT VERSION - Package:  gcc-c++, System Version:  4.8.5-28.el7_5.1\n",
      "* Status:  CORRECT VERSION - Package:  glibc, System Version:  2.17-222.el7\n",
      "* Status:  CORRECT VERSION - Package:  glibc-common, System Version:  2.17-222.el7\n",
      "* Status:  CORRECT VERSION - Package:  grep, System Version:  2.20-3.el7\n",
      "* Status:  CORRECT VERSION - Package:  initscripts, System Version:  9.49.41-1.el7\n",
      "* Status:  CORRECT VERSION - Package:  libcap, System Version:  2.22-9.el7\n",
      "* Status:  CORRECT VERSION - Package:  libstdc++, System Version:  4.8.5-28.el7_5.1\n",
      "* Status:  CORRECT VERSION - Package:  make, System Version:  3.82-23.el7\n",
      "* Status:  CORRECT VERSION - Package:  numactl-libs, System Version:  2.0.9-7.el7\n",
      "* Status:  CORRECT VERSION - Package:  openldap, System Version:  2.4.44-15.el7_5\n",
      "* Status:  CORRECT VERSION - Package:  openssh-clients, System Version:  7.4p1-16.el7\n",
      "* Status:  CORRECT VERSION - Package:  openssl, System Version:  1.0.2k-12.el7\n",
      "* Status:  CORRECT VERSION - Package:  pam, System Version:  1.1.8-22.el7\n",
      "* Status:  CORRECT VERSION - Package:  perl, System Version:  5.16.3-292.el7\n",
      "* Status:  CORRECT VERSION - Package:  perl-Time-HiRes, System Version:  1.9725-3.el7\n",
      "* Status:  CORRECT VERSION - Package:  perl-XML-Simple, System Version:  2.20-5.el7\n",
      "* Status:  CORRECT VERSION - Package:  pkgconfig, System Version:  0.27.1-4.el7\n",
      "* Status:  CORRECT VERSION - Package:  procps-ng, System Version:  3.3.10-17.el7_5.2\n",
      "* Status:  CORRECT VERSION - Package:  rpm, System Version:  4.11.3-32.el7\n",
      "* Status:  CORRECT VERSION - Package:  sed, System Version:  4.2.2-5.el7\n",
      "* Status:  CORRECT VERSION - Package:  tar, System Version:  1.26-34.el7\n",
      "* Status:  CORRECT VERSION - Package:  util-linux, System Version:  2.23.2-52.el7\n",
      "* Status:  CORRECT VERSION - Package:  which, System Version:  2.20-7.el7\n",
      "* Status:  CORRECT VERSION - Package:  xdg-utils, System Version:  1.1.0-0.17.20120809git.el7\n",
      "\n",
      "=== Summary of Errors and Warnings ===\n",
      "\n",
      "CDISI0003I The dependency checker evaluated the system and did not find errors or warnings.\n",
      "\n"
     ]
    }
   ],
   "source": [
    "!sudo -u streamsadmin ~streamsadmin/StreamsInstallFiles/dependency_checker.sh"
   ]
  },
  {
   "cell_type": "code",
   "execution_count": 10,
   "metadata": {
    "ExecuteTime": {
     "end_time": "2018-07-13T19:16:23.665787Z",
     "start_time": "2018-07-13T19:16:23.484876Z"
    },
    "hidden": true
   },
   "outputs": [],
   "source": [
    "!sudo -u streamsadmin \\\n",
    "printf \"\\\n",
    "RESPONSE_FILE_VERSION=2.1 \\n\\\n",
    "INSTALLER_LOCALE=en \\n\\\n",
    "FILE_OWNER_GROUP=streamsadmin \\n\\\n",
    "FILE_OWNER_USER_ID=streamsadmin \\n\\\n",
    "USER_INSTALL_DIR=/opt/ibm/InfoSphere_Streams \\n\\\n",
    "IS_EDITION_TYPE=Product\\n\\\n",
    "LICENSE_ACCEPTED=TRUE \\n\\\n",
    "VERSION_EXIST_ACTION=0 \\n\\\n",
    "MISSING_DEPENDENCY_ACTION=0 \\n\" \\\n",
    "> /home/streamsadmin/StreamsInstallFiles/installer.properties"
   ]
  },
  {
   "cell_type": "code",
   "execution_count": 11,
   "metadata": {
    "ExecuteTime": {
     "end_time": "2018-07-13T19:17:38.955445Z",
     "start_time": "2018-07-13T19:16:27.422746Z"
    },
    "hidden": true
   },
   "outputs": [],
   "source": [
    "!/home/streamsadmin/StreamsInstallFiles/IBMStreamsSetup.bin \\\n",
    "-jvmxms 32G \\\n",
    "-jvmxmx 32G \\\n",
    "-i silent \\\n",
    "-f /home/streamsadmin/StreamsInstallFiles/installer.properties \\\n",
    "-r /home/streamsadmin/StreamsInstallFiles/new.installer.properties"
   ]
  },
  {
   "cell_type": "markdown",
   "metadata": {
    "heading_collapsed": true,
    "hidden": true
   },
   "source": [
    "### post install"
   ]
  },
  {
   "cell_type": "code",
   "execution_count": 13,
   "metadata": {
    "ExecuteTime": {
     "end_time": "2018-07-13T19:20:44.205508Z",
     "start_time": "2018-07-13T19:20:44.043848Z"
    },
    "hidden": true
   },
   "outputs": [],
   "source": [
    "!sed -i '1 s/^/export SWT_GTK3=0\\n/' /opt/ibm/InfoSphere_Streams/4.2.1.1/bin/streamsprofile.sh"
   ]
  },
  {
   "cell_type": "code",
   "execution_count": 14,
   "metadata": {
    "ExecuteTime": {
     "end_time": "2018-07-13T19:21:59.137366Z",
     "start_time": "2018-07-13T19:21:58.983531Z"
    },
    "hidden": true
   },
   "outputs": [],
   "source": [
    "!echo \"export STREAMS_INSTALL=/opt/ibm/InfoSphere_Streams/4.2.1.1\" >> /etc/profile.d/custom.sh"
   ]
  },
  {
   "cell_type": "code",
   "execution_count": 15,
   "metadata": {
    "ExecuteTime": {
     "end_time": "2018-07-13T19:22:20.244502Z",
     "start_time": "2018-07-13T19:22:20.087454Z"
    },
    "hidden": true
   },
   "outputs": [],
   "source": [
    "!echo \"export STREAMS_SPLPATH=$STREAMS_INSTALL/toolkits/com.ibm.streamsx.messaging\" >> /etc/profile.d/custom.sh"
   ]
  },
  {
   "cell_type": "code",
   "execution_count": 16,
   "metadata": {
    "ExecuteTime": {
     "end_time": "2018-07-13T19:22:28.946855Z",
     "start_time": "2018-07-13T19:22:28.789680Z"
    },
    "hidden": true
   },
   "outputs": [
    {
     "name": "stdout",
     "output_type": "stream",
     "text": [
      "export JAVA_HOME=/usr/java/latest\r\n",
      "PATH=$JAVA_HOME/bin:/opt/anaconda/bin:/opt/anaconda/bin:/usr/local/sbin:/usr/local/bin:/usr/sbin:/usr/bin:/root/bin\r\n",
      "export JAVA_HOME=/usr/java/latest\r\n",
      "PATH=$JAVA_HOME/bin:/opt/anaconda/bin:/opt/anaconda/bin:/usr/java/latest/bin:/opt/anaconda/bin:/opt/anaconda/bin:/usr/local/sbin:/usr/local/bin:/usr/sbin:/usr/bin:/root/bin:/root/bin\r\n",
      "export STREAMS_INSTALL=/opt/ibm/InfoSphere_Streams/4.2.1.1\r\n",
      "export STREAMS_SPLPATH=/toolkits/com.ibm.streamsx.messaging\r\n"
     ]
    }
   ],
   "source": [
    "!cat /etc/profile.d/custom.sh"
   ]
  },
  {
   "cell_type": "code",
   "execution_count": 17,
   "metadata": {
    "ExecuteTime": {
     "end_time": "2018-07-13T19:24:12.903764Z",
     "start_time": "2018-07-13T19:24:12.747214Z"
    },
    "hidden": true
   },
   "outputs": [],
   "source": [
    "!echo \"source /opt/ibm/InfoSphere_Streams/4.2.1.1/bin/streamsprofile.sh\" >> /home/streamsadmin/.bashrc"
   ]
  },
  {
   "cell_type": "code",
   "execution_count": 21,
   "metadata": {
    "ExecuteTime": {
     "end_time": "2018-07-13T19:26:23.435316Z",
     "start_time": "2018-07-13T19:26:23.280915Z"
    },
    "hidden": true
   },
   "outputs": [],
   "source": [
    "!echo \"source /opt/ibm/InfoSphere_Streams/4.2.1.1/bin/streamsprofile.sh\" >> /root/.bashrc"
   ]
  },
  {
   "cell_type": "code",
   "execution_count": 23,
   "metadata": {
    "ExecuteTime": {
     "end_time": "2018-07-13T19:26:51.915145Z",
     "start_time": "2018-07-13T19:26:51.677824Z"
    },
    "hidden": true
   },
   "outputs": [],
   "source": [
    "!source /root/.bashrc"
   ]
  },
  {
   "cell_type": "markdown",
   "metadata": {
    "heading_collapsed": true,
    "hidden": true
   },
   "source": [
    "### configure "
   ]
  },
  {
   "cell_type": "code",
   "execution_count": 33,
   "metadata": {
    "ExecuteTime": {
     "end_time": "2018-07-13T19:42:12.022332Z",
     "start_time": "2018-07-13T19:41:50.379450Z"
    },
    "hidden": true
   },
   "outputs": [
    {
     "name": "stdout",
     "output_type": "stream",
     "text": [
      "CDISA0017I Creating the following domain: StreamsDomain.\n",
      "CDISA0018I The following domain was created successfully: StreamsDomain.\n"
     ]
    }
   ],
   "source": [
    "!sudo \\\n",
    "STREAMS_INSTALL=/opt/ibm/InfoSphere_Streams/4.2.1.1 \\\n",
    "-u streamsadmin -g streamsadmin  \\\n",
    "/opt/ibm/InfoSphere_Streams/4.2.1.1/bin/streamtool \\\n",
    "mkdomain -d StreamsDomain  --zkconnect localhost:2181"
   ]
  },
  {
   "cell_type": "code",
   "execution_count": 36,
   "metadata": {
    "ExecuteTime": {
     "end_time": "2018-07-13T19:41:38.685180Z",
     "start_time": "2018-07-13T19:41:36.124811Z"
    },
    "hidden": true
   },
   "outputs": [
    {
     "name": "stdout",
     "output_type": "stream",
     "text": [
      "CDISC0013I The following private key file was created for authentication: /home/streamsadmin/.streams/key/StreamsDomain/streamsadmin_priv.pem.\n",
      "CDISC0014I The following public key file was created for authentication: streamsadmin.\n",
      "CDISA0089I Generated key successfully for the following domain: StreamsDomain.\n"
     ]
    }
   ],
   "source": [
    "!sudo \\\n",
    "STREAMS_INSTALL=/opt/ibm/InfoSphere_Streams/4.2.1.1 \\\n",
    "-u streamsadmin -g streamsadmin  \\\n",
    "/opt/ibm/InfoSphere_Streams/4.2.1.1/bin/streamtool \\\n",
    "genkey -d StreamsDomain \\\n",
    "--zkconnect localhost:2181"
   ]
  },
  {
   "cell_type": "code",
   "execution_count": 37,
   "metadata": {
    "ExecuteTime": {
     "end_time": "2018-07-13T19:42:12.022332Z",
     "start_time": "2018-07-13T19:41:50.379450Z"
    },
    "hidden": true
   },
   "outputs": [
    {
     "name": "stdout",
     "output_type": "stream",
     "text": [
      "CDISA0064I Starting the authentication and auditing services for the following domain: StreamsDomain.\n",
      "CDISA0021I Starting the following domain: StreamsDomain.\n",
      "CDISA0034I Waiting for all services to start.\n",
      "CDISA0038I The aas service started on the following resource: rta.vion.local. The service has the following process id: 12655.\n",
      "CDISA0038I The auditlog service started on the following resource: rta.vion.local. The service has the following process id: 12655.\n",
      "CDISA0039I The jmx service started on the following resource: rta.vion.local. The service has the following process id: 13705. The service uses the following port: 9975.\n",
      "CDISA0039I The sws service started on the following resource: rta.vion.local. The service has the following process id: 14164. The service uses the following port: 8443.\n",
      "CDISA0022I The following domain started successfully: StreamsDomain.\n"
     ]
    }
   ],
   "source": [
    "!sudo \\\n",
    "STREAMS_INSTALL=/opt/ibm/InfoSphere_Streams/4.2.1.1 \\\n",
    "-u streamsadmin -g streamsadmin  \\\n",
    "/opt/ibm/InfoSphere_Streams/4.2.1.1/bin/streamtool \\\n",
    "startdomain -d StreamsDomain  \\\n",
    "--zkconnect localhost:2181"
   ]
  },
  {
   "cell_type": "code",
   "execution_count": 42,
   "metadata": {
    "ExecuteTime": {
     "end_time": "2018-07-13T19:43:29.879366Z",
     "start_time": "2018-07-13T19:43:26.473602Z"
    },
    "hidden": true
   },
   "outputs": [
    {
     "name": "stdout",
     "output_type": "stream",
     "text": [
      "CDISA0026I Creating the StreamsInstance instance for the following domain: StreamsDomain.\n",
      "CDISA0027I The StreamsInstance instance was created successfully for the following domain: StreamsDomain.\n"
     ]
    }
   ],
   "source": [
    "!sudo \\\n",
    "STREAMS_INSTALL=/opt/ibm/InfoSphere_Streams/4.2.1.1 \\\n",
    "-u streamsadmin -g streamsadmin  \\\n",
    "/opt/ibm/InfoSphere_Streams/4.2.1.1/bin/streamtool \\\n",
    "mkinstance -i StreamsInstance \\\n",
    "-d StreamsDomain \\\n",
    "--zkconnect localhost:2181"
   ]
  },
  {
   "cell_type": "code",
   "execution_count": 45,
   "metadata": {
    "ExecuteTime": {
     "end_time": "2018-07-13T19:44:26.955842Z",
     "start_time": "2018-07-13T19:44:20.070757Z"
    },
    "hidden": true
   },
   "outputs": [
    {
     "name": "stdout",
     "output_type": "stream",
     "text": [
      "CDISA0030I Starting the StreamsInstance instance for the following domain: StreamsDomain.\n",
      "CDISC0164I IBM Streams is adding the following resource specification identifier to the StreamsInstance instance: 1[1(none)[shared]]. The instance is in the StreamsDomain domain.\n",
      "CDISA3019W No resources with the management tag are available in the StreamsInstance instance for the following domain: StreamsDomain. Using rta.vion.local as a management resource.\n",
      "CDISA3040W No resources with the view tag are available for the StreamsInstance instance in the following domain: StreamsDomain. Using rta.vion.local as a view resource.\n",
      "CDISA3013W No resources with the application tag are available in the StreamsInstance instance for the following domain: StreamsDomain. Using rta.vion.local as an application resource.\n",
      "CDISA0034I Waiting for all services to start.\n",
      "CDISA0038I The app service started on the following resource: rta.vion.local. The service has the following process id: 15337.\n",
      "CDISA0038I The sam service started on the following resource: rta.vion.local. The service has the following process id: 15337.\n",
      "CDISA0038I The srm service started on the following resource: rta.vion.local. The service has the following process id: 15337.\n",
      "CDISA0038I The view service started on the following resource: rta.vion.local. The service has the following process id: 15337.\n",
      "CDISA3004W The StreamsInstance instance started with warnings for the following domain: StreamsDomain.  The instance is operational.\n"
     ]
    }
   ],
   "source": [
    "!sudo \\\n",
    "STREAMS_INSTALL=/opt/ibm/InfoSphere_Streams/4.2.1.1 \\\n",
    "-u streamsadmin -g streamsadmin  \\\n",
    "/opt/ibm/InfoSphere_Streams/4.2.1.1/bin/streamtool \\\n",
    "startinstance \\\n",
    "-d StreamsDomain \\\n",
    "-i StreamsInstance \\\n",
    "--zkconnect localhost:2181"
   ]
  },
  {
   "cell_type": "code",
   "execution_count": 48,
   "metadata": {
    "ExecuteTime": {
     "end_time": "2018-07-13T19:45:07.984438Z",
     "start_time": "2018-07-13T19:45:05.829005Z"
    },
    "hidden": true
   },
   "outputs": [
    {
     "name": "stdout",
     "output_type": "stream",
     "text": [
      "https://rta.vion.local:8443/streams/domain/console\r\n"
     ]
    }
   ],
   "source": [
    "!sudo \\\n",
    "STREAMS_INSTALL=/opt/ibm/InfoSphere_Streams/4.2.1.1 \\\n",
    "-u streamsadmin -g streamsadmin  \\\n",
    "/opt/ibm/InfoSphere_Streams/4.2.1.1/bin/streamtool \\\n",
    "geturl \\\n",
    "-d StreamsDomain \\\n",
    "--zkconnect localhost:2181"
   ]
  },
  {
   "cell_type": "code",
   "execution_count": 52,
   "metadata": {
    "ExecuteTime": {
     "end_time": "2018-07-13T19:49:28.513426Z",
     "start_time": "2018-07-13T19:49:21.331408Z"
    },
    "hidden": true
   },
   "outputs": [
    {
     "name": "stdout",
     "output_type": "stream",
     "text": [
      "CDISA0032I Stopping the StreamsInstance instance for the following domain: StreamsDomain.\n",
      "CDISA0035I Waiting for all services to stop.\n",
      "CDISA0042I The view service stopped on the following resource: rta.vion.local. The service had the following process id: 15337.\n",
      "CDISA0042I The app service stopped on the following resource: rta.vion.local. The service had the following process id: 15337.\n",
      "CDISA0042I The srm service stopped on the following resource: rta.vion.local. The service had the following process id: 15337.\n",
      "CDISA0042I The sam service stopped on the following resource: rta.vion.local. The service had the following process id: 15337.\n",
      "CDISA0033I The StreamsInstance instance stopped successfully for the following domain: StreamsDomain.\n"
     ]
    }
   ],
   "source": [
    "!sudo \\\n",
    "STREAMS_INSTALL=/opt/ibm/InfoSphere_Streams/4.2.1.1 \\\n",
    "-u streamsadmin -g streamsadmin  \\\n",
    "/opt/ibm/InfoSphere_Streams/4.2.1.1/bin/streamtool \\\n",
    "stopinstance \\\n",
    "-i StreamsInstance \\\n",
    "-d StreamsDomain \\\n",
    "--zkconnect localhost:2181"
   ]
  },
  {
   "cell_type": "code",
   "execution_count": 53,
   "metadata": {
    "ExecuteTime": {
     "end_time": "2018-07-13T19:50:03.861243Z",
     "start_time": "2018-07-13T19:49:57.297589Z"
    },
    "hidden": true
   },
   "outputs": [
    {
     "name": "stdout",
     "output_type": "stream",
     "text": [
      "CDISA0023I Stopping the following domain: StreamsDomain.\n",
      "CDISA0035I Waiting for all services to stop.\n",
      "CDISA0042I The sws service stopped on the following resource: rta.vion.local. The service had the following process id: 14164.\n",
      "CDISA0042I The jmx service stopped on the following resource: rta.vion.local. The service had the following process id: 13705.\n",
      "CDISA0042I The auditlog service stopped on the following resource: rta.vion.local. The service had the following process id: 12655.\n",
      "CDISA0042I The aas service stopped on the following resource: rta.vion.local. The service had the following process id: 12655.\n",
      "CDISA0042I The controller service stopped on the following resource: rta.vion.local. The service had the following process id: 12455.\n",
      "CDISA0024I The following domain stopped successfully: StreamsDomain.\n"
     ]
    }
   ],
   "source": [
    "!sudo \\\n",
    "STREAMS_INSTALL=/opt/ibm/InfoSphere_Streams/4.2.1.1 \\\n",
    "-u streamsadmin -g streamsadmin  \\\n",
    "/opt/ibm/InfoSphere_Streams/4.2.1.1/bin/streamtool \\\n",
    "stopdomain \\\n",
    "-d StreamsDomain \\\n",
    "--zkconnect localhost:2181"
   ]
  },
  {
   "cell_type": "markdown",
   "metadata": {
    "hidden": true
   },
   "source": [
    "### clean up"
   ]
  },
  {
   "cell_type": "code",
   "execution_count": 54,
   "metadata": {
    "ExecuteTime": {
     "end_time": "2018-07-13T19:50:44.893123Z",
     "start_time": "2018-07-13T19:50:44.327729Z"
    },
    "hidden": true
   },
   "outputs": [],
   "source": [
    "!rm -rf /home/streamsadmin/Streams-4.2.1.1-x86_64-el7.tar.gz"
   ]
  },
  {
   "cell_type": "code",
   "execution_count": 55,
   "metadata": {
    "ExecuteTime": {
     "end_time": "2018-07-13T19:50:59.011105Z",
     "start_time": "2018-07-13T19:50:58.390727Z"
    },
    "hidden": true
   },
   "outputs": [],
   "source": [
    "!rm -rf /home/streamsadmin/StreamsInstallFiles/"
   ]
  },
  {
   "cell_type": "markdown",
   "metadata": {
    "hidden": true
   },
   "source": [
    "#### ~ snapshot ~"
   ]
  },
  {
   "cell_type": "markdown",
   "metadata": {},
   "source": [
    "# ActiveMQ"
   ]
  },
  {
   "cell_type": "code",
   "execution_count": 58,
   "metadata": {
    "ExecuteTime": {
     "end_time": "2018-07-13T19:57:08.726671Z",
     "start_time": "2018-07-13T19:57:08.568849Z"
    }
   },
   "outputs": [
    {
     "name": "stdout",
     "output_type": "stream",
     "text": [
      "apache-activemq-5.15.4-bin.tar.gz     neural_net_prep.ipynb\r\n",
      "custom\t\t\t\t      zookeeper-3.4.12.tar.gz\r\n",
      "IBMStreams4.2.1.1_InstallSummary.log  zookeeper.out\r\n"
     ]
    }
   ],
   "source": [
    "!ls"
   ]
  },
  {
   "cell_type": "code",
   "execution_count": 59,
   "metadata": {
    "ExecuteTime": {
     "end_time": "2018-07-13T19:57:24.833296Z",
     "start_time": "2018-07-13T19:57:24.098155Z"
    },
    "collapsed": true
   },
   "outputs": [
    {
     "name": "stdout",
     "output_type": "stream",
     "text": [
      "apache-activemq-5.15.4/\r\n",
      "apache-activemq-5.15.4/conf/\r\n",
      "apache-activemq-5.15.4/data/\r\n",
      "apache-activemq-5.15.4/docs/\r\n",
      "apache-activemq-5.15.4/examples/\r\n",
      "apache-activemq-5.15.4/examples/amqp/\r\n",
      "apache-activemq-5.15.4/examples/amqp/java/\r\n",
      "apache-activemq-5.15.4/examples/amqp/java/src/\r\n",
      "apache-activemq-5.15.4/examples/amqp/java/src/main/\r\n",
      "apache-activemq-5.15.4/examples/amqp/java/src/main/java/\r\n",
      "apache-activemq-5.15.4/examples/amqp/java/src/main/java/example/\r\n",
      "apache-activemq-5.15.4/examples/amqp/python/\r\n",
      "apache-activemq-5.15.4/examples/conf/\r\n",
      "apache-activemq-5.15.4/examples/mqtt/\r\n",
      "apache-activemq-5.15.4/examples/mqtt/java/\r\n",
      "apache-activemq-5.15.4/examples/mqtt/java/src/\r\n",
      "apache-activemq-5.15.4/examples/mqtt/java/src/main/\r\n",
      "apache-activemq-5.15.4/examples/mqtt/java/src/main/java/\r\n",
      "apache-activemq-5.15.4/examples/mqtt/java/src/main/java/example/\r\n",
      "apache-activemq-5.15.4/examples/mqtt/websocket/\r\n",
      "apache-activemq-5.15.4/examples/mqtt/websocket/css/\r\n",
      "apache-activemq-5.15.4/examples/mqtt/websocket/img/\r\n",
      "apache-activemq-5.15.4/examples/mqtt/websocket/js/\r\n",
      "apache-activemq-5.15.4/examples/openwire/\r\n",
      "apache-activemq-5.15.4/examples/openwire/advanced-scenarios/\r\n",
      "apache-activemq-5.15.4/examples/openwire/advanced-scenarios/jms-example-composite-destinations/\r\n",
      "apache-activemq-5.15.4/examples/openwire/advanced-scenarios/jms-example-composite-destinations/src/\r\n",
      "apache-activemq-5.15.4/examples/openwire/advanced-scenarios/jms-example-composite-destinations/src/main/\r\n",
      "apache-activemq-5.15.4/examples/openwire/advanced-scenarios/jms-example-composite-destinations/src/main/java/\r\n",
      "apache-activemq-5.15.4/examples/openwire/advanced-scenarios/jms-example-composite-destinations/src/main/java/example/\r\n",
      "apache-activemq-5.15.4/examples/openwire/advanced-scenarios/jms-example-composite-destinations/src/main/java/example/composite/\r\n",
      "apache-activemq-5.15.4/examples/openwire/advanced-scenarios/jms-example-composite-destinations/src/main/java/example/composite/dest/\r\n",
      "apache-activemq-5.15.4/examples/openwire/advanced-scenarios/jms-example-durable-sub/\r\n",
      "apache-activemq-5.15.4/examples/openwire/advanced-scenarios/jms-example-durable-sub/src/\r\n",
      "apache-activemq-5.15.4/examples/openwire/advanced-scenarios/jms-example-durable-sub/src/main/\r\n",
      "apache-activemq-5.15.4/examples/openwire/advanced-scenarios/jms-example-durable-sub/src/main/java/\r\n",
      "apache-activemq-5.15.4/examples/openwire/advanced-scenarios/jms-example-durable-sub/src/main/java/example/\r\n",
      "apache-activemq-5.15.4/examples/openwire/advanced-scenarios/jms-example-durable-sub/src/main/java/example/topic/\r\n",
      "apache-activemq-5.15.4/examples/openwire/advanced-scenarios/jms-example-durable-sub/src/main/java/example/topic/durable/\r\n",
      "apache-activemq-5.15.4/examples/openwire/advanced-scenarios/jms-example-exclusive-consumer/\r\n",
      "apache-activemq-5.15.4/examples/openwire/advanced-scenarios/jms-example-exclusive-consumer/src/\r\n",
      "apache-activemq-5.15.4/examples/openwire/advanced-scenarios/jms-example-exclusive-consumer/src/main/\r\n",
      "apache-activemq-5.15.4/examples/openwire/advanced-scenarios/jms-example-exclusive-consumer/src/main/java/\r\n",
      "apache-activemq-5.15.4/examples/openwire/advanced-scenarios/jms-example-exclusive-consumer/src/main/java/example/\r\n",
      "apache-activemq-5.15.4/examples/openwire/advanced-scenarios/jms-example-exclusive-consumer/src/main/java/example/queue/\r\n",
      "apache-activemq-5.15.4/examples/openwire/advanced-scenarios/jms-example-exclusive-consumer/src/main/java/example/queue/exclusive/\r\n",
      "apache-activemq-5.15.4/examples/openwire/advanced-scenarios/jms-example-message-browser/\r\n",
      "apache-activemq-5.15.4/examples/openwire/advanced-scenarios/jms-example-message-browser/src/\r\n",
      "apache-activemq-5.15.4/examples/openwire/advanced-scenarios/jms-example-message-browser/src/main/\r\n",
      "apache-activemq-5.15.4/examples/openwire/advanced-scenarios/jms-example-message-browser/src/main/java/\r\n",
      "apache-activemq-5.15.4/examples/openwire/advanced-scenarios/jms-example-message-browser/src/main/java/example/\r\n",
      "apache-activemq-5.15.4/examples/openwire/advanced-scenarios/jms-example-message-browser/src/main/java/example/browser/\r\n",
      "apache-activemq-5.15.4/examples/openwire/advanced-scenarios/jms-example-queue-selector/\r\n",
      "apache-activemq-5.15.4/examples/openwire/advanced-scenarios/jms-example-queue-selector/src/\r\n",
      "apache-activemq-5.15.4/examples/openwire/advanced-scenarios/jms-example-queue-selector/src/main/\r\n",
      "apache-activemq-5.15.4/examples/openwire/advanced-scenarios/jms-example-queue-selector/src/main/java/\r\n",
      "apache-activemq-5.15.4/examples/openwire/advanced-scenarios/jms-example-queue-selector/src/main/java/example/\r\n",
      "apache-activemq-5.15.4/examples/openwire/advanced-scenarios/jms-example-queue-selector/src/main/java/example/queue/\r\n",
      "apache-activemq-5.15.4/examples/openwire/advanced-scenarios/jms-example-queue-selector/src/main/java/example/queue/selector/\r\n",
      "apache-activemq-5.15.4/examples/openwire/advanced-scenarios/jms-example-queue/\r\n",
      "apache-activemq-5.15.4/examples/openwire/advanced-scenarios/jms-example-queue/src/\r\n",
      "apache-activemq-5.15.4/examples/openwire/advanced-scenarios/jms-example-queue/src/main/\r\n",
      "apache-activemq-5.15.4/examples/openwire/advanced-scenarios/jms-example-queue/src/main/java/\r\n",
      "apache-activemq-5.15.4/examples/openwire/advanced-scenarios/jms-example-queue/src/main/java/example/\r\n",
      "apache-activemq-5.15.4/examples/openwire/advanced-scenarios/jms-example-queue/src/main/java/example/queue/\r\n",
      "apache-activemq-5.15.4/examples/openwire/advanced-scenarios/jms-example-queue/src/main/resources/\r\n",
      "apache-activemq-5.15.4/examples/openwire/advanced-scenarios/jms-example-temp-destinations/\r\n",
      "apache-activemq-5.15.4/examples/openwire/advanced-scenarios/jms-example-temp-destinations/src/\r\n",
      "apache-activemq-5.15.4/examples/openwire/advanced-scenarios/jms-example-temp-destinations/src/main/\r\n",
      "apache-activemq-5.15.4/examples/openwire/advanced-scenarios/jms-example-temp-destinations/src/main/java/\r\n",
      "apache-activemq-5.15.4/examples/openwire/advanced-scenarios/jms-example-temp-destinations/src/main/java/example/\r\n",
      "apache-activemq-5.15.4/examples/openwire/advanced-scenarios/jms-example-temp-destinations/src/main/java/example/tempdest/\r\n",
      "apache-activemq-5.15.4/examples/openwire/advanced-scenarios/jms-example-topic/\r\n",
      "apache-activemq-5.15.4/examples/openwire/advanced-scenarios/jms-example-topic/src/\r\n",
      "apache-activemq-5.15.4/examples/openwire/advanced-scenarios/jms-example-topic/src/main/\r\n",
      "apache-activemq-5.15.4/examples/openwire/advanced-scenarios/jms-example-topic/src/main/java/\r\n",
      "apache-activemq-5.15.4/examples/openwire/advanced-scenarios/jms-example-topic/src/main/java/example/\r\n",
      "apache-activemq-5.15.4/examples/openwire/advanced-scenarios/jms-example-topic/src/main/java/example/topic/\r\n",
      "apache-activemq-5.15.4/examples/openwire/advanced-scenarios/jms-example-topic/src/main/resources/\r\n",
      "apache-activemq-5.15.4/examples/openwire/advanced-scenarios/jms-example-transaction/\r\n",
      "apache-activemq-5.15.4/examples/openwire/advanced-scenarios/jms-example-transaction/src/\r\n",
      "apache-activemq-5.15.4/examples/openwire/advanced-scenarios/jms-example-transaction/src/main/\r\n",
      "apache-activemq-5.15.4/examples/openwire/advanced-scenarios/jms-example-transaction/src/main/java/\r\n",
      "apache-activemq-5.15.4/examples/openwire/advanced-scenarios/jms-example-transaction/src/main/java/example/\r\n",
      "apache-activemq-5.15.4/examples/openwire/advanced-scenarios/jms-example-transaction/src/main/java/example/transaction/\r\n",
      "apache-activemq-5.15.4/examples/openwire/advanced-scenarios/jms-example-wildcard-consumer/\r\n",
      "apache-activemq-5.15.4/examples/openwire/advanced-scenarios/jms-example-wildcard-consumer/src/\r\n",
      "apache-activemq-5.15.4/examples/openwire/advanced-scenarios/jms-example-wildcard-consumer/src/main/\r\n",
      "apache-activemq-5.15.4/examples/openwire/advanced-scenarios/jms-example-wildcard-consumer/src/main/java/\r\n",
      "apache-activemq-5.15.4/examples/openwire/advanced-scenarios/jms-example-wildcard-consumer/src/main/java/example/\r\n",
      "apache-activemq-5.15.4/examples/openwire/advanced-scenarios/jms-example-wildcard-consumer/src/main/java/example/wildcard/\r\n",
      "apache-activemq-5.15.4/examples/openwire/cpp/\r\n",
      "apache-activemq-5.15.4/examples/openwire/csharp/\r\n",
      "apache-activemq-5.15.4/examples/openwire/csharp/ActiveMQExamples/\r\n",
      "apache-activemq-5.15.4/examples/openwire/csharp/ActiveMQExamples/Listener/\r\n",
      "apache-activemq-5.15.4/examples/openwire/csharp/ActiveMQExamples/Publisher/\r\n",
      "apache-activemq-5.15.4/examples/openwire/ecommerce/\r\n",
      "apache-activemq-5.15.4/examples/openwire/ecommerce/src/\r\n",
      "apache-activemq-5.15.4/examples/openwire/exploring-jms/\r\n",
      "apache-activemq-5.15.4/examples/openwire/exploring-jms/QueuePTPSamples/\r\n",
      "apache-activemq-5.15.4/examples/openwire/exploring-jms/QueuePTPSamples/QueueMonitor/\r\n",
      "apache-activemq-5.15.4/examples/openwire/exploring-jms/QueuePTPSamples/QueueRoundTrip/\r\n",
      "apache-activemq-5.15.4/examples/openwire/exploring-jms/QueuePTPSamples/RequestReply/\r\n",
      "apache-activemq-5.15.4/examples/openwire/exploring-jms/QueuePTPSamples/SelectorTalk/\r\n",
      "apache-activemq-5.15.4/examples/openwire/exploring-jms/QueuePTPSamples/Talk/\r\n",
      "apache-activemq-5.15.4/examples/openwire/exploring-jms/QueuePTPSamples/TransactedTalk/\r\n",
      "apache-activemq-5.15.4/examples/openwire/exploring-jms/TopicPubSubSamples/\r\n",
      "apache-activemq-5.15.4/examples/openwire/exploring-jms/TopicPubSubSamples/Chat/\r\n",
      "apache-activemq-5.15.4/examples/openwire/exploring-jms/TopicPubSubSamples/DurableChat/\r\n",
      "apache-activemq-5.15.4/examples/openwire/exploring-jms/TopicPubSubSamples/HierarchicalChat/\r\n",
      "apache-activemq-5.15.4/examples/openwire/exploring-jms/TopicPubSubSamples/MessageMonitor/\r\n",
      "apache-activemq-5.15.4/examples/openwire/exploring-jms/TopicPubSubSamples/RequestReply/\r\n",
      "apache-activemq-5.15.4/examples/openwire/exploring-jms/TopicPubSubSamples/SelectorChat/\r\n",
      "apache-activemq-5.15.4/examples/openwire/exploring-jms/TopicPubSubSamples/TransactedChat/\r\n",
      "apache-activemq-5.15.4/examples/openwire/exploring-jms/conf/\r\n",
      "apache-activemq-5.15.4/examples/openwire/java/\r\n",
      "apache-activemq-5.15.4/examples/openwire/java/src/\r\n",
      "apache-activemq-5.15.4/examples/openwire/java/src/main/\r\n",
      "apache-activemq-5.15.4/examples/openwire/java/src/main/java/\r\n",
      "apache-activemq-5.15.4/examples/openwire/java/src/main/java/example/\r\n",
      "apache-activemq-5.15.4/examples/openwire/swissarmy/\r\n",
      "apache-activemq-5.15.4/examples/openwire/swissarmy/src/\r\n",
      "apache-activemq-5.15.4/examples/stomp/\r\n",
      "apache-activemq-5.15.4/examples/stomp/cpp/\r\n",
      "apache-activemq-5.15.4/examples/stomp/csharp/\r\n",
      "apache-activemq-5.15.4/examples/stomp/csharp/ActiveMQExamples/\r\n",
      "apache-activemq-5.15.4/examples/stomp/csharp/ActiveMQExamples/Listener/\r\n",
      "apache-activemq-5.15.4/examples/stomp/csharp/ActiveMQExamples/Publisher/\r\n",
      "apache-activemq-5.15.4/examples/stomp/java/\r\n",
      "apache-activemq-5.15.4/examples/stomp/java/src/\r\n",
      "apache-activemq-5.15.4/examples/stomp/java/src/main/\r\n",
      "apache-activemq-5.15.4/examples/stomp/java/src/main/java/\r\n",
      "apache-activemq-5.15.4/examples/stomp/java/src/main/java/example/\r\n",
      "apache-activemq-5.15.4/examples/stomp/perl/\r\n",
      "apache-activemq-5.15.4/examples/stomp/php/\r\n",
      "apache-activemq-5.15.4/examples/stomp/python/\r\n",
      "apache-activemq-5.15.4/examples/stomp/python/stompest/\r\n",
      "apache-activemq-5.15.4/examples/stomp/python/stompest/async/\r\n",
      "apache-activemq-5.15.4/examples/stomp/python/stompest/sync/\r\n",
      "apache-activemq-5.15.4/examples/stomp/python/stomppy/\r\n",
      "apache-activemq-5.15.4/examples/stomp/ruby/\r\n",
      "apache-activemq-5.15.4/examples/stomp/websocket/\r\n",
      "apache-activemq-5.15.4/examples/stomp/websocket/css/\r\n",
      "apache-activemq-5.15.4/examples/stomp/websocket/img/\r\n",
      "apache-activemq-5.15.4/examples/stomp/websocket/js/\r\n",
      "apache-activemq-5.15.4/lib/\r\n",
      "apache-activemq-5.15.4/webapps/\r\n",
      "apache-activemq-5.15.4/webapps/admin/\r\n",
      "apache-activemq-5.15.4/webapps/admin/WEB-INF/\r\n",
      "apache-activemq-5.15.4/webapps/api/\r\n",
      "apache-activemq-5.15.4/webapps/api/WEB-INF/\r\n",
      "apache-activemq-5.15.4/webapps/api/WEB-INF/classes/\r\n",
      "apache-activemq-5.15.4/LICENSE\r\n",
      "apache-activemq-5.15.4/NOTICE\r\n",
      "apache-activemq-5.15.4/README.txt\r\n",
      "apache-activemq-5.15.4/conf/activemq.xml\r\n",
      "apache-activemq-5.15.4/conf/credentials-enc.properties\r\n",
      "apache-activemq-5.15.4/conf/credentials.properties\r\n",
      "apache-activemq-5.15.4/conf/groups.properties\r\n",
      "apache-activemq-5.15.4/conf/java.security\r\n",
      "apache-activemq-5.15.4/conf/jetty-realm.properties\r\n",
      "apache-activemq-5.15.4/conf/jetty.xml\r\n",
      "apache-activemq-5.15.4/conf/jmx.access\r\n",
      "apache-activemq-5.15.4/conf/jmx.password\r\n",
      "apache-activemq-5.15.4/conf/log4j.properties\r\n",
      "apache-activemq-5.15.4/conf/logging.properties\r\n",
      "apache-activemq-5.15.4/conf/login.config\r\n",
      "apache-activemq-5.15.4/conf/users.properties\r\n",
      "apache-activemq-5.15.4/data/activemq.log\r\n",
      "apache-activemq-5.15.4/docs/WebConsole-README.txt\r\n",
      "apache-activemq-5.15.4/docs/index.html\r\n",
      "apache-activemq-5.15.4/docs/user-guide.html\r\n",
      "apache-activemq-5.15.4/examples/amqp/java/readme.md\r\n",
      "apache-activemq-5.15.4/examples/amqp/java/src/main/java/example/Listener.java\r\n",
      "apache-activemq-5.15.4/examples/amqp/java/src/main/java/example/Publisher.java\r\n",
      "apache-activemq-5.15.4/examples/amqp/python/address.py\r\n",
      "apache-activemq-5.15.4/examples/amqp/python/content.py\r\n",
      "apache-activemq-5.15.4/examples/amqp/python/readme.md\r\n",
      "apache-activemq-5.15.4/examples/amqp/python/receiver.py\r\n",
      "apache-activemq-5.15.4/examples/amqp/python/sender.py\r\n",
      "apache-activemq-5.15.4/examples/conf/activemq-demo.xml\r\n",
      "apache-activemq-5.15.4/examples/conf/activemq-dynamic-network-broker1.xml\r\n",
      "apache-activemq-5.15.4/examples/conf/activemq-dynamic-network-broker2.xml\r\n",
      "apache-activemq-5.15.4/examples/conf/activemq-jdbc-performance.xml\r\n",
      "apache-activemq-5.15.4/examples/conf/activemq-jdbc.xml\r\n",
      "apache-activemq-5.15.4/examples/conf/activemq-leveldb-replicating.xml\r\n",
      "apache-activemq-5.15.4/examples/conf/activemq-mqtt.xml\r\n",
      "apache-activemq-5.15.4/examples/conf/activemq-scalability.xml\r\n",
      "apache-activemq-5.15.4/examples/conf/activemq-security.xml\r\n",
      "apache-activemq-5.15.4/examples/conf/activemq-specjms.xml\r\n",
      "apache-activemq-5.15.4/examples/conf/activemq-static-network-broker1.xml\r\n",
      "apache-activemq-5.15.4/examples/conf/activemq-static-network-broker2.xml\r\n",
      "apache-activemq-5.15.4/examples/conf/activemq-stomp.xml\r\n",
      "apache-activemq-5.15.4/examples/conf/activemq-throughput.xml\r\n",
      "apache-activemq-5.15.4/examples/conf/activemq.xml\r\n",
      "apache-activemq-5.15.4/examples/conf/camel.xml\r\n",
      "apache-activemq-5.15.4/examples/conf/jetty-demo.xml\r\n",
      "apache-activemq-5.15.4/examples/conf/log4j.properties\r\n",
      "apache-activemq-5.15.4/examples/conf/resin-web.xml\r\n",
      "apache-activemq-5.15.4/examples/conf/web.xml\r\n",
      "apache-activemq-5.15.4/examples/mqtt/java/readme.md\r\n",
      "apache-activemq-5.15.4/examples/mqtt/java/src/main/java/example/Listener.java\r\n",
      "apache-activemq-5.15.4/examples/mqtt/java/src/main/java/example/Publisher.java\r\n",
      "apache-activemq-5.15.4/examples/mqtt/websocket/css/bootstrap.min.css\r\n",
      "apache-activemq-5.15.4/examples/mqtt/websocket/css/bootstrap.min.responsive.css\r\n",
      "apache-activemq-5.15.4/examples/mqtt/websocket/img/glyphicons-halflings-white.png\r\n",
      "apache-activemq-5.15.4/examples/mqtt/websocket/img/glyphicons-halflings.png\r\n",
      "apache-activemq-5.15.4/examples/mqtt/websocket/index.html\r\n",
      "apache-activemq-5.15.4/examples/mqtt/websocket/js/jquery-1.7.2.min.js\r\n",
      "apache-activemq-5.15.4/examples/mqtt/websocket/js/mqttws31.js\r\n",
      "apache-activemq-5.15.4/examples/mqtt/websocket/readme.md\r\n",
      "apache-activemq-5.15.4/examples/openwire/advanced-scenarios/jms-example-composite-destinations/readme.md\r\n",
      "apache-activemq-5.15.4/examples/openwire/advanced-scenarios/jms-example-composite-destinations/src/main/java/example/composite/dest/Consumer.java\r\n",
      "apache-activemq-5.15.4/examples/openwire/advanced-scenarios/jms-example-composite-destinations/src/main/java/example/composite/dest/Producer.java\r\n",
      "apache-activemq-5.15.4/examples/openwire/advanced-scenarios/jms-example-durable-sub/readme.md\r\n",
      "apache-activemq-5.15.4/examples/openwire/advanced-scenarios/jms-example-durable-sub/src/main/java/example/topic/durable/Publisher.java\r\n",
      "apache-activemq-5.15.4/examples/openwire/advanced-scenarios/jms-example-durable-sub/src/main/java/example/topic/durable/Subscriber.java\r\n",
      "apache-activemq-5.15.4/examples/openwire/advanced-scenarios/jms-example-exclusive-consumer/readme.md\r\n",
      "apache-activemq-5.15.4/examples/openwire/advanced-scenarios/jms-example-exclusive-consumer/src/main/java/example/queue/exclusive/Consumer.java\r\n",
      "apache-activemq-5.15.4/examples/openwire/advanced-scenarios/jms-example-exclusive-consumer/src/main/java/example/queue/exclusive/Producer.java\r\n",
      "apache-activemq-5.15.4/examples/openwire/advanced-scenarios/jms-example-message-browser/readme.md\r\n",
      "apache-activemq-5.15.4/examples/openwire/advanced-scenarios/jms-example-message-browser/src/main/java/example/browser/Browser.java\r\n",
      "apache-activemq-5.15.4/examples/openwire/advanced-scenarios/jms-example-message-browser/src/main/java/example/browser/Producer.java\r\n",
      "apache-activemq-5.15.4/examples/openwire/advanced-scenarios/jms-example-queue-selector/readme.md\r\n",
      "apache-activemq-5.15.4/examples/openwire/advanced-scenarios/jms-example-queue-selector/src/main/java/example/queue/selector/Consumer.java\r\n",
      "apache-activemq-5.15.4/examples/openwire/advanced-scenarios/jms-example-queue-selector/src/main/java/example/queue/selector/Producer.java\r\n",
      "apache-activemq-5.15.4/examples/openwire/advanced-scenarios/jms-example-queue/readme.md\r\n",
      "apache-activemq-5.15.4/examples/openwire/advanced-scenarios/jms-example-queue/src/main/java/example/queue/Consumer.java\r\n",
      "apache-activemq-5.15.4/examples/openwire/advanced-scenarios/jms-example-queue/src/main/java/example/queue/Producer.java\r\n",
      "apache-activemq-5.15.4/examples/openwire/advanced-scenarios/jms-example-queue/src/main/resources/log4j.properties\r\n",
      "apache-activemq-5.15.4/examples/openwire/advanced-scenarios/jms-example-temp-destinations/readme.md\r\n",
      "apache-activemq-5.15.4/examples/openwire/advanced-scenarios/jms-example-temp-destinations/src/main/java/example/tempdest/Consumer.java\r\n",
      "apache-activemq-5.15.4/examples/openwire/advanced-scenarios/jms-example-temp-destinations/src/main/java/example/tempdest/ProducerRequestReply.java\r\n",
      "apache-activemq-5.15.4/examples/openwire/advanced-scenarios/jms-example-topic/readme.md\r\n",
      "apache-activemq-5.15.4/examples/openwire/advanced-scenarios/jms-example-topic/src/main/java/example/topic/Publisher.java\r\n",
      "apache-activemq-5.15.4/examples/openwire/advanced-scenarios/jms-example-topic/src/main/java/example/topic/Subscriber.java\r\n",
      "apache-activemq-5.15.4/examples/openwire/advanced-scenarios/jms-example-topic/src/main/resources/log4j.properties\r\n",
      "apache-activemq-5.15.4/examples/openwire/advanced-scenarios/jms-example-transaction/readme.md\r\n",
      "apache-activemq-5.15.4/examples/openwire/advanced-scenarios/jms-example-transaction/src/main/java/example/transaction/Client.java\r\n",
      "apache-activemq-5.15.4/examples/openwire/advanced-scenarios/jms-example-wildcard-consumer/readme.md\r\n",
      "apache-activemq-5.15.4/examples/openwire/advanced-scenarios/jms-example-wildcard-consumer/src/main/java/example/wildcard/Client.java\r\n",
      "apache-activemq-5.15.4/examples/openwire/advanced-scenarios/readme.md\r\n",
      "apache-activemq-5.15.4/examples/openwire/cpp/Listener.cpp\r\n",
      "apache-activemq-5.15.4/examples/openwire/cpp/Publisher.cpp\r\n",
      "apache-activemq-5.15.4/examples/openwire/cpp/readme.md\r\n",
      "apache-activemq-5.15.4/examples/openwire/csharp/ActiveMQExamples/ActiveMQExamples.sln\r\n",
      "apache-activemq-5.15.4/examples/openwire/csharp/ActiveMQExamples/ActiveMQExamples.userprefs\r\n",
      "apache-activemq-5.15.4/examples/openwire/csharp/ActiveMQExamples/Listener/AssemblyInfo.cs\r\n",
      "apache-activemq-5.15.4/examples/openwire/csharp/ActiveMQExamples/Listener/Listener.cs\r\n",
      "apache-activemq-5.15.4/examples/openwire/csharp/ActiveMQExamples/Listener/Listener.csproj\r\n",
      "apache-activemq-5.15.4/examples/openwire/csharp/ActiveMQExamples/Listener/NMSTracer.cs\r\n",
      "apache-activemq-5.15.4/examples/openwire/csharp/ActiveMQExamples/Publisher/AssemblyInfo.cs\r\n",
      "apache-activemq-5.15.4/examples/openwire/csharp/ActiveMQExamples/Publisher/NMSTracer.cs\r\n",
      "apache-activemq-5.15.4/examples/openwire/csharp/ActiveMQExamples/Publisher/Publisher.cs\r\n",
      "apache-activemq-5.15.4/examples/openwire/csharp/ActiveMQExamples/Publisher/Publisher.csproj\r\n",
      "apache-activemq-5.15.4/examples/openwire/csharp/readme.md\r\n",
      "apache-activemq-5.15.4/examples/openwire/ecommerce/README.txt\r\n",
      "apache-activemq-5.15.4/examples/openwire/ecommerce/build.xml\r\n",
      "apache-activemq-5.15.4/examples/openwire/ecommerce/src/Retailer.java\r\n",
      "apache-activemq-5.15.4/examples/openwire/ecommerce/src/Supplier.java\r\n",
      "apache-activemq-5.15.4/examples/openwire/ecommerce/src/TransactionsDemo.java\r\n",
      "apache-activemq-5.15.4/examples/openwire/ecommerce/src/Vendor.java\r\n",
      "apache-activemq-5.15.4/examples/openwire/exploring-jms/QueuePTPSamples/QueueMonitor/QueueMonitor.java\r\n",
      "apache-activemq-5.15.4/examples/openwire/exploring-jms/QueuePTPSamples/QueueMonitor/QueueMonitor.properties\r\n",
      "apache-activemq-5.15.4/examples/openwire/exploring-jms/QueuePTPSamples/QueueRoundTrip/QueueRoundTrip.java\r\n",
      "apache-activemq-5.15.4/examples/openwire/exploring-jms/QueuePTPSamples/RequestReply/Replier.java\r\n",
      "apache-activemq-5.15.4/examples/openwire/exploring-jms/QueuePTPSamples/RequestReply/Requestor.java\r\n",
      "apache-activemq-5.15.4/examples/openwire/exploring-jms/QueuePTPSamples/SelectorTalk/SelectorTalk.java\r\n",
      "apache-activemq-5.15.4/examples/openwire/exploring-jms/QueuePTPSamples/Talk/Talk.java\r\n",
      "apache-activemq-5.15.4/examples/openwire/exploring-jms/QueuePTPSamples/TransactedTalk/TransactedTalk.java\r\n",
      "apache-activemq-5.15.4/examples/openwire/exploring-jms/TopicPubSubSamples/Chat/Chat.java\r\n",
      "apache-activemq-5.15.4/examples/openwire/exploring-jms/TopicPubSubSamples/DurableChat/DurableChat.java\r\n",
      "apache-activemq-5.15.4/examples/openwire/exploring-jms/TopicPubSubSamples/HierarchicalChat/HierarchicalChat.java\r\n",
      "apache-activemq-5.15.4/examples/openwire/exploring-jms/TopicPubSubSamples/MessageMonitor/MessageMonitor.java\r\n",
      "apache-activemq-5.15.4/examples/openwire/exploring-jms/TopicPubSubSamples/MessageMonitor/MessageMonitor.properties\r\n",
      "apache-activemq-5.15.4/examples/openwire/exploring-jms/TopicPubSubSamples/RequestReply/TopicReplier.java\r\n",
      "apache-activemq-5.15.4/examples/openwire/exploring-jms/TopicPubSubSamples/RequestReply/TopicRequestor.java\r\n",
      "apache-activemq-5.15.4/examples/openwire/exploring-jms/TopicPubSubSamples/SelectorChat/SelectorChat.java\r\n",
      "apache-activemq-5.15.4/examples/openwire/exploring-jms/TopicPubSubSamples/TransactedChat/TransactedChat.java\r\n",
      "apache-activemq-5.15.4/examples/openwire/exploring-jms/build.xml\r\n",
      "apache-activemq-5.15.4/examples/openwire/exploring-jms/conf/log4j.properties\r\n",
      "apache-activemq-5.15.4/examples/openwire/exploring-jms/readme.txt\r\n",
      "apache-activemq-5.15.4/examples/openwire/java/readme.md\r\n",
      "apache-activemq-5.15.4/examples/openwire/java/src/main/java/example/Listener.java\r\n",
      "apache-activemq-5.15.4/examples/openwire/java/src/main/java/example/Publisher.java\r\n",
      "apache-activemq-5.15.4/examples/openwire/swissarmy/build.xml\r\n",
      "apache-activemq-5.15.4/examples/openwire/swissarmy/readme.md\r\n",
      "apache-activemq-5.15.4/examples/openwire/swissarmy/src/CommandLineSupport.java\r\n",
      "apache-activemq-5.15.4/examples/openwire/swissarmy/src/ConsumerTool.java\r\n",
      "apache-activemq-5.15.4/examples/openwire/swissarmy/src/EmbeddedBroker.java\r\n",
      "apache-activemq-5.15.4/examples/openwire/swissarmy/src/Log4jJMSAppenderExample.java\r\n",
      "apache-activemq-5.15.4/examples/openwire/swissarmy/src/ProducerAndConsumerTool.java\r\n",
      "apache-activemq-5.15.4/examples/openwire/swissarmy/src/ProducerTool.java\r\n",
      "apache-activemq-5.15.4/examples/openwire/swissarmy/src/RequesterTool.java\r\n",
      "apache-activemq-5.15.4/examples/openwire/swissarmy/src/StompExample.java\r\n",
      "apache-activemq-5.15.4/examples/openwire/swissarmy/src/TopicListener.java\r\n",
      "apache-activemq-5.15.4/examples/openwire/swissarmy/src/TopicPublisher.java\r\n",
      "apache-activemq-5.15.4/examples/openwire/swissarmy/src/jndi.properties\r\n",
      "apache-activemq-5.15.4/examples/openwire/swissarmy/src/log4j-jms.properties\r\n",
      "apache-activemq-5.15.4/examples/stomp/cpp/Listener.cpp\r\n",
      "apache-activemq-5.15.4/examples/stomp/cpp/Publisher.cpp\r\n",
      "apache-activemq-5.15.4/examples/stomp/cpp/readme.md\r\n",
      "apache-activemq-5.15.4/examples/stomp/csharp/ActiveMQExamples/ActiveMQExamples.sln\r\n",
      "apache-activemq-5.15.4/examples/stomp/csharp/ActiveMQExamples/ActiveMQExamples.userprefs\r\n",
      "apache-activemq-5.15.4/examples/stomp/csharp/ActiveMQExamples/Listener/AssemblyInfo.cs\r\n",
      "apache-activemq-5.15.4/examples/stomp/csharp/ActiveMQExamples/Listener/Listener.cs\r\n",
      "apache-activemq-5.15.4/examples/stomp/csharp/ActiveMQExamples/Listener/Listener.csproj\r\n",
      "apache-activemq-5.15.4/examples/stomp/csharp/ActiveMQExamples/Listener/NMSTracer.cs\r\n",
      "apache-activemq-5.15.4/examples/stomp/csharp/ActiveMQExamples/Publisher/AssemblyInfo.cs\r\n",
      "apache-activemq-5.15.4/examples/stomp/csharp/ActiveMQExamples/Publisher/NMSTracer.cs\r\n",
      "apache-activemq-5.15.4/examples/stomp/csharp/ActiveMQExamples/Publisher/Publisher.cs\r\n",
      "apache-activemq-5.15.4/examples/stomp/csharp/ActiveMQExamples/Publisher/Publisher.csproj\r\n",
      "apache-activemq-5.15.4/examples/stomp/csharp/readme.md\r\n",
      "apache-activemq-5.15.4/examples/stomp/java/readme.md\r\n",
      "apache-activemq-5.15.4/examples/stomp/java/src/main/java/example/Listener.java\r\n",
      "apache-activemq-5.15.4/examples/stomp/java/src/main/java/example/Publisher.java\r\n",
      "apache-activemq-5.15.4/examples/stomp/perl/listener\r\n",
      "apache-activemq-5.15.4/examples/stomp/perl/publisher\r\n",
      "apache-activemq-5.15.4/examples/stomp/perl/readme.md\r\n",
      "apache-activemq-5.15.4/examples/stomp/php/listener.php\r\n",
      "apache-activemq-5.15.4/examples/stomp/php/publisher.php\r\n",
      "apache-activemq-5.15.4/examples/stomp/php/readme.md\r\n",
      "apache-activemq-5.15.4/examples/stomp/python/readme.md\r\n",
      "apache-activemq-5.15.4/examples/stomp/python/stompest/async/__init__.py\r\n",
      "apache-activemq-5.15.4/examples/stomp/python/stompest/async/listener.py\r\n",
      "apache-activemq-5.15.4/examples/stomp/python/stompest/async/publisher.py\r\n",
      "apache-activemq-5.15.4/examples/stomp/python/stompest/readme.md\r\n",
      "apache-activemq-5.15.4/examples/stomp/python/stompest/sync/__init__.py\r\n",
      "apache-activemq-5.15.4/examples/stomp/python/stompest/sync/listener.py\r\n",
      "apache-activemq-5.15.4/examples/stomp/python/stompest/sync/publisher.py\r\n",
      "apache-activemq-5.15.4/examples/stomp/python/stomppy/listener.py\r\n",
      "apache-activemq-5.15.4/examples/stomp/python/stomppy/publisher.py\r\n",
      "apache-activemq-5.15.4/examples/stomp/python/stomppy/readme.md\r\n",
      "apache-activemq-5.15.4/examples/stomp/ruby/readme.md\r\n",
      "apache-activemq-5.15.4/examples/stomp/websocket/css/bootstrap.min.css\r\n",
      "apache-activemq-5.15.4/examples/stomp/websocket/css/bootstrap.min.responsive.css\r\n",
      "apache-activemq-5.15.4/examples/stomp/websocket/img/glyphicons-halflings-white.png\r\n",
      "apache-activemq-5.15.4/examples/stomp/websocket/img/glyphicons-halflings.png\r\n",
      "apache-activemq-5.15.4/examples/stomp/websocket/index.html\r\n",
      "apache-activemq-5.15.4/examples/stomp/websocket/js/jquery-1.7.2.min.js\r\n",
      "apache-activemq-5.15.4/examples/stomp/websocket/js/stomp.js\r\n",
      "apache-activemq-5.15.4/examples/stomp/websocket/readme.md\r\n",
      "apache-activemq-5.15.4/lib/activemq-rar.txt\r\n",
      "apache-activemq-5.15.4/webapps/admin/WEB-INF/webconsole-embedded.xml\r\n",
      "apache-activemq-5.15.4/webapps/api/WEB-INF/classes/jolokia-access.xml\r\n",
      "apache-activemq-5.15.4/webapps/api/WEB-INF/web.xml\r\n",
      "apache-activemq-5.15.4/webapps/index.html\r\n",
      "apache-activemq-5.15.4/examples/amqp/java/pom.xml\r\n",
      "apache-activemq-5.15.4/examples/mqtt/java/pom.xml\r\n",
      "apache-activemq-5.15.4/examples/openwire/advanced-scenarios/jms-example-composite-destinations/pom.xml\r\n",
      "apache-activemq-5.15.4/examples/openwire/advanced-scenarios/jms-example-durable-sub/pom.xml\r\n",
      "apache-activemq-5.15.4/examples/openwire/advanced-scenarios/jms-example-exclusive-consumer/pom.xml\r\n",
      "apache-activemq-5.15.4/examples/openwire/advanced-scenarios/jms-example-message-browser/pom.xml\r\n",
      "apache-activemq-5.15.4/examples/openwire/advanced-scenarios/jms-example-queue-selector/pom.xml\r\n",
      "apache-activemq-5.15.4/examples/openwire/advanced-scenarios/jms-example-queue/pom.xml\r\n",
      "apache-activemq-5.15.4/examples/openwire/advanced-scenarios/jms-example-temp-destinations/pom.xml\r\n",
      "apache-activemq-5.15.4/examples/openwire/advanced-scenarios/jms-example-topic/pom.xml\r\n",
      "apache-activemq-5.15.4/examples/openwire/advanced-scenarios/jms-example-transaction/pom.xml\r\n",
      "apache-activemq-5.15.4/examples/openwire/advanced-scenarios/jms-example-wildcard-consumer/pom.xml\r\n",
      "apache-activemq-5.15.4/examples/openwire/advanced-scenarios/pom.xml\r\n",
      "apache-activemq-5.15.4/examples/openwire/java/pom.xml\r\n",
      "apache-activemq-5.15.4/examples/stomp/java/pom.xml\r\n",
      "apache-activemq-5.15.4/bin/linux-x86-32/wrapper.conf\r\n",
      "apache-activemq-5.15.4/bin/linux-x86-64/wrapper.conf\r\n",
      "apache-activemq-5.15.4/bin/macosx/wrapper.conf\r\n",
      "apache-activemq-5.15.4/bin/linux-x86-32/libwrapper.so\r\n",
      "apache-activemq-5.15.4/bin/linux-x86-32/wrapper\r\n",
      "apache-activemq-5.15.4/bin/linux-x86-64/libwrapper.so\r\n",
      "apache-activemq-5.15.4/bin/linux-x86-64/wrapper\r\n",
      "apache-activemq-5.15.4/bin/macosx/libwrapper.jnilib\r\n",
      "apache-activemq-5.15.4/bin/macosx/wrapper\r\n",
      "apache-activemq-5.15.4/bin/activemq\r\n",
      "apache-activemq-5.15.4/bin/activemq-diag\r\n",
      "apache-activemq-5.15.4/bin/linux-x86-32/activemq\r\n",
      "apache-activemq-5.15.4/bin/linux-x86-64/activemq\r\n",
      "apache-activemq-5.15.4/bin/macosx/activemq\r\n",
      "apache-activemq-5.15.4/bin/env\r\n",
      "apache-activemq-5.15.4/examples/stomp/ruby/catstomp.rb\r\n",
      "apache-activemq-5.15.4/examples/stomp/ruby/listener.rb\r\n",
      "apache-activemq-5.15.4/examples/stomp/ruby/publisher.rb\r\n",
      "apache-activemq-5.15.4/examples/stomp/ruby/stompcat.rb\r\n",
      "apache-activemq-5.15.4/bin/wrapper.jar\r\n",
      "apache-activemq-5.15.4/conf/broker-localhost.cert\r\n",
      "apache-activemq-5.15.4/conf/broker.ks\r\n",
      "apache-activemq-5.15.4/conf/broker.ts\r\n",
      "apache-activemq-5.15.4/conf/client.ks\r\n",
      "apache-activemq-5.15.4/conf/client.ts\r\n",
      "apache-activemq-5.15.4/webapps/favicon.ico\r\n",
      "apache-activemq-5.15.4/webapps/images/activemq-logo.png\r\n",
      "apache-activemq-5.15.4/webapps/images/asf-logo.png\r\n",
      "apache-activemq-5.15.4/webapps/images/big-bullet.png\r\n",
      "apache-activemq-5.15.4/webapps/images/black-footer-bottom.png\r\n",
      "apache-activemq-5.15.4/webapps/images/black-footer-left.png\r\n",
      "apache-activemq-5.15.4/webapps/images/black-footer-right.png\r\n",
      "apache-activemq-5.15.4/webapps/images/bottom-red-bar.png\r\n",
      "apache-activemq-5.15.4/webapps/images/checker-bg.png\r\n",
      "apache-activemq-5.15.4/webapps/images/content-left.png\r\n",
      "apache-activemq-5.15.4/webapps/images/content-right.png\r\n",
      "apache-activemq-5.15.4/webapps/images/feed_atom.png\r\n",
      "apache-activemq-5.15.4/webapps/images/feed_rss.png\r\n",
      "apache-activemq-5.15.4/webapps/images/left-box-bottom.png\r\n",
      "apache-activemq-5.15.4/webapps/images/left-box-right.png\r\n",
      "apache-activemq-5.15.4/webapps/images/left-box-top.png\r\n",
      "apache-activemq-5.15.4/webapps/images/oval-arrow.png\r\n",
      "apache-activemq-5.15.4/webapps/images/right-box-bottom.png\r\n",
      "apache-activemq-5.15.4/webapps/images/right-box-left.png\r\n",
      "apache-activemq-5.15.4/webapps/images/right-box-top.png\r\n",
      "apache-activemq-5.15.4/webapps/images/small-bullet-gray.png\r\n",
      "apache-activemq-5.15.4/webapps/images/small-bullet-red.png\r\n",
      "apache-activemq-5.15.4/webapps/images/spacer.gif\r\n",
      "apache-activemq-5.15.4/webapps/images/top-red-bar.png\r\n",
      "apache-activemq-5.15.4/webapps/images/white-header-left.png\r\n",
      "apache-activemq-5.15.4/webapps/images/white-header-right.png\r\n",
      "apache-activemq-5.15.4/webapps/images/white-header-top.png\r\n",
      "apache-activemq-5.15.4/webapps/styles/prettify.css\r\n",
      "apache-activemq-5.15.4/webapps/styles/site.css\r\n",
      "apache-activemq-5.15.4/webapps/styles/sorttable.css\r\n",
      "apache-activemq-5.15.4/webapps/styles/type-settings.css\r\n",
      "apache-activemq-5.15.4/webapps/admin/\r\n",
      "apache-activemq-5.15.4/webapps/admin/META-INF/\r\n",
      "apache-activemq-5.15.4/webapps/admin/WEB-INF/jspf/\r\n",
      "apache-activemq-5.15.4/webapps/admin/WEB-INF/tags/\r\n",
      "apache-activemq-5.15.4/webapps/admin/WEB-INF/tags/form/\r\n",
      "apache-activemq-5.15.4/webapps/admin/WEB-INF/tags/jms/\r\n",
      "apache-activemq-5.15.4/webapps/admin/decorators/\r\n",
      "apache-activemq-5.15.4/webapps/admin/images/\r\n",
      "apache-activemq-5.15.4/webapps/admin/js/\r\n",
      "apache-activemq-5.15.4/webapps/admin/js/mochi/\r\n",
      "apache-activemq-5.15.4/webapps/admin/js/plotkit/\r\n",
      "apache-activemq-5.15.4/webapps/admin/styles/\r\n",
      "apache-activemq-5.15.4/webapps/admin/test/\r\n",
      "apache-activemq-5.15.4/webapps/admin/xml/\r\n",
      "apache-activemq-5.15.4/webapps/admin/403.html\r\n",
      "apache-activemq-5.15.4/webapps/admin/404.html\r\n",
      "apache-activemq-5.15.4/webapps/admin/500.html\r\n",
      "apache-activemq-5.15.4/webapps/admin/META-INF/LICENSE\r\n",
      "apache-activemq-5.15.4/webapps/admin/META-INF/NOTICE\r\n",
      "apache-activemq-5.15.4/webapps/admin/WEB-INF/dispatcher-servlet.xml\r\n",
      "apache-activemq-5.15.4/webapps/admin/WEB-INF/jspf/headertags.jspf\r\n",
      "apache-activemq-5.15.4/webapps/admin/WEB-INF/tags/form/checkbox.tag\r\n",
      "apache-activemq-5.15.4/webapps/admin/WEB-INF/tags/form/escape.tag\r\n",
      "apache-activemq-5.15.4/webapps/admin/WEB-INF/tags/form/forEachMapEntry.tag\r\n",
      "apache-activemq-5.15.4/webapps/admin/WEB-INF/tags/form/option.tag\r\n",
      "apache-activemq-5.15.4/webapps/admin/WEB-INF/tags/form/short.tag\r\n",
      "apache-activemq-5.15.4/webapps/admin/WEB-INF/tags/form/text.tag\r\n",
      "apache-activemq-5.15.4/webapps/admin/WEB-INF/tags/form/tooltip.tag\r\n",
      "apache-activemq-5.15.4/webapps/admin/WEB-INF/tags/form/uri.tag\r\n",
      "apache-activemq-5.15.4/webapps/admin/WEB-INF/tags/jms/forEachConnection.tag\r\n",
      "apache-activemq-5.15.4/webapps/admin/WEB-INF/tags/jms/forEachMessage.tag\r\n",
      "apache-activemq-5.15.4/webapps/admin/WEB-INF/tags/jms/formatTimestamp.tag\r\n",
      "apache-activemq-5.15.4/webapps/admin/WEB-INF/tags/jms/persistent.tag\r\n",
      "apache-activemq-5.15.4/webapps/admin/WEB-INF/web.xml\r\n",
      "apache-activemq-5.15.4/webapps/admin/WEB-INF/webconsole-default.xml\r\n",
      "apache-activemq-5.15.4/webapps/admin/WEB-INF/webconsole-invm.xml\r\n",
      "apache-activemq-5.15.4/webapps/admin/WEB-INF/webconsole-jndi.xml\r\n",
      "apache-activemq-5.15.4/webapps/admin/WEB-INF/webconsole-osgi.xml\r\n",
      "apache-activemq-5.15.4/webapps/admin/WEB-INF/webconsole-properties.xml\r\n",
      "apache-activemq-5.15.4/webapps/admin/WEB-INF/webconsole-query.xml\r\n",
      "apache-activemq-5.15.4/webapps/admin/browse.jsp\r\n",
      "apache-activemq-5.15.4/webapps/admin/connection.jsp\r\n",
      "apache-activemq-5.15.4/webapps/admin/connections.jsp\r\n",
      "apache-activemq-5.15.4/webapps/admin/decorators/footer.jsp\r\n",
      "apache-activemq-5.15.4/webapps/admin/decorators/head.jsp\r\n",
      "apache-activemq-5.15.4/webapps/admin/decorators/header.jsp\r\n",
      "apache-activemq-5.15.4/webapps/admin/graph.jsp\r\n",
      "apache-activemq-5.15.4/webapps/admin/images/activemq-logo.png\r\n",
      "apache-activemq-5.15.4/webapps/admin/images/asf-logo.png\r\n",
      "apache-activemq-5.15.4/webapps/admin/images/big-bullet.png\r\n",
      "apache-activemq-5.15.4/webapps/admin/images/black-footer-bottom.png\r\n",
      "apache-activemq-5.15.4/webapps/admin/images/black-footer-left.png\r\n",
      "apache-activemq-5.15.4/webapps/admin/images/black-footer-right.png\r\n",
      "apache-activemq-5.15.4/webapps/admin/images/bottom-red-bar.png\r\n",
      "apache-activemq-5.15.4/webapps/admin/images/checker-bg.png\r\n",
      "apache-activemq-5.15.4/webapps/admin/images/content-left.png\r\n",
      "apache-activemq-5.15.4/webapps/admin/images/content-right.png\r\n",
      "apache-activemq-5.15.4/webapps/admin/images/feed_atom.png\r\n",
      "apache-activemq-5.15.4/webapps/admin/images/feed_rss.png\r\n",
      "apache-activemq-5.15.4/webapps/admin/images/left-box-bottom.png\r\n",
      "apache-activemq-5.15.4/webapps/admin/images/left-box-right.png\r\n",
      "apache-activemq-5.15.4/webapps/admin/images/left-box-top.png\r\n",
      "apache-activemq-5.15.4/webapps/admin/images/oval-arrow.png\r\n",
      "apache-activemq-5.15.4/webapps/admin/images/right-box-bottom.png\r\n",
      "apache-activemq-5.15.4/webapps/admin/images/right-box-left.png\r\n",
      "apache-activemq-5.15.4/webapps/admin/images/right-box-top.png\r\n",
      "apache-activemq-5.15.4/webapps/admin/images/small-bullet-gray.png\r\n",
      "apache-activemq-5.15.4/webapps/admin/images/small-bullet-red.png\r\n",
      "apache-activemq-5.15.4/webapps/admin/images/spacer.gif\r\n",
      "apache-activemq-5.15.4/webapps/admin/images/top-red-bar.png\r\n",
      "apache-activemq-5.15.4/webapps/admin/images/white-header-left.png\r\n",
      "apache-activemq-5.15.4/webapps/admin/images/white-header-right.png\r\n",
      "apache-activemq-5.15.4/webapps/admin/images/white-header-top.png\r\n",
      "apache-activemq-5.15.4/webapps/admin/index.jsp\r\n",
      "apache-activemq-5.15.4/webapps/admin/js/common.js\r\n",
      "apache-activemq-5.15.4/webapps/admin/js/css.js\r\n",
      "apache-activemq-5.15.4/webapps/admin/js/mochi/MochiKit.js\r\n",
      "apache-activemq-5.15.4/webapps/admin/js/mochi/__package__.js\r\n",
      "apache-activemq-5.15.4/webapps/admin/js/plotkit/Base.js\r\n",
      "apache-activemq-5.15.4/webapps/admin/js/plotkit/Canvas.js\r\n",
      "apache-activemq-5.15.4/webapps/admin/js/plotkit/Layout.js\r\n",
      "apache-activemq-5.15.4/webapps/admin/js/plotkit/SVG.js\r\n",
      "apache-activemq-5.15.4/webapps/admin/js/plotkit/SweetCanvas.js\r\n",
      "apache-activemq-5.15.4/webapps/admin/js/plotkit/SweetSVG.js\r\n",
      "apache-activemq-5.15.4/webapps/admin/js/plotkit/dummy.svg\r\n",
      "apache-activemq-5.15.4/webapps/admin/js/plotkit/iecanvas.htc\r\n",
      "apache-activemq-5.15.4/webapps/admin/js/prettify.js\r\n",
      "apache-activemq-5.15.4/webapps/admin/js/standardista-table-sorting.js\r\n",
      "apache-activemq-5.15.4/webapps/admin/login.html\r\n",
      "apache-activemq-5.15.4/webapps/admin/message.jsp\r\n",
      "apache-activemq-5.15.4/webapps/admin/network.jsp\r\n",
      "apache-activemq-5.15.4/webapps/admin/queueConsumers.jsp\r\n",
      "apache-activemq-5.15.4/webapps/admin/queueGraph.jsp\r\n",
      "apache-activemq-5.15.4/webapps/admin/queueProducers.jsp\r\n",
      "apache-activemq-5.15.4/webapps/admin/queues.jsp\r\n",
      "apache-activemq-5.15.4/webapps/admin/scheduled.jsp\r\n",
      "apache-activemq-5.15.4/webapps/admin/send.jsp\r\n",
      "apache-activemq-5.15.4/webapps/admin/slave.jsp\r\n",
      "apache-activemq-5.15.4/webapps/admin/styles/prettify.css\r\n",
      "apache-activemq-5.15.4/webapps/admin/styles/site.css\r\n",
      "apache-activemq-5.15.4/webapps/admin/styles/sorttable.css\r\n",
      "apache-activemq-5.15.4/webapps/admin/styles/type-settings.css\r\n",
      "apache-activemq-5.15.4/webapps/admin/subscribers.jsp\r\n",
      "apache-activemq-5.15.4/webapps/admin/test/dummy.jsp\r\n",
      "apache-activemq-5.15.4/webapps/admin/test/index.jsp\r\n",
      "apache-activemq-5.15.4/webapps/admin/test/systemProperties.jsp\r\n",
      "apache-activemq-5.15.4/webapps/admin/topicProducers.jsp\r\n",
      "apache-activemq-5.15.4/webapps/admin/topicSubscribers.jsp\r\n",
      "apache-activemq-5.15.4/webapps/admin/topics.jsp\r\n",
      "apache-activemq-5.15.4/webapps/admin/xml/queues.jsp\r\n",
      "apache-activemq-5.15.4/webapps/admin/xml/subscribers.jsp\r\n",
      "apache-activemq-5.15.4/webapps/admin/xml/topics.jsp\r\n",
      "apache-activemq-5.15.4/webapps/admin/WEB-INF/classes/org/apache/activemq/web/controller/CreateDestination.class\r\n",
      "apache-activemq-5.15.4/webapps/admin/WEB-INF/classes/org/apache/activemq/web/controller/CreateSubscriber.class\r\n",
      "apache-activemq-5.15.4/webapps/admin/WEB-INF/classes/org/apache/activemq/web/controller/DeleteSubscriber.class\r\n",
      "apache-activemq-5.15.4/webapps/admin/WEB-INF/classes/org/apache/activemq/web/controller/MoveMessage.class\r\n",
      "apache-activemq-5.15.4/webapps/admin/WEB-INF/classes/org/apache/activemq/web/controller/DeleteJob.class\r\n"
     ]
    },
    {
     "name": "stdout",
     "output_type": "stream",
     "text": [
      "apache-activemq-5.15.4/webapps/admin/WEB-INF/classes/org/apache/activemq/web/controller/CopyMessage.class\n",
      "apache-activemq-5.15.4/webapps/admin/WEB-INF/classes/org/apache/activemq/web/controller/DeleteMessage.class\n",
      "apache-activemq-5.15.4/webapps/admin/WEB-INF/classes/org/apache/activemq/web/controller/RetryMessage.class\n",
      "apache-activemq-5.15.4/webapps/admin/WEB-INF/classes/org/apache/activemq/web/controller/SendMessage.class\n",
      "apache-activemq-5.15.4/webapps/admin/WEB-INF/classes/org/apache/activemq/web/controller/DeleteDestination.class\n",
      "apache-activemq-5.15.4/webapps/admin/WEB-INF/classes/org/apache/activemq/web/controller/PurgeDestination.class\n",
      "apache-activemq-5.15.4/webapps/admin/WEB-INF/classes/org/apache/activemq/web/handler/BindingBeanNameUrlHandlerMapping.class\n",
      "apache-activemq-5.15.4/webapps/admin/WEB-INF/classes/org/apache/activemq/web/WebConsoleStarter$OsgiUtil.class\n",
      "apache-activemq-5.15.4/webapps/admin/WEB-INF/classes/org/apache/activemq/web/WebConsoleStarter.class\n",
      "apache-activemq-5.15.4/webapps/admin/WEB-INF/classes/org/apache/activemq/web/filter/ApplicationContextFilter$1.class\n",
      "apache-activemq-5.15.4/webapps/admin/WEB-INF/classes/org/apache/activemq/web/filter/ApplicationContextFilter$2.class\n",
      "apache-activemq-5.15.4/webapps/admin/WEB-INF/classes/org/apache/activemq/web/filter/ApplicationContextFilter.class\n",
      "apache-activemq-5.15.4/webapps/admin/WEB-INF/classes/org/apache/activemq/web/config/OsgiConfiguration.class\n",
      "apache-activemq-5.15.4/webapps-demo/demo/\n",
      "apache-activemq-5.15.4/webapps-demo/demo/META-INF/\n",
      "apache-activemq-5.15.4/webapps-demo/demo/WEB-INF/\n",
      "apache-activemq-5.15.4/webapps-demo/demo/js/\n",
      "apache-activemq-5.15.4/webapps-demo/demo/mqtt/\n",
      "apache-activemq-5.15.4/webapps-demo/demo/portfolio/\n",
      "apache-activemq-5.15.4/webapps-demo/demo/test/\n",
      "apache-activemq-5.15.4/webapps-demo/demo/test/assets/\n",
      "apache-activemq-5.15.4/webapps-demo/demo/websocket/\n",
      "apache-activemq-5.15.4/webapps-demo/demo/META-INF/LICENSE\n",
      "apache-activemq-5.15.4/webapps-demo/demo/META-INF/NOTICE\n",
      "apache-activemq-5.15.4/webapps-demo/demo/WEB-INF/web.xml\n",
      "apache-activemq-5.15.4/webapps-demo/demo/chat.css\n",
      "apache-activemq-5.15.4/webapps-demo/demo/chat.html\n",
      "apache-activemq-5.15.4/webapps-demo/demo/index.html\n",
      "apache-activemq-5.15.4/webapps-demo/demo/js/amq.js\n",
      "apache-activemq-5.15.4/webapps-demo/demo/js/amq_dojo_adapter.js\n",
      "apache-activemq-5.15.4/webapps-demo/demo/js/amq_jquery_adapter.js\n",
      "apache-activemq-5.15.4/webapps-demo/demo/js/amq_prototype_adapter.js\n",
      "apache-activemq-5.15.4/webapps-demo/demo/js/chat.js\n",
      "apache-activemq-5.15.4/webapps-demo/demo/js/dojo.js\n",
      "apache-activemq-5.15.4/webapps-demo/demo/js/jquery-1.4.2.min.js\n",
      "apache-activemq-5.15.4/webapps-demo/demo/js/prototype.js\n",
      "apache-activemq-5.15.4/webapps-demo/demo/mqtt/chat.css\n",
      "apache-activemq-5.15.4/webapps-demo/demo/mqtt/chat.js\n",
      "apache-activemq-5.15.4/webapps-demo/demo/mqtt/index.html\n",
      "apache-activemq-5.15.4/webapps-demo/demo/mqtt/mqttws31.js\n",
      "apache-activemq-5.15.4/webapps-demo/demo/portfolio/portfolio.html\n",
      "apache-activemq-5.15.4/webapps-demo/demo/portfolio/portfolio.js\n",
      "apache-activemq-5.15.4/webapps-demo/demo/send.html\n",
      "apache-activemq-5.15.4/webapps-demo/demo/style.css\n",
      "apache-activemq-5.15.4/webapps-demo/demo/test/amq_test.html\n",
      "apache-activemq-5.15.4/webapps-demo/demo/test/assets/README\n",
      "apache-activemq-5.15.4/webapps-demo/demo/test/assets/jsunittest.js\n",
      "apache-activemq-5.15.4/webapps-demo/demo/test/assets/unittest.css\n",
      "apache-activemq-5.15.4/webapps-demo/demo/websocket/chat.css\n",
      "apache-activemq-5.15.4/webapps-demo/demo/websocket/chat.js\n",
      "apache-activemq-5.15.4/webapps-demo/demo/websocket/index.html\n",
      "apache-activemq-5.15.4/webapps-demo/demo/websocket/stomp.js\n",
      "apache-activemq-5.15.4/webapps-demo/demo/styles/\n",
      "apache-activemq-5.15.4/webapps-demo/demo/styles/prettify.css\n",
      "apache-activemq-5.15.4/webapps-demo/demo/styles/site.css\n",
      "apache-activemq-5.15.4/webapps-demo/demo/styles/sorttable.css\n",
      "apache-activemq-5.15.4/webapps-demo/demo/styles/type-settings.css\n",
      "apache-activemq-5.15.4/webapps-demo/demo/images/\n",
      "apache-activemq-5.15.4/webapps-demo/demo/images/activemq-logo.png\n",
      "apache-activemq-5.15.4/webapps-demo/demo/images/asf-logo.png\n",
      "apache-activemq-5.15.4/webapps-demo/demo/images/big-bullet.png\n",
      "apache-activemq-5.15.4/webapps-demo/demo/images/black-footer-bottom.png\n",
      "apache-activemq-5.15.4/webapps-demo/demo/images/black-footer-left.png\n",
      "apache-activemq-5.15.4/webapps-demo/demo/images/black-footer-right.png\n",
      "apache-activemq-5.15.4/webapps-demo/demo/images/bottom-red-bar.png\n",
      "apache-activemq-5.15.4/webapps-demo/demo/images/checker-bg.png\n",
      "apache-activemq-5.15.4/webapps-demo/demo/images/content-left.png\n",
      "apache-activemq-5.15.4/webapps-demo/demo/images/content-right.png\n",
      "apache-activemq-5.15.4/webapps-demo/demo/images/feed_atom.png\n",
      "apache-activemq-5.15.4/webapps-demo/demo/images/feed_rss.png\n",
      "apache-activemq-5.15.4/webapps-demo/demo/images/left-box-bottom.png\n",
      "apache-activemq-5.15.4/webapps-demo/demo/images/left-box-right.png\n",
      "apache-activemq-5.15.4/webapps-demo/demo/images/left-box-top.png\n",
      "apache-activemq-5.15.4/webapps-demo/demo/images/oval-arrow.png\n",
      "apache-activemq-5.15.4/webapps-demo/demo/images/right-box-bottom.png\n",
      "apache-activemq-5.15.4/webapps-demo/demo/images/right-box-left.png\n",
      "apache-activemq-5.15.4/webapps-demo/demo/images/right-box-top.png\n",
      "apache-activemq-5.15.4/webapps-demo/demo/images/small-bullet-gray.png\n",
      "apache-activemq-5.15.4/webapps-demo/demo/images/small-bullet-red.png\n",
      "apache-activemq-5.15.4/webapps-demo/demo/images/spacer.gif\n",
      "apache-activemq-5.15.4/webapps-demo/demo/images/top-red-bar.png\n",
      "apache-activemq-5.15.4/webapps-demo/demo/images/white-header-left.png\n",
      "apache-activemq-5.15.4/webapps-demo/demo/images/white-header-right.png\n",
      "apache-activemq-5.15.4/webapps-demo/demo/images/white-header-top.png\n",
      "apache-activemq-5.15.4/webapps-demo/demo/js/\n",
      "apache-activemq-5.15.4/webapps-demo/demo/js/mochi/\n",
      "apache-activemq-5.15.4/webapps-demo/demo/js/plotkit/\n",
      "apache-activemq-5.15.4/webapps-demo/demo/js/common.js\n",
      "apache-activemq-5.15.4/webapps-demo/demo/js/css.js\n",
      "apache-activemq-5.15.4/webapps-demo/demo/js/mochi/MochiKit.js\n",
      "apache-activemq-5.15.4/webapps-demo/demo/js/mochi/__package__.js\n",
      "apache-activemq-5.15.4/webapps-demo/demo/js/plotkit/Base.js\n",
      "apache-activemq-5.15.4/webapps-demo/demo/js/plotkit/Canvas.js\n",
      "apache-activemq-5.15.4/webapps-demo/demo/js/plotkit/Layout.js\n",
      "apache-activemq-5.15.4/webapps-demo/demo/js/plotkit/SVG.js\n",
      "apache-activemq-5.15.4/webapps-demo/demo/js/plotkit/SweetCanvas.js\n",
      "apache-activemq-5.15.4/webapps-demo/demo/js/plotkit/SweetSVG.js\n",
      "apache-activemq-5.15.4/webapps-demo/demo/js/plotkit/dummy.svg\n",
      "apache-activemq-5.15.4/webapps-demo/demo/js/plotkit/iecanvas.htc\n",
      "apache-activemq-5.15.4/webapps-demo/demo/js/prettify.js\n",
      "apache-activemq-5.15.4/webapps-demo/demo/js/standardista-table-sorting.js\n",
      "apache-activemq-5.15.4/bin/activemq.jar\n",
      "apache-activemq-5.15.4/activemq-all-5.15.4.jar\n",
      "apache-activemq-5.15.4/lib/slf4j-api-1.7.25.jar\n",
      "apache-activemq-5.15.4/lib/activemq-spring-5.15.4.jar\n",
      "apache-activemq-5.15.4/lib/activemq-broker-5.15.4.jar\n",
      "apache-activemq-5.15.4/lib/activemq-client-5.15.4.jar\n",
      "apache-activemq-5.15.4/lib/geronimo-jms_1.1_spec-1.1.1.jar\n",
      "apache-activemq-5.15.4/lib/hawtbuf-1.11.jar\n",
      "apache-activemq-5.15.4/lib/geronimo-j2ee-management_1.1_spec-1.0.1.jar\n",
      "apache-activemq-5.15.4/lib/activemq-openwire-legacy-5.15.4.jar\n",
      "apache-activemq-5.15.4/lib/geronimo-jta_1.0.1B_spec-1.0.1.jar\n",
      "apache-activemq-5.15.4/lib/activemq-kahadb-store-5.15.4.jar\n",
      "apache-activemq-5.15.4/lib/activemq-protobuf-1.1.jar\n",
      "apache-activemq-5.15.4/lib/activemq-console-5.15.4.jar\n",
      "apache-activemq-5.15.4/lib/activemq-jaas-5.15.4.jar\n",
      "apache-activemq-5.15.4/lib/activemq-web-5.15.4.jar\n",
      "apache-activemq-5.15.4/lib/jcl-over-slf4j-1.7.25.jar\n",
      "apache-activemq-5.15.4/lib/camel/activemq-camel-5.15.4.jar\n",
      "apache-activemq-5.15.4/lib/camel/camel-jms-2.19.5.jar\n",
      "apache-activemq-5.15.4/lib/camel/camel-core-2.19.5.jar\n",
      "apache-activemq-5.15.4/lib/camel/camel-spring-2.19.5.jar\n",
      "apache-activemq-5.15.4/lib/optional/spring-core-4.3.17.RELEASE.jar\n",
      "apache-activemq-5.15.4/lib/optional/spring-aop-4.3.17.RELEASE.jar\n",
      "apache-activemq-5.15.4/lib/optional/spring-beans-4.3.17.RELEASE.jar\n",
      "apache-activemq-5.15.4/lib/optional/spring-context-4.3.17.RELEASE.jar\n",
      "apache-activemq-5.15.4/lib/optional/spring-expression-4.3.11.RELEASE.jar\n",
      "apache-activemq-5.15.4/lib/optional/spring-tx-4.3.17.RELEASE.jar\n",
      "apache-activemq-5.15.4/lib/optional/spring-jms-4.3.17.RELEASE.jar\n",
      "apache-activemq-5.15.4/lib/optional/xbean-spring-4.2.jar\n",
      "apache-activemq-5.15.4/lib/optional/guava-18.0.jar\n",
      "apache-activemq-5.15.4/lib/optional/jackson-databind-2.9.4.jar\n"
     ]
    },
    {
     "name": "stdout",
     "output_type": "stream",
     "text": [
      "apache-activemq-5.15.4/lib/optional/jackson-annotations-2.9.4.jar\n",
      "apache-activemq-5.15.4/lib/optional/jackson-core-2.9.4.jar\n",
      "apache-activemq-5.15.4/lib/optional/activemq-pool-5.15.4.jar\n",
      "apache-activemq-5.15.4/lib/optional/activemq-jms-pool-5.15.4.jar\n",
      "apache-activemq-5.15.4/lib/optional/commons-pool2-2.4.2.jar\n",
      "apache-activemq-5.15.4/lib/optional/activeio-core-3.1.4.jar\n",
      "apache-activemq-5.15.4/lib/optional/activemq-jdbc-store-5.15.4.jar\n",
      "apache-activemq-5.15.4/lib/optional/commons-net-3.6.jar\n",
      "apache-activemq-5.15.4/lib/optional/activemq-leveldb-store-5.15.4.jar\n",
      "apache-activemq-5.15.4/lib/optional/scala-library-2.11.0.jar\n",
      "apache-activemq-5.15.4/lib/optional/hawtbuf-proto-1.11.jar\n",
      "apache-activemq-5.15.4/lib/optional/hawtdispatch-scala-2.11-1.22.jar\n",
      "apache-activemq-5.15.4/lib/optional/hawtdispatch-1.22.jar\n",
      "apache-activemq-5.15.4/lib/optional/leveldb-api-0.9.jar\n",
      "apache-activemq-5.15.4/lib/optional/leveldb-0.9.jar\n",
      "apache-activemq-5.15.4/lib/optional/leveldbjni-1.8.jar\n",
      "apache-activemq-5.15.4/lib/optional/hawtjni-runtime-1.9.jar\n",
      "apache-activemq-5.15.4/lib/optional/snappy-java-1.1.2.jar\n",
      "apache-activemq-5.15.4/lib/optional/snappy-0.2.jar\n",
      "apache-activemq-5.15.4/lib/optional/commons-collections-3.2.2.jar\n",
      "apache-activemq-5.15.4/lib/optional/commons-lang-2.6.jar\n",
      "apache-activemq-5.15.4/lib/optional/commons-beanutils-1.9.3.jar\n",
      "apache-activemq-5.15.4/lib/optional/velocity-1.7.jar\n",
      "apache-activemq-5.15.4/lib/optional/org.apache.servicemix.bundles.josql-1.5_5.jar\n",
      "apache-activemq-5.15.4/lib/optional/jasypt-1.9.2.jar\n",
      "apache-activemq-5.15.4/lib/optional/activemq-mqtt-5.15.4.jar\n",
      "apache-activemq-5.15.4/lib/optional/hawtdispatch-transport-1.22.jar\n",
      "apache-activemq-5.15.4/lib/optional/activemq-stomp-5.15.4.jar\n",
      "apache-activemq-5.15.4/lib/optional/activemq-partition-5.15.4.jar\n",
      "apache-activemq-5.15.4/lib/optional/org.linkedin.zookeeper-impl-1.4.0.jar\n",
      "apache-activemq-5.15.4/lib/optional/zookeeper-3.4.6.jar\n",
      "apache-activemq-5.15.4/lib/optional/log4j-1.2.17.jar\n",
      "apache-activemq-5.15.4/lib/optional/org.linkedin.util-core-1.4.0.jar\n",
      "apache-activemq-5.15.4/lib/optional/slf4j-log4j12-1.7.25.jar\n",
      "apache-activemq-5.15.4/lib/optional/activemq-runtime-config-5.15.4.jar\n",
      "apache-activemq-5.15.4/lib/optional/jaxb2-basics-runtime-0.6.4.jar\n",
      "apache-activemq-5.15.4/lib/optional/activemq-amqp-5.15.4.jar\n",
      "apache-activemq-5.15.4/lib/optional/proton-j-0.27.1.jar\n",
      "apache-activemq-5.15.4/lib/optional/activemq-log4j-appender-5.15.4.jar\n",
      "apache-activemq-5.15.4/lib/optional/activemq-http-5.15.4.jar\n",
      "apache-activemq-5.15.4/lib/optional/httpclient-4.5.3.jar\n",
      "apache-activemq-5.15.4/lib/optional/httpcore-4.4.6.jar\n",
      "apache-activemq-5.15.4/lib/optional/commons-codec-1.9.jar\n",
      "apache-activemq-5.15.4/lib/optional/xstream-1.4.10.jar\n",
      "apache-activemq-5.15.4/lib/optional/xpp3-1.1.4c.jar\n",
      "apache-activemq-5.15.4/lib/optional/activemq-shiro-5.15.4.jar\n",
      "apache-activemq-5.15.4/lib/optional/shiro-core-1.2.4.jar\n",
      "apache-activemq-5.15.4/lib/optional/shiro-spring-1.2.4.jar\n",
      "apache-activemq-5.15.4/lib/optional/commons-dbcp2-2.1.1.jar\n",
      "apache-activemq-5.15.4/lib/optional/jmdns-3.4.1.jar\n",
      "apache-activemq-5.15.4/lib/optional/geronimo-j2ee-connector_1.5_spec-2.0.0.jar\n",
      "apache-activemq-5.15.4/lib/optional/spring-oxm-4.3.17.RELEASE.jar\n",
      "apache-activemq-5.15.4/lib/optional/jettison-1.3.8.jar\n",
      "apache-activemq-5.15.4/lib/optional/jasypt-spring31-1.9.2.jar\n",
      "apache-activemq-5.15.4/lib/optional/insight-log-core-1.2.0.Beta4.jar\n",
      "apache-activemq-5.15.4/lib/optional/insight-log4j-1.2.0.Beta4.jar\n",
      "apache-activemq-5.15.4/lib/extra/mqtt-client-1.14.jar\n",
      "apache-activemq-5.15.4/lib/web/jetty-all-9.2.22.v20170606.jar\n",
      "apache-activemq-5.15.4/lib/web/rome-1.0.jar\n",
      "apache-activemq-5.15.4/lib/web/jdom-1.0.jar\n",
      "apache-activemq-5.15.4/lib/web/spring-webmvc-4.3.17.RELEASE.jar\n",
      "apache-activemq-5.15.4/lib/web/spring-web-4.3.17.RELEASE.jar\n",
      "apache-activemq-5.15.4/lib/web/tomcat-servlet-api-8.0.24.jar\n",
      "apache-activemq-5.15.4/lib/web/tomcat-websocket-api-8.0.24.jar\n",
      "apache-activemq-5.15.4/lib/web/geronimo-annotation_1.0_spec-1.1.1.jar\n",
      "apache-activemq-5.15.4/lib/web/asm-5.0.4.jar\n",
      "apache-activemq-5.15.4/lib/web/apache-jsp-9.2.22.v20170606.jar\n",
      "apache-activemq-5.15.4/lib/web/apache-jsp-8.0.33.jar\n",
      "apache-activemq-5.15.4/lib/web/apache-el-8.0.33.jar\n",
      "apache-activemq-5.15.4/lib/web/org.eclipse.jdt.core-3.8.2.v20130121.jar\n",
      "apache-activemq-5.15.4/lib/web/apache-jstl-9.2.22.v20170606.jar\n",
      "apache-activemq-5.15.4/lib/web/taglibs-standard-spec-1.2.5.jar\n",
      "apache-activemq-5.15.4/lib/web/taglibs-standard-impl-1.2.5.jar\n",
      "apache-activemq-5.15.4/lib/web/jolokia-core-1.5.0.jar\n",
      "apache-activemq-5.15.4/lib/web/json-simple-1.1.1.jar\n"
     ]
    }
   ],
   "source": [
    "!tar xzvf apache-activemq-5.15.4-bin.tar.gz -C /opt"
   ]
  },
  {
   "cell_type": "code",
   "execution_count": 60,
   "metadata": {
    "ExecuteTime": {
     "end_time": "2018-07-13T19:58:03.058854Z",
     "start_time": "2018-07-13T19:58:02.903526Z"
    }
   },
   "outputs": [
    {
     "name": "stdout",
     "output_type": "stream",
     "text": [
      "anaconda  apache-activemq-5.15.4  ibm  zookeeper\r\n"
     ]
    }
   ],
   "source": [
    "!ls /opt/"
   ]
  },
  {
   "cell_type": "code",
   "execution_count": 61,
   "metadata": {
    "ExecuteTime": {
     "end_time": "2018-07-13T19:58:28.002464Z",
     "start_time": "2018-07-13T19:58:27.839157Z"
    }
   },
   "outputs": [
    {
     "name": "stdout",
     "output_type": "stream",
     "text": [
      "/opt ~\r\n",
      "~\r\n"
     ]
    }
   ],
   "source": [
    "!pushd /opt/; mv apache-activemq-5.15.4 .apache-activemq-5.15.4 ; ln -s .apache-activemq-5.15.4 activemq; popd"
   ]
  },
  {
   "cell_type": "code",
   "execution_count": 62,
   "metadata": {
    "ExecuteTime": {
     "end_time": "2018-07-13T19:58:56.385292Z",
     "start_time": "2018-07-13T19:58:56.216098Z"
    }
   },
   "outputs": [],
   "source": [
    "!rm /root/apache-activemq-5.15.4-bin.tar.gz"
   ]
  },
  {
   "cell_type": "code",
   "execution_count": 63,
   "metadata": {
    "ExecuteTime": {
     "end_time": "2018-07-13T20:00:16.020456Z",
     "start_time": "2018-07-13T20:00:15.868625Z"
    }
   },
   "outputs": [],
   "source": [
    "!printf \\\n",
    "\"[Unit]\\n\\\n",
    "Description=activemq message queue\\n\\\n",
    "After=network.target\\n\\\n",
    "\\n\\\n",
    "[Service]\\n\\\n",
    "PIDFile=/opt/activemq/data/activemq.pid\\n\\\n",
    "ExecStart=/opt/activemq/bin/activemq start\\n\\\n",
    "ExecStop=/opt/activemq/bin/activemq stop\\n\\\n",
    "User=root\\n\\\n",
    "Group=root\\n\\\n",
    "\\n\\\n",
    "[Install]\\n\\\n",
    "WantedBy=multi-user.target\\n\\\n",
    "\\n\"\\\n",
    "> /usr/lib/systemd/system/activemq.service"
   ]
  },
  {
   "cell_type": "code",
   "execution_count": 64,
   "metadata": {
    "ExecuteTime": {
     "end_time": "2018-07-13T20:00:32.427009Z",
     "start_time": "2018-07-13T20:00:32.266611Z"
    }
   },
   "outputs": [
    {
     "name": "stdout",
     "output_type": "stream",
     "text": [
      "[Unit]\r\n",
      "Description=activemq message queue\r\n",
      "After=network.target\r\n",
      "\r\n",
      "[Service]\r\n",
      "PIDFile=/opt/activemq/data/activemq.pid\r\n",
      "ExecStart=/opt/activemq/bin/activemq start\r\n",
      "ExecStop=/opt/activemq/bin/activemq stop\r\n",
      "User=root\r\n",
      "Group=root\r\n",
      "\r\n",
      "[Install]\r\n",
      "WantedBy=multi-user.target\r\n",
      "\r\n"
     ]
    }
   ],
   "source": [
    "!cat /usr/lib/systemd/system/activemq.service"
   ]
  },
  {
   "cell_type": "code",
   "execution_count": 65,
   "metadata": {
    "ExecuteTime": {
     "end_time": "2018-07-13T20:00:50.747847Z",
     "start_time": "2018-07-13T20:00:50.513470Z"
    }
   },
   "outputs": [
    {
     "name": "stdout",
     "output_type": "stream",
     "text": [
      "Created symlink from /etc/systemd/system/multi-user.target.wants/activemq.service to /usr/lib/systemd/system/activemq.service.\r\n"
     ]
    }
   ],
   "source": [
    "!systemctl enable activemq"
   ]
  },
  {
   "cell_type": "code",
   "execution_count": 66,
   "metadata": {
    "ExecuteTime": {
     "end_time": "2018-07-13T20:00:57.834560Z",
     "start_time": "2018-07-13T20:00:57.656341Z"
    }
   },
   "outputs": [],
   "source": [
    "!systemctl start activemq"
   ]
  },
  {
   "cell_type": "markdown",
   "metadata": {},
   "source": [
    "http://rta.vion.local:8161/admin "
   ]
  },
  {
   "cell_type": "markdown",
   "metadata": {},
   "source": [
    "~ snapshot ~"
   ]
  },
  {
   "cell_type": "code",
   "execution_count": null,
   "metadata": {},
   "outputs": [],
   "source": []
  }
 ],
 "metadata": {
  "kernelspec": {
   "display_name": "Python 3",
   "language": "python",
   "name": "python3"
  },
  "language_info": {
   "codemirror_mode": {
    "name": "ipython",
    "version": 3
   },
   "file_extension": ".py",
   "mimetype": "text/x-python",
   "name": "python",
   "nbconvert_exporter": "python",
   "pygments_lexer": "ipython3",
   "version": "3.6.5"
  },
  "toc": {
   "base_numbering": 1,
   "nav_menu": {
    "height": "251px",
    "width": "246px"
   },
   "number_sections": false,
   "sideBar": true,
   "skip_h1_title": false,
   "title_cell": "Table of Contents",
   "title_sidebar": "Contents",
   "toc_cell": true,
   "toc_position": {
    "height": "calc(100% - 180px)",
    "left": "10px",
    "top": "150px",
    "width": "168px"
   },
   "toc_section_display": true,
   "toc_window_display": true
  }
 },
 "nbformat": 4,
 "nbformat_minor": 2
}
