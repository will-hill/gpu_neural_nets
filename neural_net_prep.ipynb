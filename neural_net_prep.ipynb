{
 "cells": [
  {
   "cell_type": "markdown",
   "metadata": {},
   "source": [
    "# pre notebook\n",
    "* fix IP \n",
    "* fix hostname\n",
    "* cp notebook"
   ]
  },
  {
   "cell_type": "markdown",
   "metadata": {},
   "source": [
    "### ~ snapshot ~"
   ]
  },
  {
   "cell_type": "markdown",
   "metadata": {},
   "source": [
    "# prepare OS"
   ]
  },
  {
   "cell_type": "code",
   "execution_count": null,
   "metadata": {},
   "outputs": [],
   "source": [
    "!ls  "
   ]
  },
  {
   "cell_type": "code",
   "execution_count": null,
   "metadata": {},
   "outputs": [],
   "source": [
    "!uname -a"
   ]
  },
  {
   "cell_type": "code",
   "execution_count": null,
   "metadata": {},
   "outputs": [],
   "source": [
    "!cat /etc/redhat-release"
   ]
  },
  {
   "cell_type": "code",
   "execution_count": null,
   "metadata": {},
   "outputs": [],
   "source": [
    "!yum -y install epel-release"
   ]
  },
  {
   "cell_type": "code",
   "execution_count": null,
   "metadata": {},
   "outputs": [],
   "source": [
    "!yum list installed | grep -i 'java\\|jdk' "
   ]
  },
  {
   "cell_type": "code",
   "execution_count": null,
   "metadata": {},
   "outputs": [],
   "source": [
    "!yum -y install jdk-8u171-linux-x64.rpm"
   ]
  },
  {
   "cell_type": "code",
   "execution_count": null,
   "metadata": {},
   "outputs": [],
   "source": [
    "!yum -y update"
   ]
  },
  {
   "cell_type": "markdown",
   "metadata": {},
   "source": [
    "### ~ snapshot ~"
   ]
  },
  {
   "cell_type": "markdown",
   "metadata": {},
   "source": [
    "# Zookeeper"
   ]
  },
  {
   "cell_type": "code",
   "execution_count": null,
   "metadata": {},
   "outputs": [],
   "source": [
    "!useradd -G wheel zookeeper"
   ]
  },
  {
   "cell_type": "code",
   "execution_count": null,
   "metadata": {},
   "outputs": [],
   "source": [
    "!mkdir ~zookeeper/.ssh ; cp ~/.ssh/authorized_keys ~zookeeper/.ssh "
   ]
  },
  {
   "cell_type": "code",
   "execution_count": null,
   "metadata": {},
   "outputs": [],
   "source": [
    "!wget http://mirror.cc.columbia.edu/pub/software/apache/zookeeper/stable/zookeeper-3.4.12.tar.gz"
   ]
  },
  {
   "cell_type": "code",
   "execution_count": null,
   "metadata": {},
   "outputs": [],
   "source": [
    "!tar xf zookeeper-3.4.12.tar.gz -C /opt"
   ]
  },
  {
   "cell_type": "code",
   "execution_count": null,
   "metadata": {},
   "outputs": [],
   "source": [
    "!mv /opt/zookeeper-3.4.12 /opt/.zookeeper-3.4.12"
   ]
  },
  {
   "cell_type": "code",
   "execution_count": null,
   "metadata": {},
   "outputs": [],
   "source": [
    "!ln -s /opt/.zookeeper-3.4.12 /opt/zookeeper"
   ]
  },
  {
   "cell_type": "code",
   "execution_count": null,
   "metadata": {},
   "outputs": [],
   "source": [
    "!mkdir -p /var/lib/zookeeper"
   ]
  },
  {
   "cell_type": "code",
   "execution_count": null,
   "metadata": {},
   "outputs": [],
   "source": [
    "!printf \"tickTime=2000\\ndataDir=/var/lib/zookeeper\\nclientPort=2181\\n\" > /opt/zookeeper/conf/zoo.cfg"
   ]
  },
  {
   "cell_type": "code",
   "execution_count": null,
   "metadata": {},
   "outputs": [],
   "source": [
    "!chown -R zookeeper:zookeeper /opt/.zookeeper-3.4.12 /opt/zookeeper /var/lib/zookeeper ~zookeeper"
   ]
  },
  {
   "cell_type": "markdown",
   "metadata": {},
   "source": [
    "### create zookeeper service\n",
    "###### vi /usr/lib/systemd/system/zookeeper.service\n",
    "[Unit] <br/>\n",
    "Description=Zookeeper <br/>\n",
    "After=syslog.target <br/>\n",
    "Documentation=https://zookeeper.apache.org <br/>\n",
    "Requires=network.target remote-fs.target syslog.target <br/>\n",
    "After=network.target remote-fs.target syslog.target <br/>\n",
    "ConditionPathExists=/etc/zookeeper/zoo.cfg <br/>\n",
    "<br/>\n",
    "[Service] <br/>\n",
    "Type=forking <br/>\n",
    "User=zookeeper <br/>\n",
    "Group=zookeeper <br/>\n",
    "SyslogIdentifier=zookeeper <br/>\n",
    "TimeoutStartSec=10min <br/>\n",
    "ExecStart=/opt/zookeeper/bin/zkServer.sh start /etc/zookeeper/zoo.cfg <br/>\n",
    "ExecStop=/opt/zookeeper/bin/zkServer.sh stop /etc/zookeeper/zoo.cfg <br/>\n",
    "ExecReload=/usr/bin/zookeeper-server restart /etc/zookeeper/zoo.cfg <br/>\n",
    "SyslogIdentifier=zookeeper <br/>\n",
    "Restart=always <br/>\n",
    "RestartSec=0s <br/>\n",
    " <br/>\n",
    "[Install] <br/>\n",
    "WantedBy=multi-user.target <br/>"
   ]
  },
  {
   "cell_type": "code",
   "execution_count": null,
   "metadata": {},
   "outputs": [],
   "source": [
    "!systemctl enable zookeeper"
   ]
  },
  {
   "cell_type": "code",
   "execution_count": null,
   "metadata": {},
   "outputs": [],
   "source": [
    "!systemctl start zookeeper"
   ]
  },
  {
   "cell_type": "code",
   "execution_count": null,
   "metadata": {},
   "outputs": [],
   "source": [
    "\n",
    "systemctl start zookeeper\n",
    "# test\n",
    "systemctl status zookeeper\n",
    "/opt/zookeeper/bin/zkCli.sh -server 127.0.0.1:2181\n",
    "# ctrl + d to quit\n",
    "rm -rf ~/zookeeper-3.4.11.tar.gz\n"
   ]
  },
  {
   "cell_type": "markdown",
   "metadata": {},
   "source": [
    "# IBM Streams"
   ]
  },
  {
   "cell_type": "code",
   "execution_count": null,
   "metadata": {},
   "outputs": [],
   "source": [
    "!useradd -G wheel streamsadmin "
   ]
  },
  {
   "cell_type": "code",
   "execution_count": null,
   "metadata": {},
   "outputs": [],
   "source": [
    "!mkdir -p ~streamsadmin/.ssh\n",
    "!cp /root/.ssh/authorized_keys ~streamsadmin/.ssh\n",
    "!chown -R streamsadmin ~streamsadmin/.ssh\n",
    "!usermod -aG wheel streamsadmin"
   ]
  }
 ],
 "metadata": {
  "kernelspec": {
   "display_name": "Python 3",
   "language": "python",
   "name": "python3"
  },
  "language_info": {
   "codemirror_mode": {
    "name": "ipython",
    "version": 3
   },
   "file_extension": ".py",
   "mimetype": "text/x-python",
   "name": "python",
   "nbconvert_exporter": "python",
   "pygments_lexer": "ipython3",
   "version": "3.6.5"
  }
 },
 "nbformat": 4,
 "nbformat_minor": 2
}
